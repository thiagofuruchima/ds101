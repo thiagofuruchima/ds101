{
  "nbformat": 4,
  "nbformat_minor": 0,
  "metadata": {
    "colab": {
      "name": "Inferential Statistics - Traditional x Bootstraping.ipynb",
      "provenance": [],
      "toc_visible": true,
      "authorship_tag": "ABX9TyMjIikzENDd8EH/P+S9Ubp0",
      "include_colab_link": true
    },
    "kernelspec": {
      "display_name": "Python 3",
      "name": "python3"
    }
  },
  "cells": [
    {
      "cell_type": "markdown",
      "metadata": {
        "id": "view-in-github",
        "colab_type": "text"
      },
      "source": [
        "<a href=\"https://colab.research.google.com/github/thiagofuruchima/ds101/blob/main/inferential_statistics_traditional_x_bootstraping.ipynb\" target=\"_parent\"><img src=\"https://colab.research.google.com/assets/colab-badge.svg\" alt=\"Open In Colab\"/></a>"
      ]
    },
    {
      "cell_type": "markdown",
      "metadata": {
        "id": "KkhLd32jFMnP"
      },
      "source": [
        "## Inferential Statistics - Traditional x Bootstraping\r\n",
        "\r\n",
        "I'm using this notebok to better understand inferential statistics, specially the differences between traditional and bootstraping approaches for confidence interval (CI) estimation and hypothesis testing.\r\n",
        "\r\n",
        "A simple well-know dataset is used in this analysis. This dataset will be taken as our population, and a single Simple Random Sample (SRS) is going to be used."
      ]
    },
    {
      "cell_type": "markdown",
      "metadata": {
        "id": "2jmNKiayIm0n"
      },
      "source": [
        "## Data preparation\r\n",
        "\r\n",
        "We're not going to do a full EDA, since our goal is just to get a better undertanding on inferential statistcs."
      ]
    },
    {
      "cell_type": "code",
      "metadata": {
        "id": "ljKWzL1Baa9z"
      },
      "source": [
        "# load the libraries\r\n",
        "import pandas as pd\r\n",
        "import numpy as np\r\n",
        "import matplotlib.pyplot as plt\r\n",
        "import seaborn as sns\r\n",
        "import statsmodels.stats.api as sms\r\n",
        "from scipy import stats"
      ],
      "execution_count": 529,
      "outputs": []
    },
    {
      "cell_type": "code",
      "metadata": {
        "id": "cHdhW567amX6"
      },
      "source": [
        "# load the titanic dataset\r\n",
        "df = sns.load_dataset('titanic')"
      ],
      "execution_count": 530,
      "outputs": []
    },
    {
      "cell_type": "code",
      "metadata": {
        "id": "fxGKksHebBhx",
        "colab": {
          "base_uri": "https://localhost:8080/"
        },
        "outputId": "b8f93d6a-ae64-4aea-faaf-5dd29c5da781"
      },
      "source": [
        "# check the shape\r\n",
        "df.shape"
      ],
      "execution_count": 531,
      "outputs": [
        {
          "output_type": "execute_result",
          "data": {
            "text/plain": [
              "(891, 15)"
            ]
          },
          "metadata": {
            "tags": []
          },
          "execution_count": 531
        }
      ]
    },
    {
      "cell_type": "code",
      "metadata": {
        "id": "w7ua88KxGMRR",
        "colab": {
          "base_uri": "https://localhost:8080/"
        },
        "outputId": "7e64e857-e2b9-41fd-f7bd-d1726df809fa"
      },
      "source": [
        "# check the datatypes\r\n",
        "df.dtypes"
      ],
      "execution_count": 532,
      "outputs": [
        {
          "output_type": "execute_result",
          "data": {
            "text/plain": [
              "survived          int64\n",
              "pclass            int64\n",
              "sex              object\n",
              "age             float64\n",
              "sibsp             int64\n",
              "parch             int64\n",
              "fare            float64\n",
              "embarked         object\n",
              "class          category\n",
              "who              object\n",
              "adult_male         bool\n",
              "deck           category\n",
              "embark_town      object\n",
              "alive            object\n",
              "alone              bool\n",
              "dtype: object"
            ]
          },
          "metadata": {
            "tags": []
          },
          "execution_count": 532
        }
      ]
    },
    {
      "cell_type": "code",
      "metadata": {
        "id": "Rcfy9C3pGPP2",
        "colab": {
          "base_uri": "https://localhost:8080/"
        },
        "outputId": "1c13a719-8fae-45e0-93fc-6be9ebea002f"
      },
      "source": [
        "# check for null values\r\n",
        "df.isna().sum()"
      ],
      "execution_count": 533,
      "outputs": [
        {
          "output_type": "execute_result",
          "data": {
            "text/plain": [
              "survived         0\n",
              "pclass           0\n",
              "sex              0\n",
              "age            177\n",
              "sibsp            0\n",
              "parch            0\n",
              "fare             0\n",
              "embarked         2\n",
              "class            0\n",
              "who              0\n",
              "adult_male       0\n",
              "deck           688\n",
              "embark_town      2\n",
              "alive            0\n",
              "alone            0\n",
              "dtype: int64"
            ]
          },
          "metadata": {
            "tags": []
          },
          "execution_count": 533
        }
      ]
    },
    {
      "cell_type": "code",
      "metadata": {
        "id": "fiwkL4LDa_Qi",
        "colab": {
          "base_uri": "https://localhost:8080/",
          "height": 199
        },
        "outputId": "4affcc2f-ddce-46ec-8244-a16913d2f18e"
      },
      "source": [
        "# check the first 5 rows\r\n",
        "df.head()"
      ],
      "execution_count": 534,
      "outputs": [
        {
          "output_type": "execute_result",
          "data": {
            "text/html": [
              "<div>\n",
              "<style scoped>\n",
              "    .dataframe tbody tr th:only-of-type {\n",
              "        vertical-align: middle;\n",
              "    }\n",
              "\n",
              "    .dataframe tbody tr th {\n",
              "        vertical-align: top;\n",
              "    }\n",
              "\n",
              "    .dataframe thead th {\n",
              "        text-align: right;\n",
              "    }\n",
              "</style>\n",
              "<table border=\"1\" class=\"dataframe\">\n",
              "  <thead>\n",
              "    <tr style=\"text-align: right;\">\n",
              "      <th></th>\n",
              "      <th>survived</th>\n",
              "      <th>pclass</th>\n",
              "      <th>sex</th>\n",
              "      <th>age</th>\n",
              "      <th>sibsp</th>\n",
              "      <th>parch</th>\n",
              "      <th>fare</th>\n",
              "      <th>embarked</th>\n",
              "      <th>class</th>\n",
              "      <th>who</th>\n",
              "      <th>adult_male</th>\n",
              "      <th>deck</th>\n",
              "      <th>embark_town</th>\n",
              "      <th>alive</th>\n",
              "      <th>alone</th>\n",
              "    </tr>\n",
              "  </thead>\n",
              "  <tbody>\n",
              "    <tr>\n",
              "      <th>0</th>\n",
              "      <td>0</td>\n",
              "      <td>3</td>\n",
              "      <td>male</td>\n",
              "      <td>22.0</td>\n",
              "      <td>1</td>\n",
              "      <td>0</td>\n",
              "      <td>7.2500</td>\n",
              "      <td>S</td>\n",
              "      <td>Third</td>\n",
              "      <td>man</td>\n",
              "      <td>True</td>\n",
              "      <td>NaN</td>\n",
              "      <td>Southampton</td>\n",
              "      <td>no</td>\n",
              "      <td>False</td>\n",
              "    </tr>\n",
              "    <tr>\n",
              "      <th>1</th>\n",
              "      <td>1</td>\n",
              "      <td>1</td>\n",
              "      <td>female</td>\n",
              "      <td>38.0</td>\n",
              "      <td>1</td>\n",
              "      <td>0</td>\n",
              "      <td>71.2833</td>\n",
              "      <td>C</td>\n",
              "      <td>First</td>\n",
              "      <td>woman</td>\n",
              "      <td>False</td>\n",
              "      <td>C</td>\n",
              "      <td>Cherbourg</td>\n",
              "      <td>yes</td>\n",
              "      <td>False</td>\n",
              "    </tr>\n",
              "    <tr>\n",
              "      <th>2</th>\n",
              "      <td>1</td>\n",
              "      <td>3</td>\n",
              "      <td>female</td>\n",
              "      <td>26.0</td>\n",
              "      <td>0</td>\n",
              "      <td>0</td>\n",
              "      <td>7.9250</td>\n",
              "      <td>S</td>\n",
              "      <td>Third</td>\n",
              "      <td>woman</td>\n",
              "      <td>False</td>\n",
              "      <td>NaN</td>\n",
              "      <td>Southampton</td>\n",
              "      <td>yes</td>\n",
              "      <td>True</td>\n",
              "    </tr>\n",
              "    <tr>\n",
              "      <th>3</th>\n",
              "      <td>1</td>\n",
              "      <td>1</td>\n",
              "      <td>female</td>\n",
              "      <td>35.0</td>\n",
              "      <td>1</td>\n",
              "      <td>0</td>\n",
              "      <td>53.1000</td>\n",
              "      <td>S</td>\n",
              "      <td>First</td>\n",
              "      <td>woman</td>\n",
              "      <td>False</td>\n",
              "      <td>C</td>\n",
              "      <td>Southampton</td>\n",
              "      <td>yes</td>\n",
              "      <td>False</td>\n",
              "    </tr>\n",
              "    <tr>\n",
              "      <th>4</th>\n",
              "      <td>0</td>\n",
              "      <td>3</td>\n",
              "      <td>male</td>\n",
              "      <td>35.0</td>\n",
              "      <td>0</td>\n",
              "      <td>0</td>\n",
              "      <td>8.0500</td>\n",
              "      <td>S</td>\n",
              "      <td>Third</td>\n",
              "      <td>man</td>\n",
              "      <td>True</td>\n",
              "      <td>NaN</td>\n",
              "      <td>Southampton</td>\n",
              "      <td>no</td>\n",
              "      <td>True</td>\n",
              "    </tr>\n",
              "  </tbody>\n",
              "</table>\n",
              "</div>"
            ],
            "text/plain": [
              "   survived  pclass     sex   age  ...  deck  embark_town  alive  alone\n",
              "0         0       3    male  22.0  ...   NaN  Southampton     no  False\n",
              "1         1       1  female  38.0  ...     C    Cherbourg    yes  False\n",
              "2         1       3  female  26.0  ...   NaN  Southampton    yes   True\n",
              "3         1       1  female  35.0  ...     C  Southampton    yes  False\n",
              "4         0       3    male  35.0  ...   NaN  Southampton     no   True\n",
              "\n",
              "[5 rows x 15 columns]"
            ]
          },
          "metadata": {
            "tags": []
          },
          "execution_count": 534
        }
      ]
    },
    {
      "cell_type": "code",
      "metadata": {
        "id": "H66fpbxDKBvt"
      },
      "source": [
        "# Take a SRS from the population\r\n",
        "sample_size = 100\r\n",
        "sample_df = df.sample(sample_size, replace=True)"
      ],
      "execution_count": 535,
      "outputs": []
    },
    {
      "cell_type": "markdown",
      "metadata": {
        "id": "1sFQk_2zJOWO"
      },
      "source": [
        "## What is the 95% CI for the 'fare' price"
      ]
    },
    {
      "cell_type": "code",
      "metadata": {
        "colab": {
          "base_uri": "https://localhost:8080/"
        },
        "id": "rVtI-wh_bmP3",
        "outputId": "2d139298-6be9-4bd2-d2d9-fc5cd6782941"
      },
      "source": [
        "# Compute the mean, std for the 'fare' from our population\r\n",
        "# This is NOT going to be used in inference, it is just for comparision\r\n",
        "pop_mean, pop_std = df['fare'].mean(), df['fare'].std()\r\n",
        "pop_mean, pop_std"
      ],
      "execution_count": 536,
      "outputs": [
        {
          "output_type": "execute_result",
          "data": {
            "text/plain": [
              "(32.2042079685746, 49.693428597180905)"
            ]
          },
          "metadata": {
            "tags": []
          },
          "execution_count": 536
        }
      ]
    },
    {
      "cell_type": "markdown",
      "metadata": {
        "id": "UBC_VoHVbeEK"
      },
      "source": [
        "### Traditional Approach"
      ]
    },
    {
      "cell_type": "code",
      "metadata": {
        "colab": {
          "base_uri": "https://localhost:8080/"
        },
        "id": "G8amhN_ibcy7",
        "outputId": "26e3fe8f-be4a-4429-f8b1-2d6ce3439c67"
      },
      "source": [
        "# calculate the sample_mean and sample_standard_deviation\r\n",
        "sample_mean = sample_df['fare'].mean()\r\n",
        "standard_error = sample_df['fare'].std()/np.sqrt(sample_size)\r\n",
        "\r\n",
        "sample_mean, standard_error"
      ],
      "execution_count": 537,
      "outputs": [
        {
          "output_type": "execute_result",
          "data": {
            "text/plain": [
              "(37.05153999999999, 4.730973833373063)"
            ]
          },
          "metadata": {
            "tags": []
          },
          "execution_count": 537
        }
      ]
    },
    {
      "cell_type": "code",
      "metadata": {
        "colab": {
          "base_uri": "https://localhost:8080/"
        },
        "id": "RCohIz2eTiR9",
        "outputId": "1c29b16a-e1d5-4ec7-b7c7-bcbcf71ecbc1"
      },
      "source": [
        "# the critical value for 95% CI using the Z-Dist\r\n",
        "stats.norm.ppf(0.025), stats.norm.ppf(.975)"
      ],
      "execution_count": 538,
      "outputs": [
        {
          "output_type": "execute_result",
          "data": {
            "text/plain": [
              "(-1.9599639845400545, 1.959963984540054)"
            ]
          },
          "metadata": {
            "tags": []
          },
          "execution_count": 538
        }
      ]
    },
    {
      "cell_type": "code",
      "metadata": {
        "colab": {
          "base_uri": "https://localhost:8080/"
        },
        "id": "Ix-4xPBHT0Bu",
        "outputId": "0d5bef72-0041-4974-e800-1550334e3b06"
      },
      "source": [
        "# the critical value for 95% CI using the T-Dist\r\n",
        "stats.t.ppf(0.025, df=sample_size-1), stats.t.ppf(.975, df=sample_size-1)"
      ],
      "execution_count": 539,
      "outputs": [
        {
          "output_type": "execute_result",
          "data": {
            "text/plain": [
              "(-1.9842169515086832, 1.9842169515086827)"
            ]
          },
          "metadata": {
            "tags": []
          },
          "execution_count": 539
        }
      ]
    },
    {
      "cell_type": "markdown",
      "metadata": {
        "id": "CNx45FskUaJo"
      },
      "source": [
        "Since we're inferencing the population mean, and our sample size is 'small', we can't use the z-distribution, and have to use the t-distribution"
      ]
    },
    {
      "cell_type": "code",
      "metadata": {
        "colab": {
          "base_uri": "https://localhost:8080/"
        },
        "id": "d3a3gFQ2TP7k",
        "outputId": "52717d26-e586-44b8-8ab4-753963eafb1d"
      },
      "source": [
        "# Calculate the critical value for 95% CI (between 2.5% and 97.5%)\r\n",
        "critical_value = stats.t.ppf(.975, df=sample_size-1)\r\n",
        "\r\n",
        "critical_value"
      ],
      "execution_count": 540,
      "outputs": [
        {
          "output_type": "execute_result",
          "data": {
            "text/plain": [
              "1.9842169515086827"
            ]
          },
          "metadata": {
            "tags": []
          },
          "execution_count": 540
        }
      ]
    },
    {
      "cell_type": "code",
      "metadata": {
        "colab": {
          "base_uri": "https://localhost:8080/"
        },
        "id": "1bPuAnFsTMkj",
        "outputId": "a09ddff5-c31b-4bcd-abf1-15561ee6e2f5"
      },
      "source": [
        "# Calculate the 95% CI\r\n",
        "ci_lower = sample_mean-standard_error*critical_value\r\n",
        "ci_upper = sample_mean+standard_error*critical_value\r\n",
        "\r\n",
        "ci_lower, ci_upper"
      ],
      "execution_count": 541,
      "outputs": [
        {
          "output_type": "execute_result",
          "data": {
            "text/plain": [
              "(27.664261522677144, 46.43881847732283)"
            ]
          },
          "metadata": {
            "tags": []
          },
          "execution_count": 541
        }
      ]
    },
    {
      "cell_type": "code",
      "metadata": {
        "colab": {
          "base_uri": "https://localhost:8080/"
        },
        "id": "x6NE-6O5VSz2",
        "outputId": "33ac9dd9-2a2b-4294-f572-2cfacc82677c"
      },
      "source": [
        "# Print the results\r\n",
        "print(\"Statistic:\", sample_mean)\r\n",
        "print(\"Confidence Interval:\", ci_lower, ci_upper)\r\n",
        "print(\"Margin of Error: +-\", critical_value*standard_error)"
      ],
      "execution_count": 542,
      "outputs": [
        {
          "output_type": "stream",
          "text": [
            "Statistic: 37.05153999999999\n",
            "Confidence Interval: 27.664261522677144 46.43881847732283\n",
            "Margin of Error: +- 9.387278477322845\n"
          ],
          "name": "stdout"
        }
      ]
    },
    {
      "cell_type": "code",
      "metadata": {
        "colab": {
          "base_uri": "https://localhost:8080/"
        },
        "id": "dgKQtKcff3_7",
        "outputId": "9f167f1f-468b-48f1-9b3f-e0ef23ed9259"
      },
      "source": [
        "# 95% CI using the statsmodels\r\n",
        "sms.DescrStatsW(sample_df['fare']).tconfint_mean(alpha=0.05)"
      ],
      "execution_count": 543,
      "outputs": [
        {
          "output_type": "execute_result",
          "data": {
            "text/plain": [
              "(27.664261522677158, 46.43881847732285)"
            ]
          },
          "metadata": {
            "tags": []
          },
          "execution_count": 543
        }
      ]
    },
    {
      "cell_type": "code",
      "metadata": {
        "colab": {
          "base_uri": "https://localhost:8080/"
        },
        "id": "7rqhja-rpMOw",
        "outputId": "2f637f8a-59cb-4fc5-b9c4-552b036fb54b"
      },
      "source": [
        "# 95% CI using the scipy\r\n",
        "stats.t.interval(0.95, df=sample_size-1 ,loc=sample_mean, scale=standard_error)"
      ],
      "execution_count": 544,
      "outputs": [
        {
          "output_type": "execute_result",
          "data": {
            "text/plain": [
              "(27.664261522677144, 46.43881847732283)"
            ]
          },
          "metadata": {
            "tags": []
          },
          "execution_count": 544
        }
      ]
    },
    {
      "cell_type": "code",
      "metadata": {
        "colab": {
          "base_uri": "https://localhost:8080/",
          "height": 265
        },
        "id": "TmN2itiLqbMq",
        "outputId": "e0e72f94-76f5-4c4d-f558-9070655d485c"
      },
      "source": [
        "# Plot the sample distribution \r\n",
        "plt.hist(np.random.normal(sample_mean, standard_error, 10000), bins=20, alpha=.2)\r\n",
        "plt.axvline(x = pop_mean, color = \"black\", linestyle = \"dotted\", label='Population Mean')\r\n",
        "plt.axvline(x = sample_mean, color = \"red\", linestyle = \"dotted\", label='Sample Mean')\r\n",
        "plt.axvline(x = ci_lower, color = \"pink\", linestyle = \"dotted\", label='CI 95%')\r\n",
        "plt.axvline(x = ci_upper, color = \"pink\", linestyle = \"dotted\")\r\n",
        "plt.legend()\r\n",
        "plt.show()"
      ],
      "execution_count": 545,
      "outputs": [
        {
          "output_type": "display_data",
          "data": {
            "image/png": "[encoded data removed]",
            "text/plain": [
              "<Figure size 432x288 with 1 Axes>"
            ]
          },
          "metadata": {
            "tags": [],
            "needs_background": "light"
          }
        }
      ]
    },
    {
      "cell_type": "markdown",
      "metadata": {
        "id": "64m0W-fYckbK"
      },
      "source": [
        "### Bootstraping Approach\r\n",
        "1. Take the sample\r\n",
        "2. Take n bootstrap samples from the sample\r\n",
        "3. Compute the mean for each bootstrap sample\r\n",
        "4. Compute the percentiles (.025 and .0975) of the bootstrap sample means"
      ]
    },
    {
      "cell_type": "code",
      "metadata": {
        "id": "zJsaJaw8cpHK"
      },
      "source": [
        "# take n bootstrap samples from the sample\r\n",
        "bootstrap_means_list = []\r\n",
        "for _ in range(10000):\r\n",
        "  # take one bootstrap sample\r\n",
        "  bootstrap_sample = sample_df.sample(sample_size, replace=True)\r\n",
        "  # compute the statistic for each sample\r\n",
        "  bootstrap_mean = bootstrap_sample['fare'].mean()\r\n",
        "  # add to the list\r\n",
        "  bootstrap_means_list.append(bootstrap_mean)\r\n",
        "\r\n",
        "# use the list to generate a DataFrame (for ease of use)\r\n",
        "bootstrap_means_df = pd.DataFrame({\"Bootstrap\":bootstrap_means_list})"
      ],
      "execution_count": 546,
      "outputs": []
    },
    {
      "cell_type": "code",
      "metadata": {
        "colab": {
          "base_uri": "https://localhost:8080/"
        },
        "id": "bxslDA6SzKo6",
        "outputId": "f7532c24-a103-4593-bcd5-da771b8b45ac"
      },
      "source": [
        "# Calculate the sample distribution mean\r\n",
        "bootstrap_mean = bootstrap_means_df['Bootstrap'].mean()\r\n",
        "bootstrap_mean"
      ],
      "execution_count": 547,
      "outputs": [
        {
          "output_type": "execute_result",
          "data": {
            "text/plain": [
              "37.060840925900095"
            ]
          },
          "metadata": {
            "tags": []
          },
          "execution_count": 547
        }
      ]
    },
    {
      "cell_type": "code",
      "metadata": {
        "colab": {
          "base_uri": "https://localhost:8080/"
        },
        "id": "hcy600wfxLhe",
        "outputId": "a64c3d5b-3e52-4dfb-c257-dc6966d63d4c"
      },
      "source": [
        "# Calculate the 95% CI using the percentiles from the bootstrap sample means\r\n",
        "bootstrap_ci_lower = bootstrap_means_df['Bootstrap'].quantile(.025)\r\n",
        "bootstrap_ci_upper = bootstrap_means_df['Bootstrap'].quantile(.975)\r\n",
        "bootstrap_ci_lower, bootstrap_ci_upper"
      ],
      "execution_count": 548,
      "outputs": [
        {
          "output_type": "execute_result",
          "data": {
            "text/plain": [
              "(28.53416784999999, 46.69514012499999)"
            ]
          },
          "metadata": {
            "tags": []
          },
          "execution_count": 548
        }
      ]
    },
    {
      "cell_type": "code",
      "metadata": {
        "colab": {
          "base_uri": "https://localhost:8080/"
        },
        "id": "U7dk4hfmw8_I",
        "outputId": "a0b94e78-c90c-4b00-e877-e275b39c1eeb"
      },
      "source": [
        "# Print the results\r\n",
        "print(\"Statistic:\", bootstrap_mean)\r\n",
        "print(\"Confidence Interval:\", bootstrap_ci_lower, bootstrap_ci_upper)\r\n",
        "print(\"Margin of Error: TODO\") # What is the right way to calculate the Margin of Error (since quantiles are not symetric)"
      ],
      "execution_count": 549,
      "outputs": [
        {
          "output_type": "stream",
          "text": [
            "Statistic: 37.060840925900095\n",
            "Confidence Interval: 28.53416784999999 46.69514012499999\n",
            "Margin of Error: TODO\n"
          ],
          "name": "stdout"
        }
      ]
    },
    {
      "cell_type": "code",
      "metadata": {
        "colab": {
          "base_uri": "https://localhost:8080/",
          "height": 269
        },
        "id": "GlckI4lguth1",
        "outputId": "ddf826cb-20f5-4225-a53e-b6b7139a17f6"
      },
      "source": [
        "# plot the distribution from the bootstrap means \r\n",
        "bootstrap_means_df.plot(kind='hist', bins=20, alpha=0.2)\r\n",
        "plt.axvline(x = pop_mean, color = \"black\", linestyle = \"dotted\", label='Population Mean')\r\n",
        "plt.axvline(x = bootstrap_mean, color = \"red\", linestyle = \"dotted\", label='Sample Mean')\r\n",
        "plt.axvline(x = bootstrap_ci_lower, color = \"pink\", linestyle = \"dotted\", label='CI 95%')\r\n",
        "plt.axvline(x = bootstrap_ci_upper, color = \"pink\", linestyle = \"dotted\")\r\n",
        "plt.legend()\r\n",
        "plt.show()"
      ],
      "execution_count": 550,
      "outputs": [
        {
          "output_type": "display_data",
          "data": {
            "image/png": "[encoded data removed]",
            "text/plain": [
              "<Figure size 432x288 with 1 Axes>"
            ]
          },
          "metadata": {
            "tags": [],
            "needs_background": "light"
          }
        }
      ]
    },
    {
      "cell_type": "markdown",
      "metadata": {
        "id": "gnUKkyrljGay"
      },
      "source": [
        "## Do men pay more for the ticket than women?"
      ]
    },
    {
      "cell_type": "markdown",
      "metadata": {
        "id": "Q1rUrVb2gGiD"
      },
      "source": [
        "$$ \r\n",
        "H_0: \\mu_{male} - \\mu_{female} \\le 0\r\n",
        "$$"
      ]
    },
    {
      "cell_type": "markdown",
      "metadata": {
        "id": "SuqMVhnggNsr"
      },
      "source": [
        "$$\r\n",
        "H_1: \\mu_{male} - \\mu_{female} \\gt 0 \r\n",
        "$$"
      ]
    },
    {
      "cell_type": "markdown",
      "metadata": {
        "id": "ItAuVmjt_A-T"
      },
      "source": [
        "### Traditional Approach\r\n",
        "\r\n",
        "The traditional approach to this type of hypothesis is to perform a t-test for the means of two independent samples, a.k.a. Two Sample T-Test."
      ]
    },
    {
      "cell_type": "code",
      "metadata": {
        "id": "50tiNfH9vkaf"
      },
      "source": [
        "# define the significance level for our hypotesis tests\r\n",
        "alpha = 0.05"
      ],
      "execution_count": 551,
      "outputs": []
    },
    {
      "cell_type": "code",
      "metadata": {
        "id": "W4-zdnx0tGF0"
      },
      "source": [
        "# separate the gender's fare's in two dataframes\r\n",
        "male_fares_df = sample_df[sample_df['sex']=='male']['fare']\r\n",
        "female_fares_df = sample_df[sample_df['sex']=='female']['fare']"
      ],
      "execution_count": 552,
      "outputs": []
    },
    {
      "cell_type": "code",
      "metadata": {
        "colab": {
          "base_uri": "https://localhost:8080/"
        },
        "id": "xvtn2kgkte82",
        "outputId": "8530f63e-3695-4826-ae86-05bb40ddf86f"
      },
      "source": [
        "# Performe the levene test to check if the variances are statistically equal or not,\r\n",
        "_, pvalue_levene = stats.levene(male_fares_df, female_fares_df)\r\n",
        "\r\n",
        "# use levene's result to decide if the variances are equal or not \r\n",
        "equal_variances = pvalue_levene < alpha\r\n",
        "\r\n",
        "equal_variances"
      ],
      "execution_count": 553,
      "outputs": [
        {
          "output_type": "execute_result",
          "data": {
            "text/plain": [
              "False"
            ]
          },
          "metadata": {
            "tags": []
          },
          "execution_count": 553
        }
      ]
    },
    {
      "cell_type": "code",
      "metadata": {
        "colab": {
          "base_uri": "https://localhost:8080/"
        },
        "id": "kzaPaUZkttX3",
        "outputId": "afee77c5-4e7c-4002-c075-2bd7ab540771"
      },
      "source": [
        "# Use scypy.stats.ttest_ind to perform the two sample t-test\r\n",
        "_, pvalue_ttest = stats.ttest_ind(male_fares_df, female_fares_df, equal_var=equal_variances)\r\n",
        "_, pvalue_ttest"
      ],
      "execution_count": 579,
      "outputs": [
        {
          "output_type": "execute_result",
          "data": {
            "text/plain": [
              "(-1.6332329400404022, 0.1078509057062949)"
            ]
          },
          "metadata": {
            "tags": []
          },
          "execution_count": 579
        }
      ]
    },
    {
      "cell_type": "code",
      "metadata": {
        "id": "8pnBdcfYLL5O",
        "outputId": "00300cda-b4d8-49e1-bda5-8a3309f90514",
        "colab": {
          "base_uri": "https://localhost:8080/"
        }
      },
      "source": [
        "# Since the ttest_ind H1 is for the differences on both ends of a t-distribution,\r\n",
        "# and we're only interested in one end, we're going to divide the p-value by 2\r\n",
        "pvalue_ttest /= 2\r\n",
        "pvalue_ttest"
      ],
      "execution_count": 555,
      "outputs": [
        {
          "output_type": "execute_result",
          "data": {
            "text/plain": [
              "0.05392545285314745"
            ]
          },
          "metadata": {
            "tags": []
          },
          "execution_count": 555
        }
      ]
    },
    {
      "cell_type": "code",
      "metadata": {
        "colab": {
          "base_uri": "https://localhost:8080/"
        },
        "id": "7kRw1f8ywN0t",
        "outputId": "6cab37b3-c2a3-4afe-cfb2-b6986c1b909a"
      },
      "source": [
        "# Use the t-test two sample result to evaluate H0\r\n",
        "if (pvalue_ttest < alpha):\r\n",
        "  print(\"We have evidence to reject the null hypothesis. Men pay more for tickets than women.\")\r\n",
        "else:\r\n",
        "  print(\"We don't have evidence to reject the null hypothesis. Men don't pay more for tickets than women.\")"
      ],
      "execution_count": 556,
      "outputs": [
        {
          "output_type": "stream",
          "text": [
            "We don't have evidence to reject the null hypothesis. Men don't pay more for tickets than women.\n"
          ],
          "name": "stdout"
        }
      ]
    },
    {
      "cell_type": "markdown",
      "metadata": {
        "id": "lZZw2SGj-WB4"
      },
      "source": [
        "### Bootstrap Approach\r\n",
        "\r\n",
        "1. Take the sample\r\n",
        "2. Take n bootstrap samples from the sample\r\n",
        "3. Compute the mean for each bootstrap sample\r\n",
        "4. Simulate the distribution under H0\r\n",
        "5. Compare the booststrap sample distribution and the H0 distribution  "
      ]
    },
    {
      "cell_type": "code",
      "metadata": {
        "id": "wTpUZBHwkJNf"
      },
      "source": [
        "bootstrap_means_male, bootstrap_means_female = [], []\r\n",
        "\r\n",
        "# take n bootstrap samples from the sample\r\n",
        "for _ in range(10000):\r\n",
        "  # take one bootstrap sample\r\n",
        "  bootstrap_sample = sample_df.sample(sample_size, replace=True)\r\n",
        "  # compute the statistic for each sample and add to the list\r\n",
        "  bootstrap_means_male.append(bootstrap_sample[bootstrap_sample['sex']=='male']['fare'].mean())\r\n",
        "  bootstrap_means_female.append(bootstrap_sample[bootstrap_sample['sex']=='female']['fare'].mean())\r\n",
        "\r\n",
        "# use the lists to generate a DataFrame (for ease of use)\r\n",
        "bootstrap_means_df = pd.DataFrame({'male':bootstrap_means_male, 'female':bootstrap_means_female})\r\n",
        "\r\n",
        "# compute the mean diff between the two 'lists'\r\n",
        "bootstrap_means_df['diff'] = bootstrap_means_df['male']-bootstrap_means_df['female']"
      ],
      "execution_count": 557,
      "outputs": []
    },
    {
      "cell_type": "code",
      "metadata": {
        "colab": {
          "base_uri": "https://localhost:8080/",
          "height": 199
        },
        "id": "u_b4pW5HpK0E",
        "outputId": "cbefb090-4573-4279-bd61-077d4f6f3c74"
      },
      "source": [
        "bootstrap_means_df.head()"
      ],
      "execution_count": 558,
      "outputs": [
        {
          "output_type": "execute_result",
          "data": {
            "text/html": [
              "<div>\n",
              "<style scoped>\n",
              "    .dataframe tbody tr th:only-of-type {\n",
              "        vertical-align: middle;\n",
              "    }\n",
              "\n",
              "    .dataframe tbody tr th {\n",
              "        vertical-align: top;\n",
              "    }\n",
              "\n",
              "    .dataframe thead th {\n",
              "        text-align: right;\n",
              "    }\n",
              "</style>\n",
              "<table border=\"1\" class=\"dataframe\">\n",
              "  <thead>\n",
              "    <tr style=\"text-align: right;\">\n",
              "      <th></th>\n",
              "      <th>male</th>\n",
              "      <th>female</th>\n",
              "      <th>diff</th>\n",
              "    </tr>\n",
              "  </thead>\n",
              "  <tbody>\n",
              "    <tr>\n",
              "      <th>0</th>\n",
              "      <td>24.841453</td>\n",
              "      <td>59.117613</td>\n",
              "      <td>-34.276159</td>\n",
              "    </tr>\n",
              "    <tr>\n",
              "      <th>1</th>\n",
              "      <td>29.941406</td>\n",
              "      <td>67.323931</td>\n",
              "      <td>-37.382525</td>\n",
              "    </tr>\n",
              "    <tr>\n",
              "      <th>2</th>\n",
              "      <td>31.182700</td>\n",
              "      <td>49.820572</td>\n",
              "      <td>-18.637872</td>\n",
              "    </tr>\n",
              "    <tr>\n",
              "      <th>3</th>\n",
              "      <td>32.403420</td>\n",
              "      <td>54.947539</td>\n",
              "      <td>-22.544119</td>\n",
              "    </tr>\n",
              "    <tr>\n",
              "      <th>4</th>\n",
              "      <td>41.117483</td>\n",
              "      <td>49.581755</td>\n",
              "      <td>-8.464272</td>\n",
              "    </tr>\n",
              "  </tbody>\n",
              "</table>\n",
              "</div>"
            ],
            "text/plain": [
              "        male     female       diff\n",
              "0  24.841453  59.117613 -34.276159\n",
              "1  29.941406  67.323931 -37.382525\n",
              "2  31.182700  49.820572 -18.637872\n",
              "3  32.403420  54.947539 -22.544119\n",
              "4  41.117483  49.581755  -8.464272"
            ]
          },
          "metadata": {
            "tags": []
          },
          "execution_count": 558
        }
      ]
    },
    {
      "cell_type": "code",
      "metadata": {
        "colab": {
          "base_uri": "https://localhost:8080/"
        },
        "id": "cJvvONerpk0U",
        "outputId": "f5afdbb8-15ec-487e-fe87-4b3d2b7efd3d"
      },
      "source": [
        "print(bootstrap_means_df['male'].mean())\r\n",
        "print(bootstrap_means_df['female'].mean())"
      ],
      "execution_count": 559,
      "outputs": [
        {
          "output_type": "stream",
          "text": [
            "30.445771305508575\n",
            "47.68981496181845\n"
          ],
          "name": "stdout"
        }
      ]
    },
    {
      "cell_type": "code",
      "metadata": {
        "colab": {
          "base_uri": "https://localhost:8080/",
          "height": 282
        },
        "id": "cxkDgWCPrWBd",
        "outputId": "95516319-8ef0-4a20-ce3c-ebc63149332a"
      },
      "source": [
        "# Plot both (male and female) bootstraps distributions of the means \r\n",
        "bootstrap_means_df[['male', 'female']].plot(kind='hist', bins=20, alpha=.2)"
      ],
      "execution_count": 560,
      "outputs": [
        {
          "output_type": "execute_result",
          "data": {
            "text/plain": [
              "<matplotlib.axes._subplots.AxesSubplot at 0x7f2bb6594780>"
            ]
          },
          "metadata": {
            "tags": []
          },
          "execution_count": 560
        },
        {
          "output_type": "display_data",
          "data": {
            "image/png": "[encoded data removed]",
            "text/plain": [
              "<Figure size 432x288 with 1 Axes>"
            ]
          },
          "metadata": {
            "tags": [],
            "needs_background": "light"
          }
        }
      ]
    },
    {
      "cell_type": "code",
      "metadata": {
        "colab": {
          "base_uri": "https://localhost:8080/",
          "height": 282
        },
        "id": "zg-GQlFjvVsU",
        "outputId": "d250659f-068d-4719-b359-278a81d29206"
      },
      "source": [
        "# Plot the diff distribution \r\n",
        "bootstrap_means_df['diff'].plot(kind='hist', bins=20, alpha=.2)"
      ],
      "execution_count": 561,
      "outputs": [
        {
          "output_type": "execute_result",
          "data": {
            "text/plain": [
              "<matplotlib.axes._subplots.AxesSubplot at 0x7f2bb648e780>"
            ]
          },
          "metadata": {
            "tags": []
          },
          "execution_count": 561
        },
        {
          "output_type": "display_data",
          "data": {
            "image/png": "[encoded data removed]",
            "text/plain": [
              "<Figure size 432x288 with 1 Axes>"
            ]
          },
          "metadata": {
            "tags": [],
            "needs_background": "light"
          }
        }
      ]
    },
    {
      "cell_type": "code",
      "metadata": {
        "id": "yqKu1eJ4xFRe"
      },
      "source": [
        "# Simulate the distribution under the null hypothesis\r\n",
        "diff_means_h0 = []\r\n",
        "for _ in range(10000):\r\n",
        "  diff_means_h0.append(np.random.normal(0, bootstrap_means_df['diff'].std(), size=sample_size).mean())\r\n",
        "\r\n",
        "bootstrap_means_df['diff_h0'] = diff_means_h0"
      ],
      "execution_count": 618,
      "outputs": []
    },
    {
      "cell_type": "code",
      "metadata": {
        "colab": {
          "base_uri": "https://localhost:8080/",
          "height": 282
        },
        "id": "lZ1GTcA6yahf",
        "outputId": "1725a335-16d5-42a0-900b-b8b5d05ffa56"
      },
      "source": [
        "# Plot the null distribution \r\n",
        "bootstrap_means_df['diff_h0'].plot(kind='hist', bins=20, alpha=.2)"
      ],
      "execution_count": 619,
      "outputs": [
        {
          "output_type": "execute_result",
          "data": {
            "text/plain": [
              "<matplotlib.axes._subplots.AxesSubplot at 0x7f2bb5cf9320>"
            ]
          },
          "metadata": {
            "tags": []
          },
          "execution_count": 619
        },
        {
          "output_type": "display_data",
          "data": {
            "image/png": "[encoded data removed]",
            "text/plain": [
              "<Figure size 432x288 with 1 Axes>"
            ]
          },
          "metadata": {
            "tags": [],
            "needs_background": "light"
          }
        }
      ]
    },
    {
      "cell_type": "code",
      "metadata": {
        "colab": {
          "base_uri": "https://localhost:8080/",
          "height": 282
        },
        "id": "GY-pSar2Ntiz",
        "outputId": "38e111a1-b624-499d-9995-311e105e4b15"
      },
      "source": [
        "# Plot both (diff and h0) bootstraps distributions of the means \r\n",
        "bootstrap_means_df[['diff', 'diff_h0']].plot(kind='hist', bins=200, alpha=.2)"
      ],
      "execution_count": 620,
      "outputs": [
        {
          "output_type": "execute_result",
          "data": {
            "text/plain": [
              "<matplotlib.axes._subplots.AxesSubplot at 0x7f2bb5c1fc88>"
            ]
          },
          "metadata": {
            "tags": []
          },
          "execution_count": 620
        },
        {
          "output_type": "display_data",
          "data": {
            "image/png": "[encoded data removed]",
            "text/plain": [
              "<Figure size 432x288 with 1 Axes>"
            ]
          },
          "metadata": {
            "tags": [],
            "needs_background": "light"
          }
        }
      ]
    },
    {
      "cell_type": "code",
      "metadata": {
        "id": "UVtDbfjFgwGj",
        "colab": {
          "base_uri": "https://localhost:8080/"
        },
        "outputId": "5fae9f8b-a0d4-4a37-94ba-2a70dcbc81db"
      },
      "source": [
        "# Out of N Bootstrap executions, how many times we observed the boot sample mean\r\n",
        "# Greater than the Null Hipótesis\r\n",
        "(bootstrap_means_df['diff'] >= bootstrap_means_df['diff_h0']).value_counts()"
      ],
      "execution_count": 621,
      "outputs": [
        {
          "output_type": "execute_result",
          "data": {
            "text/plain": [
              "False    9544\n",
              "True      456\n",
              "dtype: int64"
            ]
          },
          "metadata": {
            "tags": []
          },
          "execution_count": 621
        }
      ]
    },
    {
      "cell_type": "code",
      "metadata": {
        "id": "7CIqZfo2MhXl",
        "outputId": "15e4289e-d1a3-4454-b20f-a61123eeee73",
        "colab": {
          "base_uri": "https://localhost:8080/"
        }
      },
      "source": [
        "# Compute the bootstrap equivalent of the t-statistic\r\n",
        "(bootstrap_means_df['diff'].mean()-0)/bootstrap_means_df['diff'].std()"
      ],
      "execution_count": 623,
      "outputs": [
        {
          "output_type": "execute_result",
          "data": {
            "text/plain": [
              "-1.6236023481283113"
            ]
          },
          "metadata": {
            "tags": []
          },
          "execution_count": 623
        }
      ]
    },
    {
      "cell_type": "code",
      "metadata": {
        "id": "UJsDLpIbM7L1",
        "outputId": "2bb15c41-ed56-47b9-e615-e3359e440d4f",
        "colab": {
          "base_uri": "https://localhost:8080/"
        }
      },
      "source": [
        "pvalue_bootstrap = (bootstrap_means_df['diff'] > bootstrap_means_df['diff_h0']).mean()\r\n",
        "pvalue_bootstrap"
      ],
      "execution_count": 624,
      "outputs": [
        {
          "output_type": "execute_result",
          "data": {
            "text/plain": [
              "0.0456"
            ]
          },
          "metadata": {
            "tags": []
          },
          "execution_count": 624
        }
      ]
    },
    {
      "cell_type": "code",
      "metadata": {
        "colab": {
          "base_uri": "https://localhost:8080/"
        },
        "id": "8j9UTdtaxRAU",
        "outputId": "629744b6-2573-48ab-ed1f-dc4d510f218d"
      },
      "source": [
        "# Use the pvalue to evaluate H0\r\n",
        "if (pvalue_bootstrap < alpha):\r\n",
        "  print(\"We have evidence to reject the null hypothesis. Men pay more for tickets than women.\")\r\n",
        "else:\r\n",
        "  print(\"We don't have evidence to reject the null hypothesis. Men pay as much as women for tickets.\")"
      ],
      "execution_count": 570,
      "outputs": [
        {
          "output_type": "stream",
          "text": [
            "We have evidence to reject the null hypothesis. Men pay more for tickets than women.\n"
          ],
          "name": "stdout"
        }
      ]
    },
    {
      "cell_type": "code",
      "metadata": {
        "id": "8yaOf7hntd7W"
      },
      "source": [
        ""
      ],
      "execution_count": 570,
      "outputs": []
    }
  ]
}