{
  "nbformat": 4,
  "nbformat_minor": 0,
  "metadata": {
    "colab": {
      "name": "Inferential Statistics - Traditional x Bootstraping.ipynb",
      "provenance": [],
      "toc_visible": true,
      "authorship_tag": "ABX9TyMqjffxEN6MNVXCZZsMRY09",
      "include_colab_link": true
    },
    "kernelspec": {
      "display_name": "Python 3",
      "name": "python3"
    }
  },
  "cells": [
    {
      "cell_type": "markdown",
      "metadata": {
        "id": "view-in-github",
        "colab_type": "text"
      },
      "source": [
        "<a href=\"https://colab.research.google.com/github/thiagofuruchima/ds101/blob/main/inferential_statistics_traditional_x_bootstraping.ipynb\" target=\"_parent\"><img src=\"https://colab.research.google.com/assets/colab-badge.svg\" alt=\"Open In Colab\"/></a>"
      ]
    },
    {
      "cell_type": "markdown",
      "metadata": {
        "id": "KkhLd32jFMnP"
      },
      "source": [
        "### Inferential Statistics - Traditional x Bootstraping\r\n",
        "\r\n",
        "I'm using this notebok to better understand inferential statistics, specially the differences between traditional and bootstraping approaches for confidence interval (CI) estimation and hypothesis testing.\r\n",
        "\r\n",
        "A simple well-know dataset is used in this analysis. This dataset will be taken as our population, and a single Simple Random Sample (SRS) is going to be used."
      ]
    },
    {
      "cell_type": "markdown",
      "metadata": {
        "id": "2jmNKiayIm0n"
      },
      "source": [
        "### Data preparation\r\n",
        "\r\n",
        "We're not going to do a full EDA, since our goal is just to get a better undertanding on inferential statistcs."
      ]
    },
    {
      "cell_type": "code",
      "metadata": {
        "id": "ljKWzL1Baa9z",
        "colab": {
          "base_uri": "https://localhost:8080/"
        },
        "outputId": "0194ee65-6c3c-4681-ab43-7590bea6502e"
      },
      "source": [
        "# load the libraries\r\n",
        "import pandas as pd\r\n",
        "import numpy as np\r\n",
        "import matplotlib.pyplot as plt\r\n",
        "import seaborn as sns\r\n",
        "import statsmodels.stats.api as sms\r\n",
        "from scipy import stats"
      ],
      "execution_count": null,
      "outputs": [
        {
          "output_type": "stream",
          "text": [
            "/usr/local/lib/python3.6/dist-packages/statsmodels/tools/_testing.py:19: FutureWarning: pandas.util.testing is deprecated. Use the functions in the public API at pandas.testing instead.\n",
            "  import pandas.util.testing as tm\n"
          ],
          "name": "stderr"
        }
      ]
    },
    {
      "cell_type": "code",
      "metadata": {
        "id": "cHdhW567amX6"
      },
      "source": [
        "# load the famous titanic dataset\r\n",
        "df = sns.load_dataset('titanic')"
      ],
      "execution_count": null,
      "outputs": []
    },
    {
      "cell_type": "code",
      "metadata": {
        "id": "fxGKksHebBhx",
        "colab": {
          "base_uri": "https://localhost:8080/"
        },
        "outputId": "078d9b5e-8a5d-4278-e75c-0b840f31652f"
      },
      "source": [
        "# check the shape\r\n",
        "df.shape"
      ],
      "execution_count": null,
      "outputs": [
        {
          "output_type": "execute_result",
          "data": {
            "text/plain": [
              "(891, 15)"
            ]
          },
          "metadata": {
            "tags": []
          },
          "execution_count": 3
        }
      ]
    },
    {
      "cell_type": "code",
      "metadata": {
        "id": "w7ua88KxGMRR",
        "colab": {
          "base_uri": "https://localhost:8080/"
        },
        "outputId": "fa26a2e0-5ab5-468c-80d1-37afdcc9eace"
      },
      "source": [
        "# check the datatypes\r\n",
        "df.dtypes"
      ],
      "execution_count": null,
      "outputs": [
        {
          "output_type": "execute_result",
          "data": {
            "text/plain": [
              "survived          int64\n",
              "pclass            int64\n",
              "sex              object\n",
              "age             float64\n",
              "sibsp             int64\n",
              "parch             int64\n",
              "fare            float64\n",
              "embarked         object\n",
              "class          category\n",
              "who              object\n",
              "adult_male         bool\n",
              "deck           category\n",
              "embark_town      object\n",
              "alive            object\n",
              "alone              bool\n",
              "dtype: object"
            ]
          },
          "metadata": {
            "tags": []
          },
          "execution_count": 4
        }
      ]
    },
    {
      "cell_type": "code",
      "metadata": {
        "id": "Rcfy9C3pGPP2",
        "colab": {
          "base_uri": "https://localhost:8080/"
        },
        "outputId": "29913492-ce97-461d-9987-0ef12f6428bc"
      },
      "source": [
        "# check for null values\r\n",
        "df.isna().sum()"
      ],
      "execution_count": null,
      "outputs": [
        {
          "output_type": "execute_result",
          "data": {
            "text/plain": [
              "survived         0\n",
              "pclass           0\n",
              "sex              0\n",
              "age            177\n",
              "sibsp            0\n",
              "parch            0\n",
              "fare             0\n",
              "embarked         2\n",
              "class            0\n",
              "who              0\n",
              "adult_male       0\n",
              "deck           688\n",
              "embark_town      2\n",
              "alive            0\n",
              "alone            0\n",
              "dtype: int64"
            ]
          },
          "metadata": {
            "tags": []
          },
          "execution_count": 5
        }
      ]
    },
    {
      "cell_type": "code",
      "metadata": {
        "id": "fiwkL4LDa_Qi",
        "colab": {
          "base_uri": "https://localhost:8080/",
          "height": 225
        },
        "outputId": "c372a8d0-28b3-4134-b6ba-488250eb460c"
      },
      "source": [
        "# check the first 5 rows\r\n",
        "df.head()"
      ],
      "execution_count": null,
      "outputs": [
        {
          "output_type": "execute_result",
          "data": {
            "text/html": [
              "<div>\n",
              "<style scoped>\n",
              "    .dataframe tbody tr th:only-of-type {\n",
              "        vertical-align: middle;\n",
              "    }\n",
              "\n",
              "    .dataframe tbody tr th {\n",
              "        vertical-align: top;\n",
              "    }\n",
              "\n",
              "    .dataframe thead th {\n",
              "        text-align: right;\n",
              "    }\n",
              "</style>\n",
              "<table border=\"1\" class=\"dataframe\">\n",
              "  <thead>\n",
              "    <tr style=\"text-align: right;\">\n",
              "      <th></th>\n",
              "      <th>survived</th>\n",
              "      <th>pclass</th>\n",
              "      <th>sex</th>\n",
              "      <th>age</th>\n",
              "      <th>sibsp</th>\n",
              "      <th>parch</th>\n",
              "      <th>fare</th>\n",
              "      <th>embarked</th>\n",
              "      <th>class</th>\n",
              "      <th>who</th>\n",
              "      <th>adult_male</th>\n",
              "      <th>deck</th>\n",
              "      <th>embark_town</th>\n",
              "      <th>alive</th>\n",
              "      <th>alone</th>\n",
              "    </tr>\n",
              "  </thead>\n",
              "  <tbody>\n",
              "    <tr>\n",
              "      <th>0</th>\n",
              "      <td>0</td>\n",
              "      <td>3</td>\n",
              "      <td>male</td>\n",
              "      <td>22.0</td>\n",
              "      <td>1</td>\n",
              "      <td>0</td>\n",
              "      <td>7.2500</td>\n",
              "      <td>S</td>\n",
              "      <td>Third</td>\n",
              "      <td>man</td>\n",
              "      <td>True</td>\n",
              "      <td>NaN</td>\n",
              "      <td>Southampton</td>\n",
              "      <td>no</td>\n",
              "      <td>False</td>\n",
              "    </tr>\n",
              "    <tr>\n",
              "      <th>1</th>\n",
              "      <td>1</td>\n",
              "      <td>1</td>\n",
              "      <td>female</td>\n",
              "      <td>38.0</td>\n",
              "      <td>1</td>\n",
              "      <td>0</td>\n",
              "      <td>71.2833</td>\n",
              "      <td>C</td>\n",
              "      <td>First</td>\n",
              "      <td>woman</td>\n",
              "      <td>False</td>\n",
              "      <td>C</td>\n",
              "      <td>Cherbourg</td>\n",
              "      <td>yes</td>\n",
              "      <td>False</td>\n",
              "    </tr>\n",
              "    <tr>\n",
              "      <th>2</th>\n",
              "      <td>1</td>\n",
              "      <td>3</td>\n",
              "      <td>female</td>\n",
              "      <td>26.0</td>\n",
              "      <td>0</td>\n",
              "      <td>0</td>\n",
              "      <td>7.9250</td>\n",
              "      <td>S</td>\n",
              "      <td>Third</td>\n",
              "      <td>woman</td>\n",
              "      <td>False</td>\n",
              "      <td>NaN</td>\n",
              "      <td>Southampton</td>\n",
              "      <td>yes</td>\n",
              "      <td>True</td>\n",
              "    </tr>\n",
              "    <tr>\n",
              "      <th>3</th>\n",
              "      <td>1</td>\n",
              "      <td>1</td>\n",
              "      <td>female</td>\n",
              "      <td>35.0</td>\n",
              "      <td>1</td>\n",
              "      <td>0</td>\n",
              "      <td>53.1000</td>\n",
              "      <td>S</td>\n",
              "      <td>First</td>\n",
              "      <td>woman</td>\n",
              "      <td>False</td>\n",
              "      <td>C</td>\n",
              "      <td>Southampton</td>\n",
              "      <td>yes</td>\n",
              "      <td>False</td>\n",
              "    </tr>\n",
              "    <tr>\n",
              "      <th>4</th>\n",
              "      <td>0</td>\n",
              "      <td>3</td>\n",
              "      <td>male</td>\n",
              "      <td>35.0</td>\n",
              "      <td>0</td>\n",
              "      <td>0</td>\n",
              "      <td>8.0500</td>\n",
              "      <td>S</td>\n",
              "      <td>Third</td>\n",
              "      <td>man</td>\n",
              "      <td>True</td>\n",
              "      <td>NaN</td>\n",
              "      <td>Southampton</td>\n",
              "      <td>no</td>\n",
              "      <td>True</td>\n",
              "    </tr>\n",
              "  </tbody>\n",
              "</table>\n",
              "</div>"
            ],
            "text/plain": [
              "   survived  pclass     sex   age  ...  deck  embark_town  alive  alone\n",
              "0         0       3    male  22.0  ...   NaN  Southampton     no  False\n",
              "1         1       1  female  38.0  ...     C    Cherbourg    yes  False\n",
              "2         1       3  female  26.0  ...   NaN  Southampton    yes   True\n",
              "3         1       1  female  35.0  ...     C  Southampton    yes  False\n",
              "4         0       3    male  35.0  ...   NaN  Southampton     no   True\n",
              "\n",
              "[5 rows x 15 columns]"
            ]
          },
          "metadata": {
            "tags": []
          },
          "execution_count": 6
        }
      ]
    },
    {
      "cell_type": "code",
      "metadata": {
        "id": "H66fpbxDKBvt"
      },
      "source": [
        "# Take a SRS from the population\r\n",
        "sample_size = 100\r\n",
        "sample_df = df.sample(sample_size, replace=True)"
      ],
      "execution_count": null,
      "outputs": []
    },
    {
      "cell_type": "markdown",
      "metadata": {
        "id": "1sFQk_2zJOWO"
      },
      "source": [
        "### What is the 95% CI for the 'fare' price"
      ]
    },
    {
      "cell_type": "code",
      "metadata": {
        "colab": {
          "base_uri": "https://localhost:8080/"
        },
        "id": "rVtI-wh_bmP3",
        "outputId": "715ef2e8-3339-446c-a338-2af1cb10e8cc"
      },
      "source": [
        "# Compute the mean, std for the 'fare' from our population\r\n",
        "# This is not going to be used in inference, it is just for comparision\r\n",
        "pop_mean, pop_std = df['fare'].mean(), df['fare'].std()\r\n",
        "pop_mean, pop_std"
      ],
      "execution_count": null,
      "outputs": [
        {
          "output_type": "execute_result",
          "data": {
            "text/plain": [
              "(32.2042079685746, 49.693428597180905)"
            ]
          },
          "metadata": {
            "tags": []
          },
          "execution_count": 8
        }
      ]
    },
    {
      "cell_type": "markdown",
      "metadata": {
        "id": "UBC_VoHVbeEK"
      },
      "source": [
        "#### Traditional\r\n"
      ]
    },
    {
      "cell_type": "code",
      "metadata": {
        "colab": {
          "base_uri": "https://localhost:8080/"
        },
        "id": "G8amhN_ibcy7",
        "outputId": "a690e99d-3dad-406d-d48a-5b77f989a2b8"
      },
      "source": [
        "# calculate the sample_mean and sample_standard_deviation\r\n",
        "sample_mean = sample_df['fare'].mean()\r\n",
        "standard_error = sample_df['fare'].std()/np.sqrt(sample_size)\r\n",
        "\r\n",
        "sample_mean, standard_error"
      ],
      "execution_count": null,
      "outputs": [
        {
          "output_type": "execute_result",
          "data": {
            "text/plain": [
              "(32.98654100000002, 4.365584182314775)"
            ]
          },
          "metadata": {
            "tags": []
          },
          "execution_count": 9
        }
      ]
    },
    {
      "cell_type": "code",
      "metadata": {
        "colab": {
          "base_uri": "https://localhost:8080/"
        },
        "id": "RCohIz2eTiR9",
        "outputId": "fcae82c1-129c-4c27-aefc-079a0b30b091"
      },
      "source": [
        "# the critical value for 95% CI using the Z-Dist\r\n",
        "stats.norm.ppf(0.025), stats.norm.ppf(.975)"
      ],
      "execution_count": null,
      "outputs": [
        {
          "output_type": "execute_result",
          "data": {
            "text/plain": [
              "(-1.9599639845400545, 1.959963984540054)"
            ]
          },
          "metadata": {
            "tags": []
          },
          "execution_count": 10
        }
      ]
    },
    {
      "cell_type": "code",
      "metadata": {
        "colab": {
          "base_uri": "https://localhost:8080/"
        },
        "id": "Ix-4xPBHT0Bu",
        "outputId": "5f0a8470-d49d-4c8d-aff9-79b36030d967"
      },
      "source": [
        "# the critical value for 95% CI using the T-Dist\r\n",
        "stats.t.ppf(0.025, df=sample_size-1), stats.t.ppf(.975, df=sample_size-1)"
      ],
      "execution_count": null,
      "outputs": [
        {
          "output_type": "execute_result",
          "data": {
            "text/plain": [
              "(-1.9842169515086832, 1.9842169515086827)"
            ]
          },
          "metadata": {
            "tags": []
          },
          "execution_count": 11
        }
      ]
    },
    {
      "cell_type": "markdown",
      "metadata": {
        "id": "CNx45FskUaJo"
      },
      "source": [
        "Since we're inferencing the population mean, and our sample size is 'small', we can't use the z-distribution, and have to use the t-distribution"
      ]
    },
    {
      "cell_type": "code",
      "metadata": {
        "colab": {
          "base_uri": "https://localhost:8080/"
        },
        "id": "d3a3gFQ2TP7k",
        "outputId": "2ace1e2f-1bba-466e-dc15-ff0068b93f3f"
      },
      "source": [
        "# Calculate the critical value for 95% CI (between 2.5% and 97.5%)\r\n",
        "critical_value = stats.t.ppf(.975, df=sample_size-1)\r\n",
        "\r\n",
        "critical_value"
      ],
      "execution_count": null,
      "outputs": [
        {
          "output_type": "execute_result",
          "data": {
            "text/plain": [
              "1.9842169515086827"
            ]
          },
          "metadata": {
            "tags": []
          },
          "execution_count": 12
        }
      ]
    },
    {
      "cell_type": "code",
      "metadata": {
        "colab": {
          "base_uri": "https://localhost:8080/"
        },
        "id": "1bPuAnFsTMkj",
        "outputId": "645a62ce-585e-4a22-d38f-79610e789976"
      },
      "source": [
        "# Calculate the 95% CI\r\n",
        "ci_lower = sample_mean-standard_error*critical_value\r\n",
        "ci_upper = sample_mean+standard_error*critical_value\r\n",
        "\r\n",
        "ci_lower, ci_lower"
      ],
      "execution_count": null,
      "outputs": [
        {
          "output_type": "execute_result",
          "data": {
            "text/plain": [
              "(24.324274862212867, 24.324274862212867)"
            ]
          },
          "metadata": {
            "tags": []
          },
          "execution_count": 13
        }
      ]
    },
    {
      "cell_type": "code",
      "metadata": {
        "colab": {
          "base_uri": "https://localhost:8080/"
        },
        "id": "x6NE-6O5VSz2",
        "outputId": "64969d18-9c91-40ea-8b0f-76bc7b154b29"
      },
      "source": [
        "# Print the results\r\n",
        "print(\"Statistic:\", sample_mean)\r\n",
        "print(\"Confidence Interval:\", ci_lower, ci_upper)\r\n",
        "print(\"Margin of Error: +-\", critical_value*standard_error)"
      ],
      "execution_count": null,
      "outputs": [
        {
          "output_type": "stream",
          "text": [
            "Statistic: 32.98654100000002\n",
            "Confidence Interval: 24.324274862212867 41.648807137787166\n",
            "Margin of Error: +- 8.662266137787148\n"
          ],
          "name": "stdout"
        }
      ]
    },
    {
      "cell_type": "code",
      "metadata": {
        "colab": {
          "base_uri": "https://localhost:8080/"
        },
        "id": "dgKQtKcff3_7",
        "outputId": "fb59610d-430f-480b-f7c5-8abab3828f13"
      },
      "source": [
        "# 95% CI using the statsmodels\r\n",
        "sms.DescrStatsW(sample_df['fare']).tconfint_mean(alpha=0.05)"
      ],
      "execution_count": null,
      "outputs": [
        {
          "output_type": "execute_result",
          "data": {
            "text/plain": [
              "(24.32427486221286, 41.64880713778716)"
            ]
          },
          "metadata": {
            "tags": []
          },
          "execution_count": 15
        }
      ]
    },
    {
      "cell_type": "code",
      "metadata": {
        "colab": {
          "base_uri": "https://localhost:8080/"
        },
        "id": "7rqhja-rpMOw",
        "outputId": "b62415dd-30d5-4536-ed01-5d3ab30051a1"
      },
      "source": [
        "# 95% CI using the scipy\r\n",
        "stats.t.interval(0.95, df=sample_size-1 ,loc=sample_mean, scale=standard_error)"
      ],
      "execution_count": null,
      "outputs": [
        {
          "output_type": "execute_result",
          "data": {
            "text/plain": [
              "(24.324274862212867, 41.648807137787166)"
            ]
          },
          "metadata": {
            "tags": []
          },
          "execution_count": 16
        }
      ]
    },
    {
      "cell_type": "code",
      "metadata": {
        "colab": {
          "base_uri": "https://localhost:8080/",
          "height": 265
        },
        "id": "TmN2itiLqbMq",
        "outputId": "f1d847ed-7754-44bf-b8ad-15e711175448"
      },
      "source": [
        "# Plot the sample distribution \r\n",
        "plt.hist(np.random.normal(sample_mean, standard_error, 10000), bins=20, alpha=.2)\r\n",
        "plt.axvline(x = pop_mean, color = \"black\", linestyle = \"dotted\", label='Population Mean')\r\n",
        "plt.axvline(x = sample_mean, color = \"red\", linestyle = \"dotted\", label='Sample Mean')\r\n",
        "plt.axvline(x = ci_lower, color = \"pink\", linestyle = \"dotted\", label='CI 95%')\r\n",
        "plt.axvline(x = ci_upper, color = \"pink\", linestyle = \"dotted\")\r\n",
        "plt.legend()\r\n",
        "plt.show()"
      ],
      "execution_count": null,
      "outputs": [
        {
          "output_type": "display_data",
          "data": {
            "image/png": "[encoded data removed]",
            "text/plain": [
              "<Figure size 432x288 with 1 Axes>"
            ]
          },
          "metadata": {
            "tags": [],
            "needs_background": "light"
          }
        }
      ]
    },
    {
      "cell_type": "code",
      "metadata": {
        "colab": {
          "base_uri": "https://localhost:8080/",
          "height": 265
        },
        "id": "9RFi_X5VYkDd",
        "outputId": "9fe811f9-2158-4e32-a83c-b57204c29312"
      },
      "source": [
        "# Plot the sample distribution \r\n",
        "x = np.linspace(sample_mean - 4 * standard_error, sample_mean + 4 * standard_error, 10000)\r\n",
        "y = stats.norm.pdf(x, sample_mean, standard_error)\r\n",
        "z = x[(x >= ci_lower) & (x <= ci_upper)]\r\n",
        "plt.plot(x, y)\r\n",
        "plt.fill_between(z, 0, stats.norm.pdf(z, sample_mean, standard_error), alpha=.2, label=\"Confidence Interval\")\r\n",
        "plt.axvline(x = pop_mean, color = \"blue\", linestyle = \"dotted\", label='Population Mean')\r\n",
        "plt.axvline(x = sample_mean, color = \"red\", linestyle = \"dotted\", label='Sample Mean')\r\n",
        "plt.axvline(x = ci_lower, color = \"pink\", linestyle = \"dotted\", label='CI')\r\n",
        "plt.axvline(x = ci_upper, color = \"pink\", linestyle = \"dotted\")\r\n",
        "plt.legend()\r\n",
        "plt.show()"
      ],
      "execution_count": null,
      "outputs": [
        {
          "output_type": "display_data",
          "data": {
            "image/png": "[encoded data removed]",
            "text/plain": [
              "<Figure size 432x288 with 1 Axes>"
            ]
          },
          "metadata": {
            "tags": [],
            "needs_background": "light"
          }
        }
      ]
    },
    {
      "cell_type": "markdown",
      "metadata": {
        "id": "64m0W-fYckbK"
      },
      "source": [
        "#### Bootstraping\r\n",
        "1. Take the sample\r\n",
        "2. Take n bootstrap samples from the sample\r\n",
        "3. Compute the mean for each bootstrap sample\r\n",
        "4. Compute the percentiles (.025 and .0975) of the bootstrap sample means"
      ]
    },
    {
      "cell_type": "code",
      "metadata": {
        "id": "zJsaJaw8cpHK"
      },
      "source": [
        "# take n bootstrap samples from the sample\r\n",
        "bootstrap_means_list = []\r\n",
        "for _ in range(10000):\r\n",
        "  # take one bootstrap sample\r\n",
        "  bootstrap_sample = sample_df.sample(sample_size, replace=True)\r\n",
        "  # compute the statistic for each sample\r\n",
        "  bootstrap_mean = bootstrap_sample['fare'].mean()\r\n",
        "  # add to the list\r\n",
        "  bootstrap_means_list.append(bootstrap_mean)\r\n",
        "\r\n",
        "# use the list to generate a DataFrame (for ease of use)\r\n",
        "bootstrap_means_df = pd.DataFrame({\"Bootstrap\":bootstrap_means_list})"
      ],
      "execution_count": null,
      "outputs": []
    },
    {
      "cell_type": "code",
      "metadata": {
        "colab": {
          "base_uri": "https://localhost:8080/"
        },
        "id": "bxslDA6SzKo6",
        "outputId": "510e2313-6693-46fd-fd5c-b2974196c21d"
      },
      "source": [
        "# Calculate the sample distribution mean\r\n",
        "bootstrap_mean = bootstrap_means_df['Bootstrap'].mean()\r\n",
        "bootstrap_mean"
      ],
      "execution_count": null,
      "outputs": [
        {
          "output_type": "execute_result",
          "data": {
            "text/plain": [
              "32.92211560120008"
            ]
          },
          "metadata": {
            "tags": []
          },
          "execution_count": 20
        }
      ]
    },
    {
      "cell_type": "code",
      "metadata": {
        "colab": {
          "base_uri": "https://localhost:8080/"
        },
        "id": "hcy600wfxLhe",
        "outputId": "1dc1bb15-b7b0-4fc0-a0a8-f22ad5ae5f50"
      },
      "source": [
        "# Calculate the 95% CI using the percentiles from the bootstrap sample means\r\n",
        "bootstrap_ci_lower = bootstrap_means_df['Bootstrap'].quantile(.025)\r\n",
        "bootstrap_ci_upper = bootstrap_means_df['Bootstrap'].quantile(.975)\r\n",
        "bootstrap_ci_lower, bootstrap_ci_upper"
      ],
      "execution_count": null,
      "outputs": [
        {
          "output_type": "execute_result",
          "data": {
            "text/plain": [
              "(25.119857099999994, 42.182601274999996)"
            ]
          },
          "metadata": {
            "tags": []
          },
          "execution_count": 21
        }
      ]
    },
    {
      "cell_type": "code",
      "metadata": {
        "colab": {
          "base_uri": "https://localhost:8080/"
        },
        "id": "U7dk4hfmw8_I",
        "outputId": "20bef354-5b84-4eb2-f3b6-080166f51ad2"
      },
      "source": [
        "# Print the results\r\n",
        "print(\"Statistic:\", bootstrap_mean)\r\n",
        "print(\"Confidence Interval:\", bootstrap_ci_lower, bootstrap_ci_upper)\r\n",
        "print(\"Margin of Error: TODO\") # What is the right way to calculate the Margin of Error (since quantiles are not symetric)"
      ],
      "execution_count": null,
      "outputs": [
        {
          "output_type": "stream",
          "text": [
            "Statistic: 32.92211560120008\n",
            "Confidence Interval: 25.119857099999994 42.182601274999996\n",
            "Margin of Error: TODO\n"
          ],
          "name": "stdout"
        }
      ]
    },
    {
      "cell_type": "code",
      "metadata": {
        "colab": {
          "base_uri": "https://localhost:8080/",
          "height": 265
        },
        "id": "GlckI4lguth1",
        "outputId": "b012da1d-12dc-48bc-bf7d-00cf5d38d8b0"
      },
      "source": [
        "# plot the distribution from the bootstrap means \r\n",
        "bootstrap_means_df.plot(kind='hist', bins=20, alpha=0.2)\r\n",
        "plt.axvline(x = pop_mean, color = \"black\", linestyle = \"dotted\", label='Population Mean')\r\n",
        "plt.axvline(x = bootstrap_mean, color = \"red\", linestyle = \"dotted\", label='Sample Mean')\r\n",
        "plt.axvline(x = bootstrap_ci_lower, color = \"pink\", linestyle = \"dotted\", label='CI 95%')\r\n",
        "plt.axvline(x = bootstrap_ci_upper, color = \"pink\", linestyle = \"dotted\")\r\n",
        "plt.legend()\r\n",
        "plt.show()"
      ],
      "execution_count": null,
      "outputs": [
        {
          "output_type": "display_data",
          "data": {
            "image/png": "[encoded data removed]",
            "text/plain": [
              "<Figure size 432x288 with 1 Axes>"
            ]
          },
          "metadata": {
            "tags": [],
            "needs_background": "light"
          }
        }
      ]
    },
    {
      "cell_type": "markdown",
      "metadata": {
        "id": "gnUKkyrljGay"
      },
      "source": [
        "### Do men pay more for the ticket than women?\r\n",
        "\r\n",
        "$$H_0: \\mu_{male} - \\mu_{female} \\le 0$$\r\n",
        "\r\n",
        "$$H_1: \\mu_{male} - \\mu_{female} \\gt 0$$"
      ]
    },
    {
      "cell_type": "markdown",
      "metadata": {
        "id": "ItAuVmjt_A-T"
      },
      "source": [
        "#### Traditional\r\n",
        "\r\n",
        "The traditional approach to this type of hypothesis is to perform a t-test for the means of two independent samples, a.k.a. Two Sample T-Test."
      ]
    },
    {
      "cell_type": "code",
      "metadata": {
        "id": "50tiNfH9vkaf"
      },
      "source": [
        "# define the significance level for our hypotesis tests\r\n",
        "alpha = 0.05"
      ],
      "execution_count": null,
      "outputs": []
    },
    {
      "cell_type": "code",
      "metadata": {
        "id": "W4-zdnx0tGF0"
      },
      "source": [
        "# separate the gender's fare's in two dataframes\r\n",
        "male_fares_df = sample_df[sample_df['sex']=='male']['fare']\r\n",
        "female_fares_df = sample_df[sample_df['sex']=='female']['fare']"
      ],
      "execution_count": null,
      "outputs": []
    },
    {
      "cell_type": "code",
      "metadata": {
        "colab": {
          "base_uri": "https://localhost:8080/"
        },
        "id": "xvtn2kgkte82",
        "outputId": "ad0a25cb-3520-4d46-cd86-28525276dae7"
      },
      "source": [
        "# Performe the levene test to check if the variances are statistically equal or not,\r\n",
        "_, pvalue_levene = stats.levene(male_fares_df, female_fares_df)\r\n",
        "\r\n",
        "# use levene's result to decide if the variances are equal or not \r\n",
        "equal_variances = pvalue_levene < alpha\r\n",
        "\r\n",
        "equal_variances"
      ],
      "execution_count": null,
      "outputs": [
        {
          "output_type": "execute_result",
          "data": {
            "text/plain": [
              "True"
            ]
          },
          "metadata": {
            "tags": []
          },
          "execution_count": 26
        }
      ]
    },
    {
      "cell_type": "code",
      "metadata": {
        "colab": {
          "base_uri": "https://localhost:8080/"
        },
        "id": "kzaPaUZkttX3",
        "outputId": "d2196459-ae89-480c-b1f4-61617889f5d3"
      },
      "source": [
        "# Use scypy.stats.ttest_ind to perform the two sample t-test\r\n",
        "_, pvalue_ttest = stats.ttest_ind(male_fares_df, female_fares_df, equal_var=equal_variances)\r\n",
        "\r\n",
        "pvalue_ttest"
      ],
      "execution_count": null,
      "outputs": [
        {
          "output_type": "execute_result",
          "data": {
            "text/plain": [
              "0.006436598101480664"
            ]
          },
          "metadata": {
            "tags": []
          },
          "execution_count": 27
        }
      ]
    },
    {
      "cell_type": "code",
      "metadata": {
        "colab": {
          "base_uri": "https://localhost:8080/"
        },
        "id": "7kRw1f8ywN0t",
        "outputId": "366dcdc3-eb73-421d-a9df-61d7408a778f"
      },
      "source": [
        "# Use the t-test two sample result to evaluate H0\r\n",
        "if (pvalue_ttest < alpha):\r\n",
        "  print(\"We have evidence to reject the null hypothesis. Men pay more for tickets than women.\")\r\n",
        "else:\r\n",
        "  print(\"We don't have evidence to reject the null hypothesis. Men don't pay more for tickets than women.\")"
      ],
      "execution_count": null,
      "outputs": [
        {
          "output_type": "stream",
          "text": [
            "We have evidence to reject the null hypothesis. Men pay more for tickets than women.\n"
          ],
          "name": "stdout"
        }
      ]
    },
    {
      "cell_type": "markdown",
      "metadata": {
        "id": "lZZw2SGj-WB4"
      },
      "source": [
        "#### Bootstrap"
      ]
    },
    {
      "cell_type": "code",
      "metadata": {
        "id": "wTpUZBHwkJNf"
      },
      "source": [
        "bootstrap_means_male, bootstrap_means_female = [], []\r\n",
        "\r\n",
        "for _ in range(10000):\r\n",
        "  bootstrap_sample = sample_df.sample(sample_size, replace=True)\r\n",
        "  bootstrap_means_male.append(bootstrap_sample[bootstrap_sample['sex']=='male']['fare'].mean())\r\n",
        "  bootstrap_means_female.append(bootstrap_sample[bootstrap_sample['sex']=='female']['fare'].mean())\r\n",
        "\r\n",
        "bootstrap_means_df = pd.DataFrame({'male':bootstrap_means_male, 'female':bootstrap_means_female})\r\n",
        "bootstrap_means_df['diff'] = bootstrap_means_df['male']-bootstrap_means_df['female']"
      ],
      "execution_count": null,
      "outputs": []
    },
    {
      "cell_type": "code",
      "metadata": {
        "colab": {
          "base_uri": "https://localhost:8080/",
          "height": 205
        },
        "id": "u_b4pW5HpK0E",
        "outputId": "e6ddaa4d-437e-4303-efa1-d2f5d055e651"
      },
      "source": [
        "bootstrap_means_df.head()"
      ],
      "execution_count": null,
      "outputs": [
        {
          "output_type": "execute_result",
          "data": {
            "text/html": [
              "<div>\n",
              "<style scoped>\n",
              "    .dataframe tbody tr th:only-of-type {\n",
              "        vertical-align: middle;\n",
              "    }\n",
              "\n",
              "    .dataframe tbody tr th {\n",
              "        vertical-align: top;\n",
              "    }\n",
              "\n",
              "    .dataframe thead th {\n",
              "        text-align: right;\n",
              "    }\n",
              "</style>\n",
              "<table border=\"1\" class=\"dataframe\">\n",
              "  <thead>\n",
              "    <tr style=\"text-align: right;\">\n",
              "      <th></th>\n",
              "      <th>male</th>\n",
              "      <th>female</th>\n",
              "      <th>diff</th>\n",
              "    </tr>\n",
              "  </thead>\n",
              "  <tbody>\n",
              "    <tr>\n",
              "      <th>0</th>\n",
              "      <td>20.701825</td>\n",
              "      <td>37.970370</td>\n",
              "      <td>-17.268546</td>\n",
              "    </tr>\n",
              "    <tr>\n",
              "      <th>1</th>\n",
              "      <td>20.026897</td>\n",
              "      <td>37.616928</td>\n",
              "      <td>-17.590031</td>\n",
              "    </tr>\n",
              "    <tr>\n",
              "      <th>2</th>\n",
              "      <td>19.589256</td>\n",
              "      <td>46.675125</td>\n",
              "      <td>-27.085869</td>\n",
              "    </tr>\n",
              "    <tr>\n",
              "      <th>3</th>\n",
              "      <td>24.985448</td>\n",
              "      <td>49.197380</td>\n",
              "      <td>-24.211932</td>\n",
              "    </tr>\n",
              "    <tr>\n",
              "      <th>4</th>\n",
              "      <td>32.526038</td>\n",
              "      <td>53.879691</td>\n",
              "      <td>-21.353652</td>\n",
              "    </tr>\n",
              "  </tbody>\n",
              "</table>\n",
              "</div>"
            ],
            "text/plain": [
              "        male     female       diff\n",
              "0  20.701825  37.970370 -17.268546\n",
              "1  20.026897  37.616928 -17.590031\n",
              "2  19.589256  46.675125 -27.085869\n",
              "3  24.985448  49.197380 -24.211932\n",
              "4  32.526038  53.879691 -21.353652"
            ]
          },
          "metadata": {
            "tags": []
          },
          "execution_count": 30
        }
      ]
    },
    {
      "cell_type": "code",
      "metadata": {
        "colab": {
          "base_uri": "https://localhost:8080/"
        },
        "id": "cJvvONerpk0U",
        "outputId": "ec9fee65-84a8-42d2-c864-2f71d90be905"
      },
      "source": [
        "print(bootstrap_means_df['male'].mean())\r\n",
        "print(bootstrap_means_df['female'].mean())"
      ],
      "execution_count": null,
      "outputs": [
        {
          "output_type": "stream",
          "text": [
            "24.94628141666296\n",
            "50.20057610285842\n"
          ],
          "name": "stdout"
        }
      ]
    },
    {
      "cell_type": "code",
      "metadata": {
        "colab": {
          "base_uri": "https://localhost:8080/",
          "height": 282
        },
        "id": "cxkDgWCPrWBd",
        "outputId": "8e064eef-c8e6-4a7e-c1de-827227857b3e"
      },
      "source": [
        "bootstrap_means_df[['male', 'female']].plot(kind='hist', bins=20, alpha=.2)"
      ],
      "execution_count": null,
      "outputs": [
        {
          "output_type": "execute_result",
          "data": {
            "text/plain": [
              "<matplotlib.axes._subplots.AxesSubplot at 0x7fad19359470>"
            ]
          },
          "metadata": {
            "tags": []
          },
          "execution_count": 32
        },
        {
          "output_type": "display_data",
          "data": {
            "image/png": "[encoded data removed]",
            "text/plain": [
              "<Figure size 432x288 with 1 Axes>"
            ]
          },
          "metadata": {
            "tags": [],
            "needs_background": "light"
          }
        }
      ]
    },
    {
      "cell_type": "code",
      "metadata": {
        "colab": {
          "base_uri": "https://localhost:8080/",
          "height": 282
        },
        "id": "zg-GQlFjvVsU",
        "outputId": "26ced841-c4a9-4cde-9332-6a8b03b67309"
      },
      "source": [
        "bootstrap_means_df['diff'].plot(kind='hist', bins=20, alpha=.2)"
      ],
      "execution_count": null,
      "outputs": [
        {
          "output_type": "execute_result",
          "data": {
            "text/plain": [
              "<matplotlib.axes._subplots.AxesSubplot at 0x7fad19474208>"
            ]
          },
          "metadata": {
            "tags": []
          },
          "execution_count": 33
        },
        {
          "output_type": "display_data",
          "data": {
            "image/png": "[encoded data removed]",
            "text/plain": [
              "<Figure size 432x288 with 1 Axes>"
            ]
          },
          "metadata": {
            "tags": [],
            "needs_background": "light"
          }
        }
      ]
    },
    {
      "cell_type": "code",
      "metadata": {
        "id": "yqKu1eJ4xFRe"
      },
      "source": [
        "# Simulate distribution under the null hypothesis\r\n",
        "diff_means_h0 = []\r\n",
        "for _ in range(10000):\r\n",
        "  diff_means_h0.append(np.random.normal(0, bootstrap_means_df['diff'].std(), size=sample_size).mean())\r\n",
        "\r\n",
        "bootstrap_means_df['diff_h0'] = diff_means_h0"
      ],
      "execution_count": null,
      "outputs": []
    },
    {
      "cell_type": "code",
      "metadata": {
        "colab": {
          "base_uri": "https://localhost:8080/",
          "height": 283
        },
        "id": "lZ1GTcA6yahf",
        "outputId": "c0926757-1943-438a-d8e2-884a24e1ce1a"
      },
      "source": [
        "bootstrap_means_df['diff_h0'].plot(kind='hist', bins=20, alpha=.2)"
      ],
      "execution_count": null,
      "outputs": [
        {
          "output_type": "execute_result",
          "data": {
            "text/plain": [
              "<matplotlib.axes._subplots.AxesSubplot at 0x7fad1946eb70>"
            ]
          },
          "metadata": {
            "tags": []
          },
          "execution_count": 35
        },
        {
          "output_type": "display_data",
          "data": {
            "image/png": "[encoded data removed]",
            "text/plain": [
              "<Figure size 432x288 with 1 Axes>"
            ]
          },
          "metadata": {
            "tags": [],
            "needs_background": "light"
          }
        }
      ]
    },
    {
      "cell_type": "code",
      "metadata": {
        "colab": {
          "base_uri": "https://localhost:8080/"
        },
        "id": "WKnQ3QztygYK",
        "outputId": "7ae220d6-4ee8-493d-c3e8-5485ce5edb6b"
      },
      "source": [
        "# Calculate p_value\r\n",
        "pvalue_bootstrap = (bootstrap_means_df['diff']>bootstrap_means_df['diff_h0']).mean()\r\n",
        "pvalue_bootstrap"
      ],
      "execution_count": null,
      "outputs": [
        {
          "output_type": "execute_result",
          "data": {
            "text/plain": [
              "0.004"
            ]
          },
          "metadata": {
            "tags": []
          },
          "execution_count": 36
        }
      ]
    },
    {
      "cell_type": "code",
      "metadata": {
        "colab": {
          "base_uri": "https://localhost:8080/"
        },
        "id": "8j9UTdtaxRAU",
        "outputId": "a0e1e17b-c2df-409b-e54d-95dd3c726a4e"
      },
      "source": [
        "# Use the bootstrap's pvalue to evaluate H0\r\n",
        "if (pvalue_bootstrap < alpha):\r\n",
        "  print(\"We have evidence to reject the null hypothesis. Men pay more for tickets than women.\")\r\n",
        "else:\r\n",
        "  print(\"We don't have evidence to reject the null hypothesis. Men pay as much as women for tickets.\")"
      ],
      "execution_count": null,
      "outputs": [
        {
          "output_type": "stream",
          "text": [
            "We have evidence to reject the null hypothesis. Men pay more for tickets than women.\n"
          ],
          "name": "stdout"
        }
      ]
    }
  ]
}