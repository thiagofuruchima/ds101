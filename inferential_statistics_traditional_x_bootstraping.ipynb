{
  "nbformat": 4,
  "nbformat_minor": 0,
  "metadata": {
    "colab": {
      "name": "Inferential Statistics - Traditional x Bootstraping.ipynb",
      "provenance": [],
      "toc_visible": true,
      "authorship_tag": "ABX9TyMs3YotonJy7aJ+hqYVKuWg",
      "include_colab_link": true
    },
    "kernelspec": {
      "display_name": "Python 3",
      "name": "python3"
    }
  },
  "cells": [
    {
      "cell_type": "markdown",
      "metadata": {
        "id": "view-in-github",
        "colab_type": "text"
      },
      "source": [
        "<a href=\"https://colab.research.google.com/github/thiagofuruchima/ds101/blob/main/inferential_statistics_traditional_x_bootstraping.ipynb\" target=\"_parent\"><img src=\"https://colab.research.google.com/assets/colab-badge.svg\" alt=\"Open In Colab\"/></a>"
      ]
    },
    {
      "cell_type": "markdown",
      "metadata": {
        "id": "KkhLd32jFMnP"
      },
      "source": [
        "## Inferential Statistics - Traditional x Bootstraping\r\n",
        "\r\n",
        "I'm using this notebok to better understand inferential statistics, specially the differences between traditional and bootstraping approaches for confidence interval (CI) estimation and hypothesis testing.\r\n",
        "\r\n",
        "A simple well-know dataset is used in this analysis. This dataset will be taken as our population, and a single Simple Random Sample (SRS) is going to be used."
      ]
    },
    {
      "cell_type": "markdown",
      "metadata": {
        "id": "2jmNKiayIm0n"
      },
      "source": [
        "## Data preparation\r\n",
        "\r\n",
        "We're not going to do a full EDA, since our goal is just to get a better undertanding on inferential statistcs."
      ]
    },
    {
      "cell_type": "code",
      "metadata": {
        "id": "ljKWzL1Baa9z",
        "outputId": "d24b9478-8502-4e60-dd13-d3c9e06a7cbb",
        "colab": {
          "base_uri": "https://localhost:8080/"
        }
      },
      "source": [
        "# load the libraries\r\n",
        "import pandas as pd\r\n",
        "import numpy as np\r\n",
        "import matplotlib.pyplot as plt\r\n",
        "import seaborn as sns\r\n",
        "import statsmodels.stats.api as sms\r\n",
        "from scipy import stats"
      ],
      "execution_count": 1,
      "outputs": [
        {
          "output_type": "stream",
          "text": [
            "/usr/local/lib/python3.6/dist-packages/statsmodels/tools/_testing.py:19: FutureWarning: pandas.util.testing is deprecated. Use the functions in the public API at pandas.testing instead.\n",
            "  import pandas.util.testing as tm\n"
          ],
          "name": "stderr"
        }
      ]
    },
    {
      "cell_type": "code",
      "metadata": {
        "id": "cHdhW567amX6"
      },
      "source": [
        "# load the titanic dataset\r\n",
        "df = sns.load_dataset('titanic')"
      ],
      "execution_count": 2,
      "outputs": []
    },
    {
      "cell_type": "code",
      "metadata": {
        "id": "fxGKksHebBhx",
        "colab": {
          "base_uri": "https://localhost:8080/"
        },
        "outputId": "bb4e760e-3dbc-48d6-b1d4-f47b7bc6b9a7"
      },
      "source": [
        "# check the shape\r\n",
        "df.shape"
      ],
      "execution_count": 3,
      "outputs": [
        {
          "output_type": "execute_result",
          "data": {
            "text/plain": [
              "(891, 15)"
            ]
          },
          "metadata": {
            "tags": []
          },
          "execution_count": 3
        }
      ]
    },
    {
      "cell_type": "code",
      "metadata": {
        "id": "w7ua88KxGMRR",
        "colab": {
          "base_uri": "https://localhost:8080/"
        },
        "outputId": "f9c6c0cb-ef50-428a-e6da-775cd5950cf8"
      },
      "source": [
        "# check the datatypes\r\n",
        "df.dtypes"
      ],
      "execution_count": 4,
      "outputs": [
        {
          "output_type": "execute_result",
          "data": {
            "text/plain": [
              "survived          int64\n",
              "pclass            int64\n",
              "sex              object\n",
              "age             float64\n",
              "sibsp             int64\n",
              "parch             int64\n",
              "fare            float64\n",
              "embarked         object\n",
              "class          category\n",
              "who              object\n",
              "adult_male         bool\n",
              "deck           category\n",
              "embark_town      object\n",
              "alive            object\n",
              "alone              bool\n",
              "dtype: object"
            ]
          },
          "metadata": {
            "tags": []
          },
          "execution_count": 4
        }
      ]
    },
    {
      "cell_type": "code",
      "metadata": {
        "id": "Rcfy9C3pGPP2",
        "colab": {
          "base_uri": "https://localhost:8080/"
        },
        "outputId": "fffa17a7-ad31-4ab3-965a-1745c22bb916"
      },
      "source": [
        "# check for null values\r\n",
        "df.isna().sum()"
      ],
      "execution_count": 5,
      "outputs": [
        {
          "output_type": "execute_result",
          "data": {
            "text/plain": [
              "survived         0\n",
              "pclass           0\n",
              "sex              0\n",
              "age            177\n",
              "sibsp            0\n",
              "parch            0\n",
              "fare             0\n",
              "embarked         2\n",
              "class            0\n",
              "who              0\n",
              "adult_male       0\n",
              "deck           688\n",
              "embark_town      2\n",
              "alive            0\n",
              "alone            0\n",
              "dtype: int64"
            ]
          },
          "metadata": {
            "tags": []
          },
          "execution_count": 5
        }
      ]
    },
    {
      "cell_type": "code",
      "metadata": {
        "id": "fiwkL4LDa_Qi",
        "colab": {
          "base_uri": "https://localhost:8080/",
          "height": 225
        },
        "outputId": "bf03e025-bf8c-4949-9533-ab1efe1e29e7"
      },
      "source": [
        "# check the first 5 rows\r\n",
        "df.head()"
      ],
      "execution_count": 6,
      "outputs": [
        {
          "output_type": "execute_result",
          "data": {
            "text/html": [
              "<div>\n",
              "<style scoped>\n",
              "    .dataframe tbody tr th:only-of-type {\n",
              "        vertical-align: middle;\n",
              "    }\n",
              "\n",
              "    .dataframe tbody tr th {\n",
              "        vertical-align: top;\n",
              "    }\n",
              "\n",
              "    .dataframe thead th {\n",
              "        text-align: right;\n",
              "    }\n",
              "</style>\n",
              "<table border=\"1\" class=\"dataframe\">\n",
              "  <thead>\n",
              "    <tr style=\"text-align: right;\">\n",
              "      <th></th>\n",
              "      <th>survived</th>\n",
              "      <th>pclass</th>\n",
              "      <th>sex</th>\n",
              "      <th>age</th>\n",
              "      <th>sibsp</th>\n",
              "      <th>parch</th>\n",
              "      <th>fare</th>\n",
              "      <th>embarked</th>\n",
              "      <th>class</th>\n",
              "      <th>who</th>\n",
              "      <th>adult_male</th>\n",
              "      <th>deck</th>\n",
              "      <th>embark_town</th>\n",
              "      <th>alive</th>\n",
              "      <th>alone</th>\n",
              "    </tr>\n",
              "  </thead>\n",
              "  <tbody>\n",
              "    <tr>\n",
              "      <th>0</th>\n",
              "      <td>0</td>\n",
              "      <td>3</td>\n",
              "      <td>male</td>\n",
              "      <td>22.0</td>\n",
              "      <td>1</td>\n",
              "      <td>0</td>\n",
              "      <td>7.2500</td>\n",
              "      <td>S</td>\n",
              "      <td>Third</td>\n",
              "      <td>man</td>\n",
              "      <td>True</td>\n",
              "      <td>NaN</td>\n",
              "      <td>Southampton</td>\n",
              "      <td>no</td>\n",
              "      <td>False</td>\n",
              "    </tr>\n",
              "    <tr>\n",
              "      <th>1</th>\n",
              "      <td>1</td>\n",
              "      <td>1</td>\n",
              "      <td>female</td>\n",
              "      <td>38.0</td>\n",
              "      <td>1</td>\n",
              "      <td>0</td>\n",
              "      <td>71.2833</td>\n",
              "      <td>C</td>\n",
              "      <td>First</td>\n",
              "      <td>woman</td>\n",
              "      <td>False</td>\n",
              "      <td>C</td>\n",
              "      <td>Cherbourg</td>\n",
              "      <td>yes</td>\n",
              "      <td>False</td>\n",
              "    </tr>\n",
              "    <tr>\n",
              "      <th>2</th>\n",
              "      <td>1</td>\n",
              "      <td>3</td>\n",
              "      <td>female</td>\n",
              "      <td>26.0</td>\n",
              "      <td>0</td>\n",
              "      <td>0</td>\n",
              "      <td>7.9250</td>\n",
              "      <td>S</td>\n",
              "      <td>Third</td>\n",
              "      <td>woman</td>\n",
              "      <td>False</td>\n",
              "      <td>NaN</td>\n",
              "      <td>Southampton</td>\n",
              "      <td>yes</td>\n",
              "      <td>True</td>\n",
              "    </tr>\n",
              "    <tr>\n",
              "      <th>3</th>\n",
              "      <td>1</td>\n",
              "      <td>1</td>\n",
              "      <td>female</td>\n",
              "      <td>35.0</td>\n",
              "      <td>1</td>\n",
              "      <td>0</td>\n",
              "      <td>53.1000</td>\n",
              "      <td>S</td>\n",
              "      <td>First</td>\n",
              "      <td>woman</td>\n",
              "      <td>False</td>\n",
              "      <td>C</td>\n",
              "      <td>Southampton</td>\n",
              "      <td>yes</td>\n",
              "      <td>False</td>\n",
              "    </tr>\n",
              "    <tr>\n",
              "      <th>4</th>\n",
              "      <td>0</td>\n",
              "      <td>3</td>\n",
              "      <td>male</td>\n",
              "      <td>35.0</td>\n",
              "      <td>0</td>\n",
              "      <td>0</td>\n",
              "      <td>8.0500</td>\n",
              "      <td>S</td>\n",
              "      <td>Third</td>\n",
              "      <td>man</td>\n",
              "      <td>True</td>\n",
              "      <td>NaN</td>\n",
              "      <td>Southampton</td>\n",
              "      <td>no</td>\n",
              "      <td>True</td>\n",
              "    </tr>\n",
              "  </tbody>\n",
              "</table>\n",
              "</div>"
            ],
            "text/plain": [
              "   survived  pclass     sex   age  ...  deck  embark_town  alive  alone\n",
              "0         0       3    male  22.0  ...   NaN  Southampton     no  False\n",
              "1         1       1  female  38.0  ...     C    Cherbourg    yes  False\n",
              "2         1       3  female  26.0  ...   NaN  Southampton    yes   True\n",
              "3         1       1  female  35.0  ...     C  Southampton    yes  False\n",
              "4         0       3    male  35.0  ...   NaN  Southampton     no   True\n",
              "\n",
              "[5 rows x 15 columns]"
            ]
          },
          "metadata": {
            "tags": []
          },
          "execution_count": 6
        }
      ]
    },
    {
      "cell_type": "code",
      "metadata": {
        "id": "H66fpbxDKBvt"
      },
      "source": [
        "# Take a SRS from the population\r\n",
        "sample_size = 100\r\n",
        "sample_df = df.sample(sample_size, replace=True)"
      ],
      "execution_count": 7,
      "outputs": []
    },
    {
      "cell_type": "markdown",
      "metadata": {
        "id": "1sFQk_2zJOWO"
      },
      "source": [
        "## What is the 95% CI for the 'fare' price"
      ]
    },
    {
      "cell_type": "code",
      "metadata": {
        "colab": {
          "base_uri": "https://localhost:8080/"
        },
        "id": "rVtI-wh_bmP3",
        "outputId": "88d72b57-514f-4d3a-c3d1-e96824164533"
      },
      "source": [
        "# Compute the mean, std for the 'fare' from our population\r\n",
        "# This is NOT going to be used in inference, it is just for comparision\r\n",
        "pop_mean, pop_std = df['fare'].mean(), df['fare'].std()\r\n",
        "pop_mean, pop_std"
      ],
      "execution_count": 8,
      "outputs": [
        {
          "output_type": "execute_result",
          "data": {
            "text/plain": [
              "(32.2042079685746, 49.693428597180905)"
            ]
          },
          "metadata": {
            "tags": []
          },
          "execution_count": 8
        }
      ]
    },
    {
      "cell_type": "markdown",
      "metadata": {
        "id": "UBC_VoHVbeEK"
      },
      "source": [
        "### Traditional Approach"
      ]
    },
    {
      "cell_type": "code",
      "metadata": {
        "colab": {
          "base_uri": "https://localhost:8080/"
        },
        "id": "G8amhN_ibcy7",
        "outputId": "83dacb1c-e5d8-4db8-e8b6-8180f88cb30e"
      },
      "source": [
        "# calculate the sample_mean and sample_standard_deviation\r\n",
        "sample_mean = sample_df['fare'].mean()\r\n",
        "standard_error = sample_df['fare'].std()/np.sqrt(sample_size)\r\n",
        "\r\n",
        "sample_mean, standard_error"
      ],
      "execution_count": 9,
      "outputs": [
        {
          "output_type": "execute_result",
          "data": {
            "text/plain": [
              "(30.922248999999994, 4.457071265029143)"
            ]
          },
          "metadata": {
            "tags": []
          },
          "execution_count": 9
        }
      ]
    },
    {
      "cell_type": "code",
      "metadata": {
        "colab": {
          "base_uri": "https://localhost:8080/"
        },
        "id": "RCohIz2eTiR9",
        "outputId": "e1ea6403-d8a4-45ed-af2e-2ba322b13a4b"
      },
      "source": [
        "# the critical value for 95% CI using the Z-Dist\r\n",
        "stats.norm.ppf(0.025), stats.norm.ppf(.975)"
      ],
      "execution_count": 10,
      "outputs": [
        {
          "output_type": "execute_result",
          "data": {
            "text/plain": [
              "(-1.9599639845400545, 1.959963984540054)"
            ]
          },
          "metadata": {
            "tags": []
          },
          "execution_count": 10
        }
      ]
    },
    {
      "cell_type": "code",
      "metadata": {
        "colab": {
          "base_uri": "https://localhost:8080/"
        },
        "id": "Ix-4xPBHT0Bu",
        "outputId": "390c5e4c-0c92-4bc2-864d-fe2654383a3e"
      },
      "source": [
        "# the critical value for 95% CI using the T-Dist\r\n",
        "stats.t.ppf(0.025, df=sample_size-1), stats.t.ppf(.975, df=sample_size-1)"
      ],
      "execution_count": 11,
      "outputs": [
        {
          "output_type": "execute_result",
          "data": {
            "text/plain": [
              "(-1.9842169515086832, 1.9842169515086827)"
            ]
          },
          "metadata": {
            "tags": []
          },
          "execution_count": 11
        }
      ]
    },
    {
      "cell_type": "markdown",
      "metadata": {
        "id": "CNx45FskUaJo"
      },
      "source": [
        "Since we're inferencing the population mean, and our sample size is 'small', we can't use the z-distribution, and have to use the t-distribution"
      ]
    },
    {
      "cell_type": "code",
      "metadata": {
        "colab": {
          "base_uri": "https://localhost:8080/"
        },
        "id": "d3a3gFQ2TP7k",
        "outputId": "e421cc64-ed21-4ddb-f84a-d3f97576f4d4"
      },
      "source": [
        "# Calculate the critical value for 95% CI (between 2.5% and 97.5%)\r\n",
        "critical_value = stats.t.ppf(.975, df=sample_size-1)\r\n",
        "\r\n",
        "critical_value"
      ],
      "execution_count": 12,
      "outputs": [
        {
          "output_type": "execute_result",
          "data": {
            "text/plain": [
              "1.9842169515086827"
            ]
          },
          "metadata": {
            "tags": []
          },
          "execution_count": 12
        }
      ]
    },
    {
      "cell_type": "code",
      "metadata": {
        "colab": {
          "base_uri": "https://localhost:8080/"
        },
        "id": "1bPuAnFsTMkj",
        "outputId": "c0bbde10-593f-4a88-ebbd-00c7b40e69a6"
      },
      "source": [
        "# Calculate the 95% CI\r\n",
        "ci_lower = sample_mean-standard_error*critical_value\r\n",
        "ci_upper = sample_mean+standard_error*critical_value\r\n",
        "\r\n",
        "ci_lower, ci_lower"
      ],
      "execution_count": 13,
      "outputs": [
        {
          "output_type": "execute_result",
          "data": {
            "text/plain": [
              "(22.078452641846923, 22.078452641846923)"
            ]
          },
          "metadata": {
            "tags": []
          },
          "execution_count": 13
        }
      ]
    },
    {
      "cell_type": "code",
      "metadata": {
        "colab": {
          "base_uri": "https://localhost:8080/"
        },
        "id": "x6NE-6O5VSz2",
        "outputId": "714a1d61-c3f2-44bc-8d5b-f071eade25a6"
      },
      "source": [
        "# Print the results\r\n",
        "print(\"Statistic:\", sample_mean)\r\n",
        "print(\"Confidence Interval:\", ci_lower, ci_upper)\r\n",
        "print(\"Margin of Error: +-\", critical_value*standard_error)"
      ],
      "execution_count": 14,
      "outputs": [
        {
          "output_type": "stream",
          "text": [
            "Statistic: 30.922248999999994\n",
            "Confidence Interval: 22.078452641846923 39.766045358153065\n",
            "Margin of Error: +- 8.843796358153073\n"
          ],
          "name": "stdout"
        }
      ]
    },
    {
      "cell_type": "code",
      "metadata": {
        "colab": {
          "base_uri": "https://localhost:8080/"
        },
        "id": "dgKQtKcff3_7",
        "outputId": "c50bc7b2-ffed-4f5d-beff-28bd2af3086a"
      },
      "source": [
        "# 95% CI using the statsmodels\r\n",
        "sms.DescrStatsW(sample_df['fare']).tconfint_mean(alpha=0.05)"
      ],
      "execution_count": 15,
      "outputs": [
        {
          "output_type": "execute_result",
          "data": {
            "text/plain": [
              "(22.078452641846926, 39.766045358153065)"
            ]
          },
          "metadata": {
            "tags": []
          },
          "execution_count": 15
        }
      ]
    },
    {
      "cell_type": "code",
      "metadata": {
        "colab": {
          "base_uri": "https://localhost:8080/"
        },
        "id": "7rqhja-rpMOw",
        "outputId": "0952c8d5-c1f0-43b4-f06c-b3d62b7342d3"
      },
      "source": [
        "# 95% CI using the scipy\r\n",
        "stats.t.interval(0.95, df=sample_size-1 ,loc=sample_mean, scale=standard_error)"
      ],
      "execution_count": 16,
      "outputs": [
        {
          "output_type": "execute_result",
          "data": {
            "text/plain": [
              "(22.078452641846923, 39.766045358153065)"
            ]
          },
          "metadata": {
            "tags": []
          },
          "execution_count": 16
        }
      ]
    },
    {
      "cell_type": "code",
      "metadata": {
        "colab": {
          "base_uri": "https://localhost:8080/",
          "height": 265
        },
        "id": "TmN2itiLqbMq",
        "outputId": "7504d329-04c3-4dac-cfb9-75768c40f027"
      },
      "source": [
        "# Plot the sample distribution \r\n",
        "plt.hist(np.random.normal(sample_mean, standard_error, 10000), bins=20, alpha=.2)\r\n",
        "plt.axvline(x = pop_mean, color = \"black\", linestyle = \"dotted\", label='Population Mean')\r\n",
        "plt.axvline(x = sample_mean, color = \"red\", linestyle = \"dotted\", label='Sample Mean')\r\n",
        "plt.axvline(x = ci_lower, color = \"pink\", linestyle = \"dotted\", label='CI 95%')\r\n",
        "plt.axvline(x = ci_upper, color = \"pink\", linestyle = \"dotted\")\r\n",
        "plt.legend()\r\n",
        "plt.show()"
      ],
      "execution_count": 17,
      "outputs": [
        {
          "output_type": "display_data",
          "data": {
            "image/png": "[encoded data removed]",
            "text/plain": [
              "<Figure size 432x288 with 1 Axes>"
            ]
          },
          "metadata": {
            "tags": [],
            "needs_background": "light"
          }
        }
      ]
    },
    {
      "cell_type": "markdown",
      "metadata": {
        "id": "64m0W-fYckbK"
      },
      "source": [
        "### Bootstraping Approach\r\n",
        "1. Take the sample\r\n",
        "2. Take n bootstrap samples from the sample\r\n",
        "3. Compute the mean for each bootstrap sample\r\n",
        "4. Compute the percentiles (.025 and .0975) of the bootstrap sample means"
      ]
    },
    {
      "cell_type": "code",
      "metadata": {
        "id": "zJsaJaw8cpHK"
      },
      "source": [
        "# take n bootstrap samples from the sample\r\n",
        "bootstrap_means_list = []\r\n",
        "for _ in range(10000):\r\n",
        "  # take one bootstrap sample\r\n",
        "  bootstrap_sample = sample_df.sample(sample_size, replace=True)\r\n",
        "  # compute the statistic for each sample\r\n",
        "  bootstrap_mean = bootstrap_sample['fare'].mean()\r\n",
        "  # add to the list\r\n",
        "  bootstrap_means_list.append(bootstrap_mean)\r\n",
        "\r\n",
        "# use the list to generate a DataFrame (for ease of use)\r\n",
        "bootstrap_means_df = pd.DataFrame({\"Bootstrap\":bootstrap_means_list})"
      ],
      "execution_count": 18,
      "outputs": []
    },
    {
      "cell_type": "code",
      "metadata": {
        "colab": {
          "base_uri": "https://localhost:8080/"
        },
        "id": "bxslDA6SzKo6",
        "outputId": "9446efc8-3872-4ae8-b2d1-7f9b3d331f49"
      },
      "source": [
        "# Calculate the sample distribution mean\r\n",
        "bootstrap_mean = bootstrap_means_df['Bootstrap'].mean()\r\n",
        "bootstrap_mean"
      ],
      "execution_count": 19,
      "outputs": [
        {
          "output_type": "execute_result",
          "data": {
            "text/plain": [
              "30.918099004300117"
            ]
          },
          "metadata": {
            "tags": []
          },
          "execution_count": 19
        }
      ]
    },
    {
      "cell_type": "code",
      "metadata": {
        "colab": {
          "base_uri": "https://localhost:8080/"
        },
        "id": "hcy600wfxLhe",
        "outputId": "d0c4a4ad-02eb-4c3c-b13f-988a5f682727"
      },
      "source": [
        "# Calculate the 95% CI using the percentiles from the bootstrap sample means\r\n",
        "bootstrap_ci_lower = bootstrap_means_df['Bootstrap'].quantile(.025)\r\n",
        "bootstrap_ci_upper = bootstrap_means_df['Bootstrap'].quantile(.975)\r\n",
        "bootstrap_ci_lower, bootstrap_ci_upper"
      ],
      "execution_count": 20,
      "outputs": [
        {
          "output_type": "execute_result",
          "data": {
            "text/plain": [
              "(22.973074399999994, 40.32796220000001)"
            ]
          },
          "metadata": {
            "tags": []
          },
          "execution_count": 20
        }
      ]
    },
    {
      "cell_type": "code",
      "metadata": {
        "colab": {
          "base_uri": "https://localhost:8080/"
        },
        "id": "U7dk4hfmw8_I",
        "outputId": "d4bf94b5-ae26-4b53-bcc7-82d195d79d9a"
      },
      "source": [
        "# Print the results\r\n",
        "print(\"Statistic:\", bootstrap_mean)\r\n",
        "print(\"Confidence Interval:\", bootstrap_ci_lower, bootstrap_ci_upper)\r\n",
        "print(\"Margin of Error: TODO\") # What is the right way to calculate the Margin of Error (since quantiles are not symetric)"
      ],
      "execution_count": 21,
      "outputs": [
        {
          "output_type": "stream",
          "text": [
            "Statistic: 30.918099004300117\n",
            "Confidence Interval: 22.973074399999994 40.32796220000001\n",
            "Margin of Error: TODO\n"
          ],
          "name": "stdout"
        }
      ]
    },
    {
      "cell_type": "code",
      "metadata": {
        "colab": {
          "base_uri": "https://localhost:8080/",
          "height": 265
        },
        "id": "GlckI4lguth1",
        "outputId": "1d7bb0fe-edbc-4d9c-e66e-02142e688c32"
      },
      "source": [
        "# plot the distribution from the bootstrap means \r\n",
        "bootstrap_means_df.plot(kind='hist', bins=20, alpha=0.2)\r\n",
        "plt.axvline(x = pop_mean, color = \"black\", linestyle = \"dotted\", label='Population Mean')\r\n",
        "plt.axvline(x = bootstrap_mean, color = \"red\", linestyle = \"dotted\", label='Sample Mean')\r\n",
        "plt.axvline(x = bootstrap_ci_lower, color = \"pink\", linestyle = \"dotted\", label='CI 95%')\r\n",
        "plt.axvline(x = bootstrap_ci_upper, color = \"pink\", linestyle = \"dotted\")\r\n",
        "plt.legend()\r\n",
        "plt.show()"
      ],
      "execution_count": 22,
      "outputs": [
        {
          "output_type": "display_data",
          "data": {
            "image/png": "[encoded data removed]",
            "text/plain": [
              "<Figure size 432x288 with 1 Axes>"
            ]
          },
          "metadata": {
            "tags": [],
            "needs_background": "light"
          }
        }
      ]
    },
    {
      "cell_type": "markdown",
      "metadata": {
        "id": "gnUKkyrljGay"
      },
      "source": [
        "## Do men pay more for the ticket than women?"
      ]
    },
    {
      "cell_type": "markdown",
      "metadata": {
        "id": "Q1rUrVb2gGiD"
      },
      "source": [
        "$$ \r\n",
        "H_0: \\mu_{male} - \\mu_{female} \\le 0\r\n",
        "$$"
      ]
    },
    {
      "cell_type": "markdown",
      "metadata": {
        "id": "SuqMVhnggNsr"
      },
      "source": [
        "$$\r\n",
        "H_1: \\mu_{male} - \\mu_{female} \\gt 0 \r\n",
        "$$"
      ]
    },
    {
      "cell_type": "markdown",
      "metadata": {
        "id": "ItAuVmjt_A-T"
      },
      "source": [
        "### Traditional Approach\r\n",
        "\r\n",
        "The traditional approach to this type of hypothesis is to perform a t-test for the means of two independent samples, a.k.a. Two Sample T-Test."
      ]
    },
    {
      "cell_type": "code",
      "metadata": {
        "id": "50tiNfH9vkaf"
      },
      "source": [
        "# define the significance level for our hypotesis tests\r\n",
        "alpha = 0.05"
      ],
      "execution_count": 23,
      "outputs": []
    },
    {
      "cell_type": "code",
      "metadata": {
        "id": "W4-zdnx0tGF0"
      },
      "source": [
        "# separate the gender's fare's in two dataframes\r\n",
        "male_fares_df = sample_df[sample_df['sex']=='male']['fare']\r\n",
        "female_fares_df = sample_df[sample_df['sex']=='female']['fare']"
      ],
      "execution_count": 24,
      "outputs": []
    },
    {
      "cell_type": "code",
      "metadata": {
        "colab": {
          "base_uri": "https://localhost:8080/"
        },
        "id": "xvtn2kgkte82",
        "outputId": "e2d8a734-7a2f-4f2d-f17a-8d49b7729f4d"
      },
      "source": [
        "# Performe the levene test to check if the variances are statistically equal or not,\r\n",
        "_, pvalue_levene = stats.levene(male_fares_df, female_fares_df)\r\n",
        "\r\n",
        "# use levene's result to decide if the variances are equal or not \r\n",
        "equal_variances = pvalue_levene < alpha\r\n",
        "\r\n",
        "equal_variances"
      ],
      "execution_count": 25,
      "outputs": [
        {
          "output_type": "execute_result",
          "data": {
            "text/plain": [
              "True"
            ]
          },
          "metadata": {
            "tags": []
          },
          "execution_count": 25
        }
      ]
    },
    {
      "cell_type": "code",
      "metadata": {
        "colab": {
          "base_uri": "https://localhost:8080/"
        },
        "id": "kzaPaUZkttX3",
        "outputId": "801f8e58-a2ac-420b-d122-622ac87c20f6"
      },
      "source": [
        "# Use scypy.stats.ttest_ind to perform the two sample t-test\r\n",
        "_, pvalue_ttest = stats.ttest_ind(male_fares_df, female_fares_df, equal_var=equal_variances)\r\n",
        "\r\n",
        "pvalue_ttest"
      ],
      "execution_count": 26,
      "outputs": [
        {
          "output_type": "execute_result",
          "data": {
            "text/plain": [
              "0.0027928791376965758"
            ]
          },
          "metadata": {
            "tags": []
          },
          "execution_count": 26
        }
      ]
    },
    {
      "cell_type": "code",
      "metadata": {
        "colab": {
          "base_uri": "https://localhost:8080/"
        },
        "id": "7kRw1f8ywN0t",
        "outputId": "16112061-0888-4e47-fda6-6e60f08af05d"
      },
      "source": [
        "# Use the t-test two sample result to evaluate H0\r\n",
        "if (pvalue_ttest < alpha):\r\n",
        "  print(\"We have evidence to reject the null hypothesis. Men pay more for tickets than women.\")\r\n",
        "else:\r\n",
        "  print(\"We don't have evidence to reject the null hypothesis. Men don't pay more for tickets than women.\")"
      ],
      "execution_count": 27,
      "outputs": [
        {
          "output_type": "stream",
          "text": [
            "We have evidence to reject the null hypothesis. Men pay more for tickets than women.\n"
          ],
          "name": "stdout"
        }
      ]
    },
    {
      "cell_type": "markdown",
      "metadata": {
        "id": "lZZw2SGj-WB4"
      },
      "source": [
        "### Bootstrap Approach\r\n",
        "\r\n",
        "1. Take the sample\r\n",
        "2. Take n bootstrap samples from the sample\r\n",
        "3. Compute the mean for each bootstrap sample\r\n",
        "4. Simulate the distribution under H0\r\n",
        "5. Compare the booststrap sample distribution and the H0 distribution  "
      ]
    },
    {
      "cell_type": "code",
      "metadata": {
        "id": "wTpUZBHwkJNf"
      },
      "source": [
        "bootstrap_means_male, bootstrap_means_female = [], []\r\n",
        "\r\n",
        "# take n bootstrap samples from the sample\r\n",
        "for _ in range(10000):\r\n",
        "  # take one bootstrap sample\r\n",
        "  bootstrap_sample = sample_df.sample(sample_size, replace=True)\r\n",
        "  # compute the statistic for each sample and add to the list\r\n",
        "  bootstrap_means_male.append(bootstrap_sample[bootstrap_sample['sex']=='male']['fare'].mean())\r\n",
        "  bootstrap_means_female.append(bootstrap_sample[bootstrap_sample['sex']=='female']['fare'].mean())\r\n",
        "\r\n",
        "# use the lists to generate a DataFrame (for ease of use)\r\n",
        "bootstrap_means_df = pd.DataFrame({'male':bootstrap_means_male, 'female':bootstrap_means_female})\r\n",
        "\r\n",
        "# compute the mean diff between the two 'lists'\r\n",
        "bootstrap_means_df['diff'] = bootstrap_means_df['male']-bootstrap_means_df['female']"
      ],
      "execution_count": 28,
      "outputs": []
    },
    {
      "cell_type": "code",
      "metadata": {
        "colab": {
          "base_uri": "https://localhost:8080/",
          "height": 205
        },
        "id": "u_b4pW5HpK0E",
        "outputId": "10d8d3db-d2df-4347-bdb8-2dd828b43fa0"
      },
      "source": [
        "bootstrap_means_df.head()"
      ],
      "execution_count": 29,
      "outputs": [
        {
          "output_type": "execute_result",
          "data": {
            "text/html": [
              "<div>\n",
              "<style scoped>\n",
              "    .dataframe tbody tr th:only-of-type {\n",
              "        vertical-align: middle;\n",
              "    }\n",
              "\n",
              "    .dataframe tbody tr th {\n",
              "        vertical-align: top;\n",
              "    }\n",
              "\n",
              "    .dataframe thead th {\n",
              "        text-align: right;\n",
              "    }\n",
              "</style>\n",
              "<table border=\"1\" class=\"dataframe\">\n",
              "  <thead>\n",
              "    <tr style=\"text-align: right;\">\n",
              "      <th></th>\n",
              "      <th>male</th>\n",
              "      <th>female</th>\n",
              "      <th>diff</th>\n",
              "    </tr>\n",
              "  </thead>\n",
              "  <tbody>\n",
              "    <tr>\n",
              "      <th>0</th>\n",
              "      <td>18.413042</td>\n",
              "      <td>57.710084</td>\n",
              "      <td>-39.297042</td>\n",
              "    </tr>\n",
              "    <tr>\n",
              "      <th>1</th>\n",
              "      <td>18.178017</td>\n",
              "      <td>40.852152</td>\n",
              "      <td>-22.674134</td>\n",
              "    </tr>\n",
              "    <tr>\n",
              "      <th>2</th>\n",
              "      <td>15.189888</td>\n",
              "      <td>57.809634</td>\n",
              "      <td>-42.619746</td>\n",
              "    </tr>\n",
              "    <tr>\n",
              "      <th>3</th>\n",
              "      <td>24.420633</td>\n",
              "      <td>43.874103</td>\n",
              "      <td>-19.453469</td>\n",
              "    </tr>\n",
              "    <tr>\n",
              "      <th>4</th>\n",
              "      <td>21.567663</td>\n",
              "      <td>40.626721</td>\n",
              "      <td>-19.059057</td>\n",
              "    </tr>\n",
              "  </tbody>\n",
              "</table>\n",
              "</div>"
            ],
            "text/plain": [
              "        male     female       diff\n",
              "0  18.413042  57.710084 -39.297042\n",
              "1  18.178017  40.852152 -22.674134\n",
              "2  15.189888  57.809634 -42.619746\n",
              "3  24.420633  43.874103 -19.453469\n",
              "4  21.567663  40.626721 -19.059057"
            ]
          },
          "metadata": {
            "tags": []
          },
          "execution_count": 29
        }
      ]
    },
    {
      "cell_type": "code",
      "metadata": {
        "colab": {
          "base_uri": "https://localhost:8080/"
        },
        "id": "cJvvONerpk0U",
        "outputId": "4773de88-87db-4d95-d273-8136f83ba528"
      },
      "source": [
        "print(bootstrap_means_df['male'].mean())\r\n",
        "print(bootstrap_means_df['female'].mean())"
      ],
      "execution_count": 30,
      "outputs": [
        {
          "output_type": "stream",
          "text": [
            "21.74482108753351\n",
            "49.62563432604452\n"
          ],
          "name": "stdout"
        }
      ]
    },
    {
      "cell_type": "code",
      "metadata": {
        "colab": {
          "base_uri": "https://localhost:8080/",
          "height": 282
        },
        "id": "cxkDgWCPrWBd",
        "outputId": "c599985c-398c-400e-8e60-c4f1eeed12f4"
      },
      "source": [
        "# Plot both (male and female) bootstraps distributions of the means \r\n",
        "bootstrap_means_df[['male', 'female']].plot(kind='hist', bins=20, alpha=.2)"
      ],
      "execution_count": 31,
      "outputs": [
        {
          "output_type": "execute_result",
          "data": {
            "text/plain": [
              "<matplotlib.axes._subplots.AxesSubplot at 0x7f92edc67cf8>"
            ]
          },
          "metadata": {
            "tags": []
          },
          "execution_count": 31
        },
        {
          "output_type": "display_data",
          "data": {
            "image/png": "[encoded data removed]",
            "text/plain": [
              "<Figure size 432x288 with 1 Axes>"
            ]
          },
          "metadata": {
            "tags": [],
            "needs_background": "light"
          }
        }
      ]
    },
    {
      "cell_type": "code",
      "metadata": {
        "colab": {
          "base_uri": "https://localhost:8080/",
          "height": 282
        },
        "id": "zg-GQlFjvVsU",
        "outputId": "3c3f924b-bffa-4715-816c-8acaeec18f56"
      },
      "source": [
        "# Plot the diff distribution \r\n",
        "bootstrap_means_df['diff'].plot(kind='hist', bins=20, alpha=.2)"
      ],
      "execution_count": 32,
      "outputs": [
        {
          "output_type": "execute_result",
          "data": {
            "text/plain": [
              "<matplotlib.axes._subplots.AxesSubplot at 0x7f92edc21b38>"
            ]
          },
          "metadata": {
            "tags": []
          },
          "execution_count": 32
        },
        {
          "output_type": "display_data",
          "data": {
            "image/png": "[encoded data removed]",
            "text/plain": [
              "<Figure size 432x288 with 1 Axes>"
            ]
          },
          "metadata": {
            "tags": [],
            "needs_background": "light"
          }
        }
      ]
    },
    {
      "cell_type": "code",
      "metadata": {
        "id": "yqKu1eJ4xFRe"
      },
      "source": [
        "# Simulate the distribution under the null hypothesis\r\n",
        "diff_means_h0 = []\r\n",
        "for _ in range(10000):\r\n",
        "  diff_means_h0.append(np.random.normal(0, bootstrap_means_df['diff'].std(), size=sample_size).mean())\r\n",
        "\r\n",
        "bootstrap_means_df['diff_h0'] = diff_means_h0"
      ],
      "execution_count": 33,
      "outputs": []
    },
    {
      "cell_type": "code",
      "metadata": {
        "colab": {
          "base_uri": "https://localhost:8080/",
          "height": 282
        },
        "id": "lZ1GTcA6yahf",
        "outputId": "d4c9106f-e6d8-4a03-9eab-1bd416867234"
      },
      "source": [
        "# Plot the null distribution \r\n",
        "bootstrap_means_df['diff_h0'].plot(kind='hist', bins=20, alpha=.2)"
      ],
      "execution_count": 34,
      "outputs": [
        {
          "output_type": "execute_result",
          "data": {
            "text/plain": [
              "<matplotlib.axes._subplots.AxesSubplot at 0x7f92ed91d9e8>"
            ]
          },
          "metadata": {
            "tags": []
          },
          "execution_count": 34
        },
        {
          "output_type": "display_data",
          "data": {
            "image/png": "[encoded data removed]",
            "text/plain": [
              "<Figure size 432x288 with 1 Axes>"
            ]
          },
          "metadata": {
            "tags": [],
            "needs_background": "light"
          }
        }
      ]
    },
    {
      "cell_type": "code",
      "metadata": {
        "colab": {
          "base_uri": "https://localhost:8080/",
          "height": 282
        },
        "id": "GY-pSar2Ntiz",
        "outputId": "f5f5ebaf-1cae-478d-9201-b44760ddbe61"
      },
      "source": [
        "# Plot both (diff and h0) bootstraps distributions of the means \r\n",
        "bootstrap_means_df[['diff', 'diff_h0']].plot(kind='hist', bins=20, alpha=.2)"
      ],
      "execution_count": 35,
      "outputs": [
        {
          "output_type": "execute_result",
          "data": {
            "text/plain": [
              "<matplotlib.axes._subplots.AxesSubplot at 0x7f92ed88b748>"
            ]
          },
          "metadata": {
            "tags": []
          },
          "execution_count": 35
        },
        {
          "output_type": "display_data",
          "data": {
            "image/png": "[encoded data removed]",
            "text/plain": [
              "<Figure size 432x288 with 1 Axes>"
            ]
          },
          "metadata": {
            "tags": [],
            "needs_background": "light"
          }
        }
      ]
    },
    {
      "cell_type": "code",
      "metadata": {
        "id": "UVtDbfjFgwGj",
        "outputId": "428fdc05-f1a3-4b1e-98a6-45b9aa08ee5a",
        "colab": {
          "base_uri": "https://localhost:8080/"
        }
      },
      "source": [
        "# H0 counts\r\n",
        "(bootstrap_means_df['diff'] > bootstrap_means_df['diff_h0']).value_counts()"
      ],
      "execution_count": 36,
      "outputs": [
        {
          "output_type": "execute_result",
          "data": {
            "text/plain": [
              "False    9985\n",
              "True       15\n",
              "dtype: int64"
            ]
          },
          "metadata": {
            "tags": []
          },
          "execution_count": 36
        }
      ]
    },
    {
      "cell_type": "code",
      "metadata": {
        "colab": {
          "base_uri": "https://localhost:8080/"
        },
        "id": "WKnQ3QztygYK",
        "outputId": "ec8f90ca-0a9d-4087-aa5c-96eb4f3f75ab"
      },
      "source": [
        "# Calculate p_value\r\n",
        "pvalue_bootstrap = (bootstrap_means_df['diff'] > bootstrap_means_df['diff_h0']).mean()\r\n",
        "pvalue_bootstrap"
      ],
      "execution_count": 37,
      "outputs": [
        {
          "output_type": "execute_result",
          "data": {
            "text/plain": [
              "0.0015"
            ]
          },
          "metadata": {
            "tags": []
          },
          "execution_count": 37
        }
      ]
    },
    {
      "cell_type": "code",
      "metadata": {
        "colab": {
          "base_uri": "https://localhost:8080/"
        },
        "id": "8j9UTdtaxRAU",
        "outputId": "78a068a2-899e-4a9e-9590-2371c75fa9ff"
      },
      "source": [
        "# Use the pvalue to evaluate H0\r\n",
        "if (pvalue_bootstrap < alpha):\r\n",
        "  print(\"We have evidence to reject the null hypothesis. Men pay more for tickets than women.\")\r\n",
        "else:\r\n",
        "  print(\"We don't have evidence to reject the null hypothesis. Men pay as much as women for tickets.\")"
      ],
      "execution_count": 38,
      "outputs": [
        {
          "output_type": "stream",
          "text": [
            "We have evidence to reject the null hypothesis. Men pay more for tickets than women.\n"
          ],
          "name": "stdout"
        }
      ]
    }
  ]
}