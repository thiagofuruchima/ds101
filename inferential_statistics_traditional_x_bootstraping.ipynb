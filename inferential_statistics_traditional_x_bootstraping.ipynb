{
  "nbformat": 4,
  "nbformat_minor": 0,
  "metadata": {
    "colab": {
      "name": "Inferential Statistics - Traditional x Bootstraping.ipynb",
      "provenance": [],
      "toc_visible": true,
      "authorship_tag": "ABX9TyPbpURvxzgVU6HX9R0iddH9",
      "include_colab_link": true
    },
    "kernelspec": {
      "display_name": "Python 3",
      "name": "python3"
    }
  },
  "cells": [
    {
      "cell_type": "markdown",
      "metadata": {
        "id": "view-in-github",
        "colab_type": "text"
      },
      "source": [
        "<a href=\"https://colab.research.google.com/github/thiagofuruchima/ds101/blob/main/inferential_statistics_traditional_x_bootstraping.ipynb\" target=\"_parent\"><img src=\"https://colab.research.google.com/assets/colab-badge.svg\" alt=\"Open In Colab\"/></a>"
      ]
    },
    {
      "cell_type": "markdown",
      "metadata": {
        "id": "KkhLd32jFMnP"
      },
      "source": [
        "## Inferential Statistics - Traditional x Bootstraping\r\n",
        "\r\n",
        "I'm using this notebok to better understand inferential statistics, specially the differences between traditional and bootstraping approaches for confidence interval (CI) estimation and hypothesis testing.\r\n",
        "\r\n",
        "A simple well-know dataset is used in this analysis. This dataset will be taken as our population, and a single Simple Random Sample (SRS) is going to be used."
      ]
    },
    {
      "cell_type": "markdown",
      "metadata": {
        "id": "2jmNKiayIm0n"
      },
      "source": [
        "## Data preparation\r\n",
        "\r\n",
        "We're not going to do a full EDA, since our goal is just to get a better undertanding on inferential statistcs."
      ]
    },
    {
      "cell_type": "code",
      "metadata": {
        "id": "ljKWzL1Baa9z"
      },
      "source": [
        "# load the libraries\r\n",
        "import pandas as pd\r\n",
        "import numpy as np\r\n",
        "import matplotlib.pyplot as plt\r\n",
        "import seaborn as sns\r\n",
        "import statsmodels.stats.api as sms\r\n",
        "from scipy import stats"
      ],
      "execution_count": 112,
      "outputs": []
    },
    {
      "cell_type": "code",
      "metadata": {
        "id": "cHdhW567amX6"
      },
      "source": [
        "# load the titanic dataset\r\n",
        "df = sns.load_dataset('titanic')"
      ],
      "execution_count": 113,
      "outputs": []
    },
    {
      "cell_type": "code",
      "metadata": {
        "id": "fxGKksHebBhx",
        "colab": {
          "base_uri": "https://localhost:8080/"
        },
        "outputId": "ad0fc9ab-b3b1-4467-a797-0fdd04db63df"
      },
      "source": [
        "# check the shape\r\n",
        "df.shape"
      ],
      "execution_count": 114,
      "outputs": [
        {
          "output_type": "execute_result",
          "data": {
            "text/plain": [
              "(891, 15)"
            ]
          },
          "metadata": {
            "tags": []
          },
          "execution_count": 114
        }
      ]
    },
    {
      "cell_type": "code",
      "metadata": {
        "id": "w7ua88KxGMRR",
        "colab": {
          "base_uri": "https://localhost:8080/"
        },
        "outputId": "efdd651f-ec13-4470-800a-1bd4260eb9f7"
      },
      "source": [
        "# check the datatypes\r\n",
        "df.dtypes"
      ],
      "execution_count": 115,
      "outputs": [
        {
          "output_type": "execute_result",
          "data": {
            "text/plain": [
              "survived          int64\n",
              "pclass            int64\n",
              "sex              object\n",
              "age             float64\n",
              "sibsp             int64\n",
              "parch             int64\n",
              "fare            float64\n",
              "embarked         object\n",
              "class          category\n",
              "who              object\n",
              "adult_male         bool\n",
              "deck           category\n",
              "embark_town      object\n",
              "alive            object\n",
              "alone              bool\n",
              "dtype: object"
            ]
          },
          "metadata": {
            "tags": []
          },
          "execution_count": 115
        }
      ]
    },
    {
      "cell_type": "code",
      "metadata": {
        "id": "Rcfy9C3pGPP2",
        "colab": {
          "base_uri": "https://localhost:8080/"
        },
        "outputId": "6ec2bd0b-9de6-4c11-deff-dc23414881c0"
      },
      "source": [
        "# check for null values\r\n",
        "df.isna().sum()"
      ],
      "execution_count": 116,
      "outputs": [
        {
          "output_type": "execute_result",
          "data": {
            "text/plain": [
              "survived         0\n",
              "pclass           0\n",
              "sex              0\n",
              "age            177\n",
              "sibsp            0\n",
              "parch            0\n",
              "fare             0\n",
              "embarked         2\n",
              "class            0\n",
              "who              0\n",
              "adult_male       0\n",
              "deck           688\n",
              "embark_town      2\n",
              "alive            0\n",
              "alone            0\n",
              "dtype: int64"
            ]
          },
          "metadata": {
            "tags": []
          },
          "execution_count": 116
        }
      ]
    },
    {
      "cell_type": "code",
      "metadata": {
        "id": "fiwkL4LDa_Qi",
        "colab": {
          "base_uri": "https://localhost:8080/",
          "height": 225
        },
        "outputId": "589d6c22-9082-4b7d-de2f-ca7bdc820084"
      },
      "source": [
        "# check the first 5 rows\r\n",
        "df.head()"
      ],
      "execution_count": 117,
      "outputs": [
        {
          "output_type": "execute_result",
          "data": {
            "text/html": [
              "<div>\n",
              "<style scoped>\n",
              "    .dataframe tbody tr th:only-of-type {\n",
              "        vertical-align: middle;\n",
              "    }\n",
              "\n",
              "    .dataframe tbody tr th {\n",
              "        vertical-align: top;\n",
              "    }\n",
              "\n",
              "    .dataframe thead th {\n",
              "        text-align: right;\n",
              "    }\n",
              "</style>\n",
              "<table border=\"1\" class=\"dataframe\">\n",
              "  <thead>\n",
              "    <tr style=\"text-align: right;\">\n",
              "      <th></th>\n",
              "      <th>survived</th>\n",
              "      <th>pclass</th>\n",
              "      <th>sex</th>\n",
              "      <th>age</th>\n",
              "      <th>sibsp</th>\n",
              "      <th>parch</th>\n",
              "      <th>fare</th>\n",
              "      <th>embarked</th>\n",
              "      <th>class</th>\n",
              "      <th>who</th>\n",
              "      <th>adult_male</th>\n",
              "      <th>deck</th>\n",
              "      <th>embark_town</th>\n",
              "      <th>alive</th>\n",
              "      <th>alone</th>\n",
              "    </tr>\n",
              "  </thead>\n",
              "  <tbody>\n",
              "    <tr>\n",
              "      <th>0</th>\n",
              "      <td>0</td>\n",
              "      <td>3</td>\n",
              "      <td>male</td>\n",
              "      <td>22.0</td>\n",
              "      <td>1</td>\n",
              "      <td>0</td>\n",
              "      <td>7.2500</td>\n",
              "      <td>S</td>\n",
              "      <td>Third</td>\n",
              "      <td>man</td>\n",
              "      <td>True</td>\n",
              "      <td>NaN</td>\n",
              "      <td>Southampton</td>\n",
              "      <td>no</td>\n",
              "      <td>False</td>\n",
              "    </tr>\n",
              "    <tr>\n",
              "      <th>1</th>\n",
              "      <td>1</td>\n",
              "      <td>1</td>\n",
              "      <td>female</td>\n",
              "      <td>38.0</td>\n",
              "      <td>1</td>\n",
              "      <td>0</td>\n",
              "      <td>71.2833</td>\n",
              "      <td>C</td>\n",
              "      <td>First</td>\n",
              "      <td>woman</td>\n",
              "      <td>False</td>\n",
              "      <td>C</td>\n",
              "      <td>Cherbourg</td>\n",
              "      <td>yes</td>\n",
              "      <td>False</td>\n",
              "    </tr>\n",
              "    <tr>\n",
              "      <th>2</th>\n",
              "      <td>1</td>\n",
              "      <td>3</td>\n",
              "      <td>female</td>\n",
              "      <td>26.0</td>\n",
              "      <td>0</td>\n",
              "      <td>0</td>\n",
              "      <td>7.9250</td>\n",
              "      <td>S</td>\n",
              "      <td>Third</td>\n",
              "      <td>woman</td>\n",
              "      <td>False</td>\n",
              "      <td>NaN</td>\n",
              "      <td>Southampton</td>\n",
              "      <td>yes</td>\n",
              "      <td>True</td>\n",
              "    </tr>\n",
              "    <tr>\n",
              "      <th>3</th>\n",
              "      <td>1</td>\n",
              "      <td>1</td>\n",
              "      <td>female</td>\n",
              "      <td>35.0</td>\n",
              "      <td>1</td>\n",
              "      <td>0</td>\n",
              "      <td>53.1000</td>\n",
              "      <td>S</td>\n",
              "      <td>First</td>\n",
              "      <td>woman</td>\n",
              "      <td>False</td>\n",
              "      <td>C</td>\n",
              "      <td>Southampton</td>\n",
              "      <td>yes</td>\n",
              "      <td>False</td>\n",
              "    </tr>\n",
              "    <tr>\n",
              "      <th>4</th>\n",
              "      <td>0</td>\n",
              "      <td>3</td>\n",
              "      <td>male</td>\n",
              "      <td>35.0</td>\n",
              "      <td>0</td>\n",
              "      <td>0</td>\n",
              "      <td>8.0500</td>\n",
              "      <td>S</td>\n",
              "      <td>Third</td>\n",
              "      <td>man</td>\n",
              "      <td>True</td>\n",
              "      <td>NaN</td>\n",
              "      <td>Southampton</td>\n",
              "      <td>no</td>\n",
              "      <td>True</td>\n",
              "    </tr>\n",
              "  </tbody>\n",
              "</table>\n",
              "</div>"
            ],
            "text/plain": [
              "   survived  pclass     sex   age  ...  deck  embark_town  alive  alone\n",
              "0         0       3    male  22.0  ...   NaN  Southampton     no  False\n",
              "1         1       1  female  38.0  ...     C    Cherbourg    yes  False\n",
              "2         1       3  female  26.0  ...   NaN  Southampton    yes   True\n",
              "3         1       1  female  35.0  ...     C  Southampton    yes  False\n",
              "4         0       3    male  35.0  ...   NaN  Southampton     no   True\n",
              "\n",
              "[5 rows x 15 columns]"
            ]
          },
          "metadata": {
            "tags": []
          },
          "execution_count": 117
        }
      ]
    },
    {
      "cell_type": "code",
      "metadata": {
        "id": "H66fpbxDKBvt"
      },
      "source": [
        "# Take a SRS from the population\r\n",
        "sample_size = 100\r\n",
        "sample_df = df.sample(sample_size, replace=True)"
      ],
      "execution_count": 118,
      "outputs": []
    },
    {
      "cell_type": "markdown",
      "metadata": {
        "id": "1sFQk_2zJOWO"
      },
      "source": [
        "## What is the 95% CI for the 'fare' price"
      ]
    },
    {
      "cell_type": "code",
      "metadata": {
        "colab": {
          "base_uri": "https://localhost:8080/"
        },
        "id": "rVtI-wh_bmP3",
        "outputId": "0ee45ad9-116a-4867-92c2-24257a67c0d7"
      },
      "source": [
        "# Compute the mean, std for the 'fare' from our population\r\n",
        "# This is NOT going to be used in inference, it is just for comparision\r\n",
        "pop_mean, pop_std = df['fare'].mean(), df['fare'].std()\r\n",
        "pop_mean, pop_std"
      ],
      "execution_count": 119,
      "outputs": [
        {
          "output_type": "execute_result",
          "data": {
            "text/plain": [
              "(32.2042079685746, 49.693428597180905)"
            ]
          },
          "metadata": {
            "tags": []
          },
          "execution_count": 119
        }
      ]
    },
    {
      "cell_type": "markdown",
      "metadata": {
        "id": "UBC_VoHVbeEK"
      },
      "source": [
        "### Traditional Approach"
      ]
    },
    {
      "cell_type": "code",
      "metadata": {
        "colab": {
          "base_uri": "https://localhost:8080/"
        },
        "id": "G8amhN_ibcy7",
        "outputId": "39ddfdc2-5416-43e3-a408-f563623278fc"
      },
      "source": [
        "# calculate the sample_mean and sample_standard_deviation\r\n",
        "sample_mean = sample_df['fare'].mean()\r\n",
        "standard_error = sample_df['fare'].std()/np.sqrt(sample_size)\r\n",
        "\r\n",
        "sample_mean, standard_error"
      ],
      "execution_count": 120,
      "outputs": [
        {
          "output_type": "execute_result",
          "data": {
            "text/plain": [
              "(34.80195800000003, 6.34138786821607)"
            ]
          },
          "metadata": {
            "tags": []
          },
          "execution_count": 120
        }
      ]
    },
    {
      "cell_type": "code",
      "metadata": {
        "colab": {
          "base_uri": "https://localhost:8080/"
        },
        "id": "RCohIz2eTiR9",
        "outputId": "058757e4-f14b-4ffe-8413-e23eb36b8c1a"
      },
      "source": [
        "# the critical value for 95% CI using the Z-Dist\r\n",
        "stats.norm.ppf(0.025), stats.norm.ppf(.975)"
      ],
      "execution_count": 121,
      "outputs": [
        {
          "output_type": "execute_result",
          "data": {
            "text/plain": [
              "(-1.9599639845400545, 1.959963984540054)"
            ]
          },
          "metadata": {
            "tags": []
          },
          "execution_count": 121
        }
      ]
    },
    {
      "cell_type": "code",
      "metadata": {
        "colab": {
          "base_uri": "https://localhost:8080/"
        },
        "id": "Ix-4xPBHT0Bu",
        "outputId": "19063bfe-779e-4b99-8307-b24a39f96a7c"
      },
      "source": [
        "# the critical value for 95% CI using the T-Dist\r\n",
        "stats.t.ppf(0.025, df=sample_size-1), stats.t.ppf(.975, df=sample_size-1)"
      ],
      "execution_count": 122,
      "outputs": [
        {
          "output_type": "execute_result",
          "data": {
            "text/plain": [
              "(-1.9842169515086832, 1.9842169515086827)"
            ]
          },
          "metadata": {
            "tags": []
          },
          "execution_count": 122
        }
      ]
    },
    {
      "cell_type": "markdown",
      "metadata": {
        "id": "CNx45FskUaJo"
      },
      "source": [
        "Since we're inferencing the population mean, and our sample size is 'small', we can't use the z-distribution, and have to use the t-distribution"
      ]
    },
    {
      "cell_type": "code",
      "metadata": {
        "colab": {
          "base_uri": "https://localhost:8080/"
        },
        "id": "d3a3gFQ2TP7k",
        "outputId": "9bad0554-eae4-4994-988b-9d8445db43b2"
      },
      "source": [
        "# Calculate the critical value for 95% CI (between 2.5% and 97.5%)\r\n",
        "critical_value = stats.t.ppf(.975, df=sample_size-1)\r\n",
        "\r\n",
        "critical_value"
      ],
      "execution_count": 123,
      "outputs": [
        {
          "output_type": "execute_result",
          "data": {
            "text/plain": [
              "1.9842169515086827"
            ]
          },
          "metadata": {
            "tags": []
          },
          "execution_count": 123
        }
      ]
    },
    {
      "cell_type": "code",
      "metadata": {
        "colab": {
          "base_uri": "https://localhost:8080/"
        },
        "id": "1bPuAnFsTMkj",
        "outputId": "611a1d1f-4ef0-4d40-84b4-3ddcede5413b"
      },
      "source": [
        "# Calculate the 95% CI\r\n",
        "ci_lower = sample_mean-standard_error*critical_value\r\n",
        "ci_upper = sample_mean+standard_error*critical_value\r\n",
        "\r\n",
        "ci_lower, ci_lower"
      ],
      "execution_count": 124,
      "outputs": [
        {
          "output_type": "execute_result",
          "data": {
            "text/plain": [
              "(22.21926869579419, 22.21926869579419)"
            ]
          },
          "metadata": {
            "tags": []
          },
          "execution_count": 124
        }
      ]
    },
    {
      "cell_type": "code",
      "metadata": {
        "colab": {
          "base_uri": "https://localhost:8080/"
        },
        "id": "x6NE-6O5VSz2",
        "outputId": "1d53981a-f838-471c-b9d6-74a4b470290b"
      },
      "source": [
        "# Print the results\r\n",
        "print(\"Statistic:\", sample_mean)\r\n",
        "print(\"Confidence Interval:\", ci_lower, ci_upper)\r\n",
        "print(\"Margin of Error: +-\", critical_value*standard_error)"
      ],
      "execution_count": 125,
      "outputs": [
        {
          "output_type": "stream",
          "text": [
            "Statistic: 34.80195800000003\n",
            "Confidence Interval: 22.21926869579419 47.38464730420586\n",
            "Margin of Error: +- 12.582689304205834\n"
          ],
          "name": "stdout"
        }
      ]
    },
    {
      "cell_type": "code",
      "metadata": {
        "colab": {
          "base_uri": "https://localhost:8080/"
        },
        "id": "dgKQtKcff3_7",
        "outputId": "c83ff8de-12e2-4805-d836-59148ad8c075"
      },
      "source": [
        "# 95% CI using the statsmodels\r\n",
        "sms.DescrStatsW(sample_df['fare']).tconfint_mean(alpha=0.05)"
      ],
      "execution_count": 126,
      "outputs": [
        {
          "output_type": "execute_result",
          "data": {
            "text/plain": [
              "(22.219268695794167, 47.38464730420583)"
            ]
          },
          "metadata": {
            "tags": []
          },
          "execution_count": 126
        }
      ]
    },
    {
      "cell_type": "code",
      "metadata": {
        "colab": {
          "base_uri": "https://localhost:8080/"
        },
        "id": "7rqhja-rpMOw",
        "outputId": "98ae6e86-919a-4790-fe51-491dad94cb37"
      },
      "source": [
        "# 95% CI using the scipy\r\n",
        "stats.t.interval(0.95, df=sample_size-1 ,loc=sample_mean, scale=standard_error)"
      ],
      "execution_count": 127,
      "outputs": [
        {
          "output_type": "execute_result",
          "data": {
            "text/plain": [
              "(22.21926869579419, 47.38464730420586)"
            ]
          },
          "metadata": {
            "tags": []
          },
          "execution_count": 127
        }
      ]
    },
    {
      "cell_type": "code",
      "metadata": {
        "colab": {
          "base_uri": "https://localhost:8080/",
          "height": 265
        },
        "id": "TmN2itiLqbMq",
        "outputId": "07ff920c-ee67-4611-b2bd-cf1ae0bc3d6e"
      },
      "source": [
        "# Plot the sample distribution \r\n",
        "plt.hist(np.random.normal(sample_mean, standard_error, 10000), bins=20, alpha=.2)\r\n",
        "plt.axvline(x = pop_mean, color = \"black\", linestyle = \"dotted\", label='Population Mean')\r\n",
        "plt.axvline(x = sample_mean, color = \"red\", linestyle = \"dotted\", label='Sample Mean')\r\n",
        "plt.axvline(x = ci_lower, color = \"pink\", linestyle = \"dotted\", label='CI 95%')\r\n",
        "plt.axvline(x = ci_upper, color = \"pink\", linestyle = \"dotted\")\r\n",
        "plt.legend()\r\n",
        "plt.show()"
      ],
      "execution_count": 128,
      "outputs": [
        {
          "output_type": "display_data",
          "data": {
            "image/png": "[encoded data removed]",
            "text/plain": [
              "<Figure size 432x288 with 1 Axes>"
            ]
          },
          "metadata": {
            "tags": [],
            "needs_background": "light"
          }
        }
      ]
    },
    {
      "cell_type": "markdown",
      "metadata": {
        "id": "64m0W-fYckbK"
      },
      "source": [
        "### Bootstraping Approach\r\n",
        "1. Take the sample\r\n",
        "2. Take n bootstrap samples from the sample\r\n",
        "3. Compute the mean for each bootstrap sample\r\n",
        "4. Compute the percentiles (.025 and .0975) of the bootstrap sample means"
      ]
    },
    {
      "cell_type": "code",
      "metadata": {
        "id": "zJsaJaw8cpHK"
      },
      "source": [
        "# take n bootstrap samples from the sample\r\n",
        "bootstrap_means_list = []\r\n",
        "for _ in range(10000):\r\n",
        "  # take one bootstrap sample\r\n",
        "  bootstrap_sample = sample_df.sample(sample_size, replace=True)\r\n",
        "  # compute the statistic for each sample\r\n",
        "  bootstrap_mean = bootstrap_sample['fare'].mean()\r\n",
        "  # add to the list\r\n",
        "  bootstrap_means_list.append(bootstrap_mean)\r\n",
        "\r\n",
        "# use the list to generate a DataFrame (for ease of use)\r\n",
        "bootstrap_means_df = pd.DataFrame({\"Bootstrap\":bootstrap_means_list})"
      ],
      "execution_count": 129,
      "outputs": []
    },
    {
      "cell_type": "code",
      "metadata": {
        "colab": {
          "base_uri": "https://localhost:8080/"
        },
        "id": "bxslDA6SzKo6",
        "outputId": "ba968ba3-73a3-45c7-ade6-bba0459b6b21"
      },
      "source": [
        "# Calculate the sample distribution mean\r\n",
        "bootstrap_mean = bootstrap_means_df['Bootstrap'].mean()\r\n",
        "bootstrap_mean"
      ],
      "execution_count": 130,
      "outputs": [
        {
          "output_type": "execute_result",
          "data": {
            "text/plain": [
              "34.788898187600104"
            ]
          },
          "metadata": {
            "tags": []
          },
          "execution_count": 130
        }
      ]
    },
    {
      "cell_type": "code",
      "metadata": {
        "colab": {
          "base_uri": "https://localhost:8080/"
        },
        "id": "hcy600wfxLhe",
        "outputId": "e5409e98-a26c-4734-9760-971c36582f3e"
      },
      "source": [
        "# Calculate the 95% CI using the percentiles from the bootstrap sample means\r\n",
        "bootstrap_ci_lower = bootstrap_means_df['Bootstrap'].quantile(.025)\r\n",
        "bootstrap_ci_upper = bootstrap_means_df['Bootstrap'].quantile(.975)\r\n",
        "bootstrap_ci_lower, bootstrap_ci_upper"
      ],
      "execution_count": 131,
      "outputs": [
        {
          "output_type": "execute_result",
          "data": {
            "text/plain": [
              "(24.057909450000004, 48.52363317500003)"
            ]
          },
          "metadata": {
            "tags": []
          },
          "execution_count": 131
        }
      ]
    },
    {
      "cell_type": "code",
      "metadata": {
        "colab": {
          "base_uri": "https://localhost:8080/"
        },
        "id": "U7dk4hfmw8_I",
        "outputId": "3262794d-5768-4de7-9564-b60e4109aff5"
      },
      "source": [
        "# Print the results\r\n",
        "print(\"Statistic:\", bootstrap_mean)\r\n",
        "print(\"Confidence Interval:\", bootstrap_ci_lower, bootstrap_ci_upper)\r\n",
        "print(\"Margin of Error: TODO\") # What is the right way to calculate the Margin of Error (since quantiles are not symetric)"
      ],
      "execution_count": 132,
      "outputs": [
        {
          "output_type": "stream",
          "text": [
            "Statistic: 34.788898187600104\n",
            "Confidence Interval: 24.057909450000004 48.52363317500003\n",
            "Margin of Error: TODO\n"
          ],
          "name": "stdout"
        }
      ]
    },
    {
      "cell_type": "code",
      "metadata": {
        "colab": {
          "base_uri": "https://localhost:8080/",
          "height": 265
        },
        "id": "GlckI4lguth1",
        "outputId": "7ad0988a-2d59-452b-8927-cfe848c22271"
      },
      "source": [
        "# plot the distribution from the bootstrap means \r\n",
        "bootstrap_means_df.plot(kind='hist', bins=20, alpha=0.2)\r\n",
        "plt.axvline(x = pop_mean, color = \"black\", linestyle = \"dotted\", label='Population Mean')\r\n",
        "plt.axvline(x = bootstrap_mean, color = \"red\", linestyle = \"dotted\", label='Sample Mean')\r\n",
        "plt.axvline(x = bootstrap_ci_lower, color = \"pink\", linestyle = \"dotted\", label='CI 95%')\r\n",
        "plt.axvline(x = bootstrap_ci_upper, color = \"pink\", linestyle = \"dotted\")\r\n",
        "plt.legend()\r\n",
        "plt.show()"
      ],
      "execution_count": 133,
      "outputs": [
        {
          "output_type": "display_data",
          "data": {
            "image/png": "[encoded data removed]",
            "text/plain": [
              "<Figure size 432x288 with 1 Axes>"
            ]
          },
          "metadata": {
            "tags": [],
            "needs_background": "light"
          }
        }
      ]
    },
    {
      "cell_type": "markdown",
      "metadata": {
        "id": "gnUKkyrljGay"
      },
      "source": [
        "## Do men pay more for the ticket than women?\r\n",
        "\r\n",
        "\r\n",
        "$$ H_0: \\mu_{male} - \\mu_{female} \\le 0 $$\r\n",
        "\r\n",
        "$$ H_1: \\mu_{male} - \\mu_{female} \\gt 0 $$"
      ]
    },
    {
      "cell_type": "markdown",
      "metadata": {
        "id": "ItAuVmjt_A-T"
      },
      "source": [
        "### Traditional Approach\r\n",
        "\r\n",
        "The traditional approach to this type of hypothesis is to perform a t-test for the means of two independent samples, a.k.a. Two Sample T-Test."
      ]
    },
    {
      "cell_type": "code",
      "metadata": {
        "id": "50tiNfH9vkaf"
      },
      "source": [
        "# define the significance level for our hypotesis tests\r\n",
        "alpha = 0.05"
      ],
      "execution_count": 134,
      "outputs": []
    },
    {
      "cell_type": "code",
      "metadata": {
        "id": "W4-zdnx0tGF0"
      },
      "source": [
        "# separate the gender's fare's in two dataframes\r\n",
        "male_fares_df = sample_df[sample_df['sex']=='male']['fare']\r\n",
        "female_fares_df = sample_df[sample_df['sex']=='female']['fare']"
      ],
      "execution_count": 135,
      "outputs": []
    },
    {
      "cell_type": "code",
      "metadata": {
        "colab": {
          "base_uri": "https://localhost:8080/"
        },
        "id": "xvtn2kgkte82",
        "outputId": "88a9c7ff-4a28-4867-e423-2d58d0917d9b"
      },
      "source": [
        "# Performe the levene test to check if the variances are statistically equal or not,\r\n",
        "_, pvalue_levene = stats.levene(male_fares_df, female_fares_df)\r\n",
        "\r\n",
        "# use levene's result to decide if the variances are equal or not \r\n",
        "equal_variances = pvalue_levene < alpha\r\n",
        "\r\n",
        "equal_variances"
      ],
      "execution_count": 136,
      "outputs": [
        {
          "output_type": "execute_result",
          "data": {
            "text/plain": [
              "False"
            ]
          },
          "metadata": {
            "tags": []
          },
          "execution_count": 136
        }
      ]
    },
    {
      "cell_type": "code",
      "metadata": {
        "colab": {
          "base_uri": "https://localhost:8080/"
        },
        "id": "kzaPaUZkttX3",
        "outputId": "8662d186-6f39-4028-cc93-61bb9bdf223b"
      },
      "source": [
        "# Use scypy.stats.ttest_ind to perform the two sample t-test\r\n",
        "_, pvalue_ttest = stats.ttest_ind(male_fares_df, female_fares_df, equal_var=equal_variances)\r\n",
        "\r\n",
        "pvalue_ttest"
      ],
      "execution_count": 137,
      "outputs": [
        {
          "output_type": "execute_result",
          "data": {
            "text/plain": [
              "0.20341420991061665"
            ]
          },
          "metadata": {
            "tags": []
          },
          "execution_count": 137
        }
      ]
    },
    {
      "cell_type": "code",
      "metadata": {
        "colab": {
          "base_uri": "https://localhost:8080/"
        },
        "id": "7kRw1f8ywN0t",
        "outputId": "31089fdf-b189-473a-c1a9-bfd47e97a6aa"
      },
      "source": [
        "# Use the t-test two sample result to evaluate H0\r\n",
        "if (pvalue_ttest < alpha):\r\n",
        "  print(\"We have evidence to reject the null hypothesis. Men pay more for tickets than women.\")\r\n",
        "else:\r\n",
        "  print(\"We don't have evidence to reject the null hypothesis. Men don't pay more for tickets than women.\")"
      ],
      "execution_count": 138,
      "outputs": [
        {
          "output_type": "stream",
          "text": [
            "We don't have evidence to reject the null hypothesis. Men don't pay more for tickets than women.\n"
          ],
          "name": "stdout"
        }
      ]
    },
    {
      "cell_type": "markdown",
      "metadata": {
        "id": "lZZw2SGj-WB4"
      },
      "source": [
        "### Bootstrap Approach\r\n",
        "\r\n",
        "1. Take the sample\r\n",
        "2. Take n bootstrap samples from the sample\r\n",
        "3. Compute the mean for each bootstrap sample\r\n",
        "4. Simulate the distribution under H0\r\n",
        "5. Compare the booststrap sample distribution and the H0 distribution  "
      ]
    },
    {
      "cell_type": "code",
      "metadata": {
        "id": "wTpUZBHwkJNf"
      },
      "source": [
        "bootstrap_means_male, bootstrap_means_female = [], []\r\n",
        "\r\n",
        "# take n bootstrap samples from the sample\r\n",
        "for _ in range(10000):\r\n",
        "  # take one bootstrap sample\r\n",
        "  bootstrap_sample = sample_df.sample(sample_size, replace=True)\r\n",
        "  # compute the statistic for each sample and add to the list\r\n",
        "  bootstrap_means_male.append(bootstrap_sample[bootstrap_sample['sex']=='male']['fare'].mean())\r\n",
        "  bootstrap_means_female.append(bootstrap_sample[bootstrap_sample['sex']=='female']['fare'].mean())\r\n",
        "\r\n",
        "# use the lists to generate a DataFrame (for ease of use)\r\n",
        "bootstrap_means_df = pd.DataFrame({'male':bootstrap_means_male, 'female':bootstrap_means_female})\r\n",
        "\r\n",
        "# compute the mean diff between the two 'lists'\r\n",
        "bootstrap_means_df['diff'] = bootstrap_means_df['male']-bootstrap_means_df['female']"
      ],
      "execution_count": 139,
      "outputs": []
    },
    {
      "cell_type": "code",
      "metadata": {
        "colab": {
          "base_uri": "https://localhost:8080/",
          "height": 205
        },
        "id": "u_b4pW5HpK0E",
        "outputId": "6d140fd1-50f1-4747-e943-f1ea6bbcf3eb"
      },
      "source": [
        "bootstrap_means_df.head()"
      ],
      "execution_count": 140,
      "outputs": [
        {
          "output_type": "execute_result",
          "data": {
            "text/html": [
              "<div>\n",
              "<style scoped>\n",
              "    .dataframe tbody tr th:only-of-type {\n",
              "        vertical-align: middle;\n",
              "    }\n",
              "\n",
              "    .dataframe tbody tr th {\n",
              "        vertical-align: top;\n",
              "    }\n",
              "\n",
              "    .dataframe thead th {\n",
              "        text-align: right;\n",
              "    }\n",
              "</style>\n",
              "<table border=\"1\" class=\"dataframe\">\n",
              "  <thead>\n",
              "    <tr style=\"text-align: right;\">\n",
              "      <th></th>\n",
              "      <th>male</th>\n",
              "      <th>female</th>\n",
              "      <th>diff</th>\n",
              "    </tr>\n",
              "  </thead>\n",
              "  <tbody>\n",
              "    <tr>\n",
              "      <th>0</th>\n",
              "      <td>23.503669</td>\n",
              "      <td>48.682000</td>\n",
              "      <td>-25.178331</td>\n",
              "    </tr>\n",
              "    <tr>\n",
              "      <th>1</th>\n",
              "      <td>37.584499</td>\n",
              "      <td>53.109113</td>\n",
              "      <td>-15.524614</td>\n",
              "    </tr>\n",
              "    <tr>\n",
              "      <th>2</th>\n",
              "      <td>21.638333</td>\n",
              "      <td>65.534660</td>\n",
              "      <td>-43.896327</td>\n",
              "    </tr>\n",
              "    <tr>\n",
              "      <th>3</th>\n",
              "      <td>37.074068</td>\n",
              "      <td>39.738367</td>\n",
              "      <td>-2.664298</td>\n",
              "    </tr>\n",
              "    <tr>\n",
              "      <th>4</th>\n",
              "      <td>20.510563</td>\n",
              "      <td>44.191231</td>\n",
              "      <td>-23.680668</td>\n",
              "    </tr>\n",
              "  </tbody>\n",
              "</table>\n",
              "</div>"
            ],
            "text/plain": [
              "        male     female       diff\n",
              "0  23.503669  48.682000 -25.178331\n",
              "1  37.584499  53.109113 -15.524614\n",
              "2  21.638333  65.534660 -43.896327\n",
              "3  37.074068  39.738367  -2.664298\n",
              "4  20.510563  44.191231 -23.680668"
            ]
          },
          "metadata": {
            "tags": []
          },
          "execution_count": 140
        }
      ]
    },
    {
      "cell_type": "code",
      "metadata": {
        "colab": {
          "base_uri": "https://localhost:8080/"
        },
        "id": "cJvvONerpk0U",
        "outputId": "439504e2-1fc5-4e84-c915-a6001c66445d"
      },
      "source": [
        "print(bootstrap_means_df['male'].mean())\r\n",
        "print(bootstrap_means_df['female'].mean())"
      ],
      "execution_count": 141,
      "outputs": [
        {
          "output_type": "stream",
          "text": [
            "29.723206362535116\n",
            "47.584623308316225\n"
          ],
          "name": "stdout"
        }
      ]
    },
    {
      "cell_type": "code",
      "metadata": {
        "colab": {
          "base_uri": "https://localhost:8080/",
          "height": 282
        },
        "id": "cxkDgWCPrWBd",
        "outputId": "75695fc5-013b-41a2-8197-a977aebfb5a5"
      },
      "source": [
        "# Plot both (male and female) bootstraps distributions of the means \r\n",
        "bootstrap_means_df[['male', 'female']].plot(kind='hist', bins=20, alpha=.2)"
      ],
      "execution_count": 142,
      "outputs": [
        {
          "output_type": "execute_result",
          "data": {
            "text/plain": [
              "<matplotlib.axes._subplots.AxesSubplot at 0x7f8d0e20be48>"
            ]
          },
          "metadata": {
            "tags": []
          },
          "execution_count": 142
        },
        {
          "output_type": "display_data",
          "data": {
            "image/png": "[encoded data removed]",
            "text/plain": [
              "<Figure size 432x288 with 1 Axes>"
            ]
          },
          "metadata": {
            "tags": [],
            "needs_background": "light"
          }
        }
      ]
    },
    {
      "cell_type": "code",
      "metadata": {
        "colab": {
          "base_uri": "https://localhost:8080/",
          "height": 282
        },
        "id": "zg-GQlFjvVsU",
        "outputId": "9c47f4d9-dabc-42d8-d7f0-8ae58fea9fbb"
      },
      "source": [
        "# Plot the diff distribution \r\n",
        "bootstrap_means_df['diff'].plot(kind='hist', bins=20, alpha=.2)"
      ],
      "execution_count": 143,
      "outputs": [
        {
          "output_type": "execute_result",
          "data": {
            "text/plain": [
              "<matplotlib.axes._subplots.AxesSubplot at 0x7f8d0e090080>"
            ]
          },
          "metadata": {
            "tags": []
          },
          "execution_count": 143
        },
        {
          "output_type": "display_data",
          "data": {
            "image/png": "[encoded data removed]",
            "text/plain": [
              "<Figure size 432x288 with 1 Axes>"
            ]
          },
          "metadata": {
            "tags": [],
            "needs_background": "light"
          }
        }
      ]
    },
    {
      "cell_type": "code",
      "metadata": {
        "id": "yqKu1eJ4xFRe"
      },
      "source": [
        "# Simulate the distribution under the null hypothesis\r\n",
        "diff_means_h0 = []\r\n",
        "for _ in range(10000):\r\n",
        "  diff_means_h0.append(np.random.normal(0, bootstrap_means_df['diff'].std(), size=sample_size).mean())\r\n",
        "\r\n",
        "bootstrap_means_df['diff_h0'] = diff_means_h0"
      ],
      "execution_count": 144,
      "outputs": []
    },
    {
      "cell_type": "code",
      "metadata": {
        "colab": {
          "base_uri": "https://localhost:8080/",
          "height": 282
        },
        "id": "lZ1GTcA6yahf",
        "outputId": "97a1f6ed-36be-408a-ae7a-667ce079b025"
      },
      "source": [
        "# Plot the null distribution \r\n",
        "bootstrap_means_df['diff_h0'].plot(kind='hist', bins=20, alpha=.2)"
      ],
      "execution_count": 145,
      "outputs": [
        {
          "output_type": "execute_result",
          "data": {
            "text/plain": [
              "<matplotlib.axes._subplots.AxesSubplot at 0x7f8d0dfce9e8>"
            ]
          },
          "metadata": {
            "tags": []
          },
          "execution_count": 145
        },
        {
          "output_type": "display_data",
          "data": {
            "image/png": "[encoded data removed]",
            "text/plain": [
              "<Figure size 432x288 with 1 Axes>"
            ]
          },
          "metadata": {
            "tags": [],
            "needs_background": "light"
          }
        }
      ]
    },
    {
      "cell_type": "code",
      "metadata": {
        "colab": {
          "base_uri": "https://localhost:8080/",
          "height": 282
        },
        "id": "GY-pSar2Ntiz",
        "outputId": "2db2adc2-9d35-4fbf-ae6f-70076299b241"
      },
      "source": [
        "# Plot both (diff and h0) bootstraps distributions of the means \r\n",
        "bootstrap_means_df[['diff', 'diff_h0']].plot(kind='hist', bins=20, alpha=.2)"
      ],
      "execution_count": 146,
      "outputs": [
        {
          "output_type": "execute_result",
          "data": {
            "text/plain": [
              "<matplotlib.axes._subplots.AxesSubplot at 0x7f8d0dfd4588>"
            ]
          },
          "metadata": {
            "tags": []
          },
          "execution_count": 146
        },
        {
          "output_type": "display_data",
          "data": {
            "image/png": "[encoded data removed]",
            "text/plain": [
              "<Figure size 432x288 with 1 Axes>"
            ]
          },
          "metadata": {
            "tags": [],
            "needs_background": "light"
          }
        }
      ]
    },
    {
      "cell_type": "code",
      "metadata": {
        "colab": {
          "base_uri": "https://localhost:8080/"
        },
        "id": "WKnQ3QztygYK",
        "outputId": "b2a80430-6272-4c4d-d200-984bd28ef751"
      },
      "source": [
        "# Calculate p_value\r\n",
        "pvalue_bootstrap = (bootstrap_means_df['diff'] > bootstrap_means_df['diff_h0']).mean()\r\n",
        "pvalue_bootstrap"
      ],
      "execution_count": 147,
      "outputs": [
        {
          "output_type": "execute_result",
          "data": {
            "text/plain": [
              "0.0945"
            ]
          },
          "metadata": {
            "tags": []
          },
          "execution_count": 147
        }
      ]
    },
    {
      "cell_type": "code",
      "metadata": {
        "id": "ZjrC1f_ud4S3",
        "outputId": "89ee259e-6439-4f24-9f7b-772de1af9a3f",
        "colab": {
          "base_uri": "https://localhost:8080/"
        }
      },
      "source": [
        "# H0 x H1 counts\r\n",
        "(bootstrap_means_df['diff'] > bootstrap_means_df['diff_h0']).value_counts()"
      ],
      "execution_count": 153,
      "outputs": [
        {
          "output_type": "execute_result",
          "data": {
            "text/plain": [
              "False    9055\n",
              "True      945\n",
              "dtype: int64"
            ]
          },
          "metadata": {
            "tags": []
          },
          "execution_count": 153
        }
      ]
    },
    {
      "cell_type": "code",
      "metadata": {
        "colab": {
          "base_uri": "https://localhost:8080/"
        },
        "id": "8j9UTdtaxRAU",
        "outputId": "b457f712-49b5-43c5-b0b0-ce30f39f796e"
      },
      "source": [
        "# Use the pvalue to evaluate H0\r\n",
        "if (pvalue_bootstrap < alpha):\r\n",
        "  print(\"We have evidence to reject the null hypothesis. Men pay more for tickets than women.\")\r\n",
        "else:\r\n",
        "  print(\"We don't have evidence to reject the null hypothesis. Men pay as much as women for tickets.\")"
      ],
      "execution_count": 148,
      "outputs": [
        {
          "output_type": "stream",
          "text": [
            "We don't have evidence to reject the null hypothesis. Men pay as much as women for tickets.\n"
          ],
          "name": "stdout"
        }
      ]
    }
  ]
}