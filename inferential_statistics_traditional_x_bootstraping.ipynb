{
  "nbformat": 4,
  "nbformat_minor": 0,
  "metadata": {
    "colab": {
      "name": "Inferential Statistics - Traditional x Bootstraping.ipynb",
      "provenance": [],
      "toc_visible": true,
      "authorship_tag": "ABX9TyM0ziGztmcXTs6VEgFVEbD1",
      "include_colab_link": true
    },
    "kernelspec": {
      "display_name": "Python 3",
      "name": "python3"
    }
  },
  "cells": [
    {
      "cell_type": "markdown",
      "metadata": {
        "id": "view-in-github",
        "colab_type": "text"
      },
      "source": [
        "<a href=\"https://colab.research.google.com/github/thiagofuruchima/ds101/blob/main/inferential_statistics_traditional_x_bootstraping.ipynb\" target=\"_parent\"><img src=\"https://colab.research.google.com/assets/colab-badge.svg\" alt=\"Open In Colab\"/></a>"
      ]
    },
    {
      "cell_type": "markdown",
      "metadata": {
        "id": "KkhLd32jFMnP"
      },
      "source": [
        "## Inferential Statistics - Traditional x Bootstraping\r\n",
        "\r\n",
        "I'm using this notebok to better understand inferential statistics, specially the differences between traditional and bootstraping approaches for confidence interval (CI) estimation and hypothesis testing.\r\n",
        "\r\n",
        "A simple well-know dataset is used in this analysis. This dataset will be taken as our population, and a single Simple Random Sample (SRS) is going to be used."
      ]
    },
    {
      "cell_type": "markdown",
      "metadata": {
        "id": "2jmNKiayIm0n"
      },
      "source": [
        "## Data preparation\r\n",
        "\r\n",
        "We're not going to do a full EDA, since our goal is just to get a better undertanding on inferential statistcs."
      ]
    },
    {
      "cell_type": "code",
      "metadata": {
        "id": "ljKWzL1Baa9z",
        "colab": {
          "base_uri": "https://localhost:8080/"
        },
        "outputId": "fc1882bf-f615-46a2-9e4e-a477825dcdf3"
      },
      "source": [
        "# load the libraries\r\n",
        "import pandas as pd\r\n",
        "import numpy as np\r\n",
        "import matplotlib.pyplot as plt\r\n",
        "import seaborn as sns\r\n",
        "import statsmodels.stats.api as sms\r\n",
        "from scipy import stats"
      ],
      "execution_count": 1,
      "outputs": [
        {
          "output_type": "stream",
          "text": [
            "/usr/local/lib/python3.6/dist-packages/statsmodels/tools/_testing.py:19: FutureWarning: pandas.util.testing is deprecated. Use the functions in the public API at pandas.testing instead.\n",
            "  import pandas.util.testing as tm\n"
          ],
          "name": "stderr"
        }
      ]
    },
    {
      "cell_type": "code",
      "metadata": {
        "id": "cHdhW567amX6"
      },
      "source": [
        "# load the famous titanic dataset\r\n",
        "df = sns.load_dataset('titanic')"
      ],
      "execution_count": 2,
      "outputs": []
    },
    {
      "cell_type": "code",
      "metadata": {
        "id": "fxGKksHebBhx",
        "colab": {
          "base_uri": "https://localhost:8080/"
        },
        "outputId": "42209438-af5a-439d-a316-7c9a4ae2ccbc"
      },
      "source": [
        "# check the shape\r\n",
        "df.shape"
      ],
      "execution_count": 3,
      "outputs": [
        {
          "output_type": "execute_result",
          "data": {
            "text/plain": [
              "(891, 15)"
            ]
          },
          "metadata": {
            "tags": []
          },
          "execution_count": 3
        }
      ]
    },
    {
      "cell_type": "code",
      "metadata": {
        "id": "w7ua88KxGMRR",
        "colab": {
          "base_uri": "https://localhost:8080/"
        },
        "outputId": "8d1c0a98-c7e4-402a-c3a1-a08ed7c664e9"
      },
      "source": [
        "# check the datatypes\r\n",
        "df.dtypes"
      ],
      "execution_count": 4,
      "outputs": [
        {
          "output_type": "execute_result",
          "data": {
            "text/plain": [
              "survived          int64\n",
              "pclass            int64\n",
              "sex              object\n",
              "age             float64\n",
              "sibsp             int64\n",
              "parch             int64\n",
              "fare            float64\n",
              "embarked         object\n",
              "class          category\n",
              "who              object\n",
              "adult_male         bool\n",
              "deck           category\n",
              "embark_town      object\n",
              "alive            object\n",
              "alone              bool\n",
              "dtype: object"
            ]
          },
          "metadata": {
            "tags": []
          },
          "execution_count": 4
        }
      ]
    },
    {
      "cell_type": "code",
      "metadata": {
        "id": "Rcfy9C3pGPP2",
        "colab": {
          "base_uri": "https://localhost:8080/"
        },
        "outputId": "35df5fae-ecb6-4252-f639-bdd309378e6e"
      },
      "source": [
        "# check for null values\r\n",
        "df.isna().sum()"
      ],
      "execution_count": 5,
      "outputs": [
        {
          "output_type": "execute_result",
          "data": {
            "text/plain": [
              "survived         0\n",
              "pclass           0\n",
              "sex              0\n",
              "age            177\n",
              "sibsp            0\n",
              "parch            0\n",
              "fare             0\n",
              "embarked         2\n",
              "class            0\n",
              "who              0\n",
              "adult_male       0\n",
              "deck           688\n",
              "embark_town      2\n",
              "alive            0\n",
              "alone            0\n",
              "dtype: int64"
            ]
          },
          "metadata": {
            "tags": []
          },
          "execution_count": 5
        }
      ]
    },
    {
      "cell_type": "code",
      "metadata": {
        "id": "fiwkL4LDa_Qi",
        "colab": {
          "base_uri": "https://localhost:8080/",
          "height": 225
        },
        "outputId": "59a36e36-28ee-4f88-8b2c-20ed774be532"
      },
      "source": [
        "# check the first 5 rows\r\n",
        "df.head()"
      ],
      "execution_count": 6,
      "outputs": [
        {
          "output_type": "execute_result",
          "data": {
            "text/html": [
              "<div>\n",
              "<style scoped>\n",
              "    .dataframe tbody tr th:only-of-type {\n",
              "        vertical-align: middle;\n",
              "    }\n",
              "\n",
              "    .dataframe tbody tr th {\n",
              "        vertical-align: top;\n",
              "    }\n",
              "\n",
              "    .dataframe thead th {\n",
              "        text-align: right;\n",
              "    }\n",
              "</style>\n",
              "<table border=\"1\" class=\"dataframe\">\n",
              "  <thead>\n",
              "    <tr style=\"text-align: right;\">\n",
              "      <th></th>\n",
              "      <th>survived</th>\n",
              "      <th>pclass</th>\n",
              "      <th>sex</th>\n",
              "      <th>age</th>\n",
              "      <th>sibsp</th>\n",
              "      <th>parch</th>\n",
              "      <th>fare</th>\n",
              "      <th>embarked</th>\n",
              "      <th>class</th>\n",
              "      <th>who</th>\n",
              "      <th>adult_male</th>\n",
              "      <th>deck</th>\n",
              "      <th>embark_town</th>\n",
              "      <th>alive</th>\n",
              "      <th>alone</th>\n",
              "    </tr>\n",
              "  </thead>\n",
              "  <tbody>\n",
              "    <tr>\n",
              "      <th>0</th>\n",
              "      <td>0</td>\n",
              "      <td>3</td>\n",
              "      <td>male</td>\n",
              "      <td>22.0</td>\n",
              "      <td>1</td>\n",
              "      <td>0</td>\n",
              "      <td>7.2500</td>\n",
              "      <td>S</td>\n",
              "      <td>Third</td>\n",
              "      <td>man</td>\n",
              "      <td>True</td>\n",
              "      <td>NaN</td>\n",
              "      <td>Southampton</td>\n",
              "      <td>no</td>\n",
              "      <td>False</td>\n",
              "    </tr>\n",
              "    <tr>\n",
              "      <th>1</th>\n",
              "      <td>1</td>\n",
              "      <td>1</td>\n",
              "      <td>female</td>\n",
              "      <td>38.0</td>\n",
              "      <td>1</td>\n",
              "      <td>0</td>\n",
              "      <td>71.2833</td>\n",
              "      <td>C</td>\n",
              "      <td>First</td>\n",
              "      <td>woman</td>\n",
              "      <td>False</td>\n",
              "      <td>C</td>\n",
              "      <td>Cherbourg</td>\n",
              "      <td>yes</td>\n",
              "      <td>False</td>\n",
              "    </tr>\n",
              "    <tr>\n",
              "      <th>2</th>\n",
              "      <td>1</td>\n",
              "      <td>3</td>\n",
              "      <td>female</td>\n",
              "      <td>26.0</td>\n",
              "      <td>0</td>\n",
              "      <td>0</td>\n",
              "      <td>7.9250</td>\n",
              "      <td>S</td>\n",
              "      <td>Third</td>\n",
              "      <td>woman</td>\n",
              "      <td>False</td>\n",
              "      <td>NaN</td>\n",
              "      <td>Southampton</td>\n",
              "      <td>yes</td>\n",
              "      <td>True</td>\n",
              "    </tr>\n",
              "    <tr>\n",
              "      <th>3</th>\n",
              "      <td>1</td>\n",
              "      <td>1</td>\n",
              "      <td>female</td>\n",
              "      <td>35.0</td>\n",
              "      <td>1</td>\n",
              "      <td>0</td>\n",
              "      <td>53.1000</td>\n",
              "      <td>S</td>\n",
              "      <td>First</td>\n",
              "      <td>woman</td>\n",
              "      <td>False</td>\n",
              "      <td>C</td>\n",
              "      <td>Southampton</td>\n",
              "      <td>yes</td>\n",
              "      <td>False</td>\n",
              "    </tr>\n",
              "    <tr>\n",
              "      <th>4</th>\n",
              "      <td>0</td>\n",
              "      <td>3</td>\n",
              "      <td>male</td>\n",
              "      <td>35.0</td>\n",
              "      <td>0</td>\n",
              "      <td>0</td>\n",
              "      <td>8.0500</td>\n",
              "      <td>S</td>\n",
              "      <td>Third</td>\n",
              "      <td>man</td>\n",
              "      <td>True</td>\n",
              "      <td>NaN</td>\n",
              "      <td>Southampton</td>\n",
              "      <td>no</td>\n",
              "      <td>True</td>\n",
              "    </tr>\n",
              "  </tbody>\n",
              "</table>\n",
              "</div>"
            ],
            "text/plain": [
              "   survived  pclass     sex   age  ...  deck  embark_town  alive  alone\n",
              "0         0       3    male  22.0  ...   NaN  Southampton     no  False\n",
              "1         1       1  female  38.0  ...     C    Cherbourg    yes  False\n",
              "2         1       3  female  26.0  ...   NaN  Southampton    yes   True\n",
              "3         1       1  female  35.0  ...     C  Southampton    yes  False\n",
              "4         0       3    male  35.0  ...   NaN  Southampton     no   True\n",
              "\n",
              "[5 rows x 15 columns]"
            ]
          },
          "metadata": {
            "tags": []
          },
          "execution_count": 6
        }
      ]
    },
    {
      "cell_type": "code",
      "metadata": {
        "id": "H66fpbxDKBvt"
      },
      "source": [
        "# Take a SRS from the population\r\n",
        "sample_size = 100\r\n",
        "sample_df = df.sample(sample_size, replace=True)"
      ],
      "execution_count": 7,
      "outputs": []
    },
    {
      "cell_type": "markdown",
      "metadata": {
        "id": "1sFQk_2zJOWO"
      },
      "source": [
        "## What is the 95% CI for the 'fare' price"
      ]
    },
    {
      "cell_type": "code",
      "metadata": {
        "colab": {
          "base_uri": "https://localhost:8080/"
        },
        "id": "rVtI-wh_bmP3",
        "outputId": "7f2b8be0-48b9-4db7-ac7e-cf028016b791"
      },
      "source": [
        "# Compute the mean, std for the 'fare' from our population\r\n",
        "# This is not going to be used in inference, it is just for comparision\r\n",
        "pop_mean, pop_std = df['fare'].mean(), df['fare'].std()\r\n",
        "pop_mean, pop_std"
      ],
      "execution_count": 8,
      "outputs": [
        {
          "output_type": "execute_result",
          "data": {
            "text/plain": [
              "(32.2042079685746, 49.693428597180905)"
            ]
          },
          "metadata": {
            "tags": []
          },
          "execution_count": 8
        }
      ]
    },
    {
      "cell_type": "markdown",
      "metadata": {
        "id": "UBC_VoHVbeEK"
      },
      "source": [
        "### Traditional Approach"
      ]
    },
    {
      "cell_type": "code",
      "metadata": {
        "colab": {
          "base_uri": "https://localhost:8080/"
        },
        "id": "G8amhN_ibcy7",
        "outputId": "82b16116-9fe3-4aa0-b1d3-c7d3161824f2"
      },
      "source": [
        "# calculate the sample_mean and sample_standard_deviation\r\n",
        "sample_mean = sample_df['fare'].mean()\r\n",
        "standard_error = sample_df['fare'].std()/np.sqrt(sample_size)\r\n",
        "\r\n",
        "sample_mean, standard_error"
      ],
      "execution_count": 9,
      "outputs": [
        {
          "output_type": "execute_result",
          "data": {
            "text/plain": [
              "(32.30787600000001, 3.8675240649135048)"
            ]
          },
          "metadata": {
            "tags": []
          },
          "execution_count": 9
        }
      ]
    },
    {
      "cell_type": "code",
      "metadata": {
        "colab": {
          "base_uri": "https://localhost:8080/"
        },
        "id": "RCohIz2eTiR9",
        "outputId": "949cce3d-e170-475a-e716-676b0fddb0e5"
      },
      "source": [
        "# the critical value for 95% CI using the Z-Dist\r\n",
        "stats.norm.ppf(0.025), stats.norm.ppf(.975)"
      ],
      "execution_count": 10,
      "outputs": [
        {
          "output_type": "execute_result",
          "data": {
            "text/plain": [
              "(-1.9599639845400545, 1.959963984540054)"
            ]
          },
          "metadata": {
            "tags": []
          },
          "execution_count": 10
        }
      ]
    },
    {
      "cell_type": "code",
      "metadata": {
        "colab": {
          "base_uri": "https://localhost:8080/"
        },
        "id": "Ix-4xPBHT0Bu",
        "outputId": "799c1d92-7510-4dbc-87a3-30397c7ffde2"
      },
      "source": [
        "# the critical value for 95% CI using the T-Dist\r\n",
        "stats.t.ppf(0.025, df=sample_size-1), stats.t.ppf(.975, df=sample_size-1)"
      ],
      "execution_count": 11,
      "outputs": [
        {
          "output_type": "execute_result",
          "data": {
            "text/plain": [
              "(-1.9842169515086832, 1.9842169515086827)"
            ]
          },
          "metadata": {
            "tags": []
          },
          "execution_count": 11
        }
      ]
    },
    {
      "cell_type": "markdown",
      "metadata": {
        "id": "CNx45FskUaJo"
      },
      "source": [
        "Since we're inferencing the population mean, and our sample size is 'small', we can't use the z-distribution, and have to use the t-distribution"
      ]
    },
    {
      "cell_type": "code",
      "metadata": {
        "colab": {
          "base_uri": "https://localhost:8080/"
        },
        "id": "d3a3gFQ2TP7k",
        "outputId": "7bfd7144-601e-43fb-bb0a-73cc690ccff5"
      },
      "source": [
        "# Calculate the critical value for 95% CI (between 2.5% and 97.5%)\r\n",
        "critical_value = stats.t.ppf(.975, df=sample_size-1)\r\n",
        "\r\n",
        "critical_value"
      ],
      "execution_count": 12,
      "outputs": [
        {
          "output_type": "execute_result",
          "data": {
            "text/plain": [
              "1.9842169515086827"
            ]
          },
          "metadata": {
            "tags": []
          },
          "execution_count": 12
        }
      ]
    },
    {
      "cell_type": "code",
      "metadata": {
        "colab": {
          "base_uri": "https://localhost:8080/"
        },
        "id": "1bPuAnFsTMkj",
        "outputId": "74a229e5-13e6-4b5f-e94f-5647dadf322d"
      },
      "source": [
        "# Calculate the 95% CI\r\n",
        "ci_lower = sample_mean-standard_error*critical_value\r\n",
        "ci_upper = sample_mean+standard_error*critical_value\r\n",
        "\r\n",
        "ci_lower, ci_lower"
      ],
      "execution_count": 13,
      "outputs": [
        {
          "output_type": "execute_result",
          "data": {
            "text/plain": [
              "(24.633869190030865, 24.633869190030865)"
            ]
          },
          "metadata": {
            "tags": []
          },
          "execution_count": 13
        }
      ]
    },
    {
      "cell_type": "code",
      "metadata": {
        "colab": {
          "base_uri": "https://localhost:8080/"
        },
        "id": "x6NE-6O5VSz2",
        "outputId": "7f45233c-f642-4a02-d289-f3c04fc0220f"
      },
      "source": [
        "# Print the results\r\n",
        "print(\"Statistic:\", sample_mean)\r\n",
        "print(\"Confidence Interval:\", ci_lower, ci_upper)\r\n",
        "print(\"Margin of Error: +-\", critical_value*standard_error)"
      ],
      "execution_count": 14,
      "outputs": [
        {
          "output_type": "stream",
          "text": [
            "Statistic: 32.30787600000001\n",
            "Confidence Interval: 24.633869190030865 39.98188280996915\n",
            "Margin of Error: +- 7.674006809969143\n"
          ],
          "name": "stdout"
        }
      ]
    },
    {
      "cell_type": "code",
      "metadata": {
        "colab": {
          "base_uri": "https://localhost:8080/"
        },
        "id": "dgKQtKcff3_7",
        "outputId": "f3832b27-9364-43e0-fa03-055b1b82419b"
      },
      "source": [
        "# 95% CI using the statsmodels\r\n",
        "sms.DescrStatsW(sample_df['fare']).tconfint_mean(alpha=0.05)"
      ],
      "execution_count": 15,
      "outputs": [
        {
          "output_type": "execute_result",
          "data": {
            "text/plain": [
              "(24.633869190030854, 39.98188280996915)"
            ]
          },
          "metadata": {
            "tags": []
          },
          "execution_count": 15
        }
      ]
    },
    {
      "cell_type": "code",
      "metadata": {
        "colab": {
          "base_uri": "https://localhost:8080/"
        },
        "id": "7rqhja-rpMOw",
        "outputId": "05550a61-8388-4263-e003-7e1950748d89"
      },
      "source": [
        "# 95% CI using the scipy\r\n",
        "stats.t.interval(0.95, df=sample_size-1 ,loc=sample_mean, scale=standard_error)"
      ],
      "execution_count": 16,
      "outputs": [
        {
          "output_type": "execute_result",
          "data": {
            "text/plain": [
              "(24.633869190030865, 39.98188280996915)"
            ]
          },
          "metadata": {
            "tags": []
          },
          "execution_count": 16
        }
      ]
    },
    {
      "cell_type": "code",
      "metadata": {
        "colab": {
          "base_uri": "https://localhost:8080/",
          "height": 267
        },
        "id": "TmN2itiLqbMq",
        "outputId": "cd91300b-919c-4afc-c063-9dd2400545a2"
      },
      "source": [
        "# Plot the sample distribution \r\n",
        "plt.hist(np.random.normal(sample_mean, standard_error, 10000), bins=20, alpha=.2)\r\n",
        "plt.axvline(x = pop_mean, color = \"black\", linestyle = \"dotted\", label='Population Mean')\r\n",
        "plt.axvline(x = sample_mean, color = \"red\", linestyle = \"dotted\", label='Sample Mean')\r\n",
        "plt.axvline(x = ci_lower, color = \"pink\", linestyle = \"dotted\", label='CI 95%')\r\n",
        "plt.axvline(x = ci_upper, color = \"pink\", linestyle = \"dotted\")\r\n",
        "plt.legend()\r\n",
        "plt.show()"
      ],
      "execution_count": 17,
      "outputs": [
        {
          "output_type": "display_data",
          "data": {
            "image/png": "[encoded data removed]",
            "text/plain": [
              "<Figure size 432x288 with 1 Axes>"
            ]
          },
          "metadata": {
            "tags": [],
            "needs_background": "light"
          }
        }
      ]
    },
    {
      "cell_type": "markdown",
      "metadata": {
        "id": "64m0W-fYckbK"
      },
      "source": [
        "### Bootstraping Approach\r\n",
        "1. Take the sample\r\n",
        "2. Take n bootstrap samples from the sample\r\n",
        "3. Compute the mean for each bootstrap sample\r\n",
        "4. Compute the percentiles (.025 and .0975) of the bootstrap sample means"
      ]
    },
    {
      "cell_type": "code",
      "metadata": {
        "id": "zJsaJaw8cpHK"
      },
      "source": [
        "# take n bootstrap samples from the sample\r\n",
        "bootstrap_means_list = []\r\n",
        "for _ in range(10000):\r\n",
        "  # take one bootstrap sample\r\n",
        "  bootstrap_sample = sample_df.sample(sample_size, replace=True)\r\n",
        "  # compute the statistic for each sample\r\n",
        "  bootstrap_mean = bootstrap_sample['fare'].mean()\r\n",
        "  # add to the list\r\n",
        "  bootstrap_means_list.append(bootstrap_mean)\r\n",
        "\r\n",
        "# use the list to generate a DataFrame (for ease of use)\r\n",
        "bootstrap_means_df = pd.DataFrame({\"Bootstrap\":bootstrap_means_list})"
      ],
      "execution_count": 19,
      "outputs": []
    },
    {
      "cell_type": "code",
      "metadata": {
        "colab": {
          "base_uri": "https://localhost:8080/"
        },
        "id": "bxslDA6SzKo6",
        "outputId": "b5ec1576-cc19-4b86-bda5-8813b4b0196b"
      },
      "source": [
        "# Calculate the sample distribution mean\r\n",
        "bootstrap_mean = bootstrap_means_df['Bootstrap'].mean()\r\n",
        "bootstrap_mean"
      ],
      "execution_count": 20,
      "outputs": [
        {
          "output_type": "execute_result",
          "data": {
            "text/plain": [
              "32.26785016590022"
            ]
          },
          "metadata": {
            "tags": []
          },
          "execution_count": 20
        }
      ]
    },
    {
      "cell_type": "code",
      "metadata": {
        "colab": {
          "base_uri": "https://localhost:8080/"
        },
        "id": "hcy600wfxLhe",
        "outputId": "2aaf62b5-52ad-419c-c5d6-1a036260feff"
      },
      "source": [
        "# Calculate the 95% CI using the percentiles from the bootstrap sample means\r\n",
        "bootstrap_ci_lower = bootstrap_means_df['Bootstrap'].quantile(.025)\r\n",
        "bootstrap_ci_upper = bootstrap_means_df['Bootstrap'].quantile(.975)\r\n",
        "bootstrap_ci_lower, bootstrap_ci_upper"
      ],
      "execution_count": 21,
      "outputs": [
        {
          "output_type": "execute_result",
          "data": {
            "text/plain": [
              "(25.266348925000003, 40.31551502500002)"
            ]
          },
          "metadata": {
            "tags": []
          },
          "execution_count": 21
        }
      ]
    },
    {
      "cell_type": "code",
      "metadata": {
        "colab": {
          "base_uri": "https://localhost:8080/"
        },
        "id": "U7dk4hfmw8_I",
        "outputId": "bb515edc-e4ae-41f3-ef4a-dc83b5c3f11d"
      },
      "source": [
        "# Print the results\r\n",
        "print(\"Statistic:\", bootstrap_mean)\r\n",
        "print(\"Confidence Interval:\", bootstrap_ci_lower, bootstrap_ci_upper)\r\n",
        "print(\"Margin of Error: TODO\") # What is the right way to calculate the Margin of Error (since quantiles are not symetric)"
      ],
      "execution_count": 22,
      "outputs": [
        {
          "output_type": "stream",
          "text": [
            "Statistic: 32.26785016590022\n",
            "Confidence Interval: 25.266348925000003 40.31551502500002\n",
            "Margin of Error: TODO\n"
          ],
          "name": "stdout"
        }
      ]
    },
    {
      "cell_type": "code",
      "metadata": {
        "colab": {
          "base_uri": "https://localhost:8080/",
          "height": 0
        },
        "id": "GlckI4lguth1",
        "outputId": "560ee8d9-e680-4c2d-d73e-53cd9de0f669"
      },
      "source": [
        "# plot the distribution from the bootstrap means \r\n",
        "bootstrap_means_df.plot(kind='hist', bins=20, alpha=0.2)\r\n",
        "plt.axvline(x = pop_mean, color = \"black\", linestyle = \"dotted\", label='Population Mean')\r\n",
        "plt.axvline(x = bootstrap_mean, color = \"red\", linestyle = \"dotted\", label='Sample Mean')\r\n",
        "plt.axvline(x = bootstrap_ci_lower, color = \"pink\", linestyle = \"dotted\", label='CI 95%')\r\n",
        "plt.axvline(x = bootstrap_ci_upper, color = \"pink\", linestyle = \"dotted\")\r\n",
        "plt.legend()\r\n",
        "plt.show()"
      ],
      "execution_count": 23,
      "outputs": [
        {
          "output_type": "display_data",
          "data": {
            "image/png": "[encoded data removed]",
            "text/plain": [
              "<Figure size 432x288 with 1 Axes>"
            ]
          },
          "metadata": {
            "tags": [],
            "needs_background": "light"
          }
        }
      ]
    },
    {
      "cell_type": "markdown",
      "metadata": {
        "id": "gnUKkyrljGay"
      },
      "source": [
        "## Do men pay more for the ticket than women?\r\n",
        "\r\n",
        "\r\n",
        "$$ H_0: \\mu_{male} - \\mu_{female} \\le 0 $$\r\n",
        "\r\n",
        "$$ H_1: \\mu_{male} - \\mu_{female} \\gt 0 $$"
      ]
    },
    {
      "cell_type": "markdown",
      "metadata": {
        "id": "ItAuVmjt_A-T"
      },
      "source": [
        "### Traditional Approach\r\n",
        "\r\n",
        "The traditional approach to this type of hypothesis is to perform a t-test for the means of two independent samples, a.k.a. Two Sample T-Test."
      ]
    },
    {
      "cell_type": "code",
      "metadata": {
        "id": "50tiNfH9vkaf"
      },
      "source": [
        "# define the significance level for our hypotesis tests\r\n",
        "alpha = 0.05"
      ],
      "execution_count": 24,
      "outputs": []
    },
    {
      "cell_type": "code",
      "metadata": {
        "id": "W4-zdnx0tGF0"
      },
      "source": [
        "# separate the gender's fare's in two dataframes\r\n",
        "male_fares_df = sample_df[sample_df['sex']=='male']['fare']\r\n",
        "female_fares_df = sample_df[sample_df['sex']=='female']['fare']"
      ],
      "execution_count": 25,
      "outputs": []
    },
    {
      "cell_type": "code",
      "metadata": {
        "colab": {
          "base_uri": "https://localhost:8080/"
        },
        "id": "xvtn2kgkte82",
        "outputId": "25f1e1bb-892e-4562-fb06-f3d6bcdef0a2"
      },
      "source": [
        "# Performe the levene test to check if the variances are statistically equal or not,\r\n",
        "_, pvalue_levene = stats.levene(male_fares_df, female_fares_df)\r\n",
        "\r\n",
        "# use levene's result to decide if the variances are equal or not \r\n",
        "equal_variances = pvalue_levene < alpha\r\n",
        "\r\n",
        "equal_variances"
      ],
      "execution_count": 26,
      "outputs": [
        {
          "output_type": "execute_result",
          "data": {
            "text/plain": [
              "False"
            ]
          },
          "metadata": {
            "tags": []
          },
          "execution_count": 26
        }
      ]
    },
    {
      "cell_type": "code",
      "metadata": {
        "colab": {
          "base_uri": "https://localhost:8080/"
        },
        "id": "kzaPaUZkttX3",
        "outputId": "21c8c35b-ae87-40b2-e55d-3bbfb9e22953"
      },
      "source": [
        "# Use scypy.stats.ttest_ind to perform the two sample t-test\r\n",
        "_, pvalue_ttest = stats.ttest_ind(male_fares_df, female_fares_df, equal_var=equal_variances)\r\n",
        "\r\n",
        "pvalue_ttest"
      ],
      "execution_count": 27,
      "outputs": [
        {
          "output_type": "execute_result",
          "data": {
            "text/plain": [
              "0.03324924715394493"
            ]
          },
          "metadata": {
            "tags": []
          },
          "execution_count": 27
        }
      ]
    },
    {
      "cell_type": "code",
      "metadata": {
        "colab": {
          "base_uri": "https://localhost:8080/"
        },
        "id": "7kRw1f8ywN0t",
        "outputId": "47bd09f6-f153-4384-b912-76a7d28f732c"
      },
      "source": [
        "# Use the t-test two sample result to evaluate H0\r\n",
        "if (pvalue_ttest < alpha):\r\n",
        "  print(\"We have evidence to reject the null hypothesis. Men pay more for tickets than women.\")\r\n",
        "else:\r\n",
        "  print(\"We don't have evidence to reject the null hypothesis. Men don't pay more for tickets than women.\")"
      ],
      "execution_count": 28,
      "outputs": [
        {
          "output_type": "stream",
          "text": [
            "We have evidence to reject the null hypothesis. Men pay more for tickets than women.\n"
          ],
          "name": "stdout"
        }
      ]
    },
    {
      "cell_type": "markdown",
      "metadata": {
        "id": "lZZw2SGj-WB4"
      },
      "source": [
        "### Bootstrap Approach\r\n",
        "\r\n",
        "1. Take the sample\r\n",
        "2. Take n bootstrap samples from the sample\r\n",
        "3. Compute the mean for each bootstrap sample\r\n",
        "4. Simulate the distribution under H0\r\n",
        "5. Compare the booststrap sample distribution and the H0 distribution  "
      ]
    },
    {
      "cell_type": "code",
      "metadata": {
        "id": "wTpUZBHwkJNf"
      },
      "source": [
        "bootstrap_means_male, bootstrap_means_female = [], []\r\n",
        "\r\n",
        "for _ in range(10000):\r\n",
        "  bootstrap_sample = sample_df.sample(sample_size, replace=True)\r\n",
        "  bootstrap_means_male.append(bootstrap_sample[bootstrap_sample['sex']=='male']['fare'].mean())\r\n",
        "  bootstrap_means_female.append(bootstrap_sample[bootstrap_sample['sex']=='female']['fare'].mean())\r\n",
        "\r\n",
        "bootstrap_means_df = pd.DataFrame({'male':bootstrap_means_male, 'female':bootstrap_means_female})\r\n",
        "bootstrap_means_df['diff'] = bootstrap_means_df['male']-bootstrap_means_df['female']"
      ],
      "execution_count": 29,
      "outputs": []
    },
    {
      "cell_type": "code",
      "metadata": {
        "colab": {
          "base_uri": "https://localhost:8080/",
          "height": 205
        },
        "id": "u_b4pW5HpK0E",
        "outputId": "b0edbc5b-05ad-4c21-86bd-0d98a685cda7"
      },
      "source": [
        "bootstrap_means_df.head()"
      ],
      "execution_count": 30,
      "outputs": [
        {
          "output_type": "execute_result",
          "data": {
            "text/html": [
              "<div>\n",
              "<style scoped>\n",
              "    .dataframe tbody tr th:only-of-type {\n",
              "        vertical-align: middle;\n",
              "    }\n",
              "\n",
              "    .dataframe tbody tr th {\n",
              "        vertical-align: top;\n",
              "    }\n",
              "\n",
              "    .dataframe thead th {\n",
              "        text-align: right;\n",
              "    }\n",
              "</style>\n",
              "<table border=\"1\" class=\"dataframe\">\n",
              "  <thead>\n",
              "    <tr style=\"text-align: right;\">\n",
              "      <th></th>\n",
              "      <th>male</th>\n",
              "      <th>female</th>\n",
              "      <th>diff</th>\n",
              "    </tr>\n",
              "  </thead>\n",
              "  <tbody>\n",
              "    <tr>\n",
              "      <th>0</th>\n",
              "      <td>26.189661</td>\n",
              "      <td>28.689677</td>\n",
              "      <td>-2.500017</td>\n",
              "    </tr>\n",
              "    <tr>\n",
              "      <th>1</th>\n",
              "      <td>24.615509</td>\n",
              "      <td>43.970926</td>\n",
              "      <td>-19.355417</td>\n",
              "    </tr>\n",
              "    <tr>\n",
              "      <th>2</th>\n",
              "      <td>28.061589</td>\n",
              "      <td>42.895376</td>\n",
              "      <td>-14.833786</td>\n",
              "    </tr>\n",
              "    <tr>\n",
              "      <th>3</th>\n",
              "      <td>24.639906</td>\n",
              "      <td>38.310333</td>\n",
              "      <td>-13.670428</td>\n",
              "    </tr>\n",
              "    <tr>\n",
              "      <th>4</th>\n",
              "      <td>23.572148</td>\n",
              "      <td>36.881796</td>\n",
              "      <td>-13.309648</td>\n",
              "    </tr>\n",
              "  </tbody>\n",
              "</table>\n",
              "</div>"
            ],
            "text/plain": [
              "        male     female       diff\n",
              "0  26.189661  28.689677  -2.500017\n",
              "1  24.615509  43.970926 -19.355417\n",
              "2  28.061589  42.895376 -14.833786\n",
              "3  24.639906  38.310333 -13.670428\n",
              "4  23.572148  36.881796 -13.309648"
            ]
          },
          "metadata": {
            "tags": []
          },
          "execution_count": 30
        }
      ]
    },
    {
      "cell_type": "code",
      "metadata": {
        "colab": {
          "base_uri": "https://localhost:8080/"
        },
        "id": "cJvvONerpk0U",
        "outputId": "3afb02fc-fdd7-4825-e1ce-3cb60997ac42"
      },
      "source": [
        "print(bootstrap_means_df['male'].mean())\r\n",
        "print(bootstrap_means_df['female'].mean())"
      ],
      "execution_count": 31,
      "outputs": [
        {
          "output_type": "stream",
          "text": [
            "24.320681982384233\n",
            "41.57446024124251\n"
          ],
          "name": "stdout"
        }
      ]
    },
    {
      "cell_type": "code",
      "metadata": {
        "colab": {
          "base_uri": "https://localhost:8080/",
          "height": 282
        },
        "id": "cxkDgWCPrWBd",
        "outputId": "238de7d5-873b-4ac1-9341-aa95bb99cca4"
      },
      "source": [
        "# Plot both (male and female) bootstraps distributions of the means \r\n",
        "bootstrap_means_df[['male', 'female']].plot(kind='hist', bins=20, alpha=.2)"
      ],
      "execution_count": 32,
      "outputs": [
        {
          "output_type": "execute_result",
          "data": {
            "text/plain": [
              "<matplotlib.axes._subplots.AxesSubplot at 0x7f93bf5bbb38>"
            ]
          },
          "metadata": {
            "tags": []
          },
          "execution_count": 32
        },
        {
          "output_type": "display_data",
          "data": {
            "image/png": "[encoded data removed]",
            "text/plain": [
              "<Figure size 432x288 with 1 Axes>"
            ]
          },
          "metadata": {
            "tags": [],
            "needs_background": "light"
          }
        }
      ]
    },
    {
      "cell_type": "code",
      "metadata": {
        "colab": {
          "base_uri": "https://localhost:8080/",
          "height": 282
        },
        "id": "zg-GQlFjvVsU",
        "outputId": "d33cb89d-4dbb-4f2b-bfa7-b06afe73c0ea"
      },
      "source": [
        "# Plot the diff distribution \r\n",
        "bootstrap_means_df['diff'].plot(kind='hist', bins=20, alpha=.2)"
      ],
      "execution_count": 33,
      "outputs": [
        {
          "output_type": "execute_result",
          "data": {
            "text/plain": [
              "<matplotlib.axes._subplots.AxesSubplot at 0x7f93bf2e6ef0>"
            ]
          },
          "metadata": {
            "tags": []
          },
          "execution_count": 33
        },
        {
          "output_type": "display_data",
          "data": {
            "image/png": "[encoded data removed]",
            "text/plain": [
              "<Figure size 432x288 with 1 Axes>"
            ]
          },
          "metadata": {
            "tags": [],
            "needs_background": "light"
          }
        }
      ]
    },
    {
      "cell_type": "code",
      "metadata": {
        "id": "yqKu1eJ4xFRe"
      },
      "source": [
        "# Simulate the distribution under the null hypothesis\r\n",
        "diff_means_h0 = []\r\n",
        "for _ in range(10000):\r\n",
        "  diff_means_h0.append(np.random.normal(0, bootstrap_means_df['diff'].std(), size=sample_size).mean())\r\n",
        "\r\n",
        "bootstrap_means_df['diff_h0'] = diff_means_h0"
      ],
      "execution_count": 34,
      "outputs": []
    },
    {
      "cell_type": "code",
      "metadata": {
        "colab": {
          "base_uri": "https://localhost:8080/",
          "height": 282
        },
        "id": "lZ1GTcA6yahf",
        "outputId": "7641096f-d7b8-4eb4-b695-620d7386b5c6"
      },
      "source": [
        "# Plot the null distribution \r\n",
        "bootstrap_means_df['diff_h0'].plot(kind='hist', bins=20, alpha=.2)"
      ],
      "execution_count": 39,
      "outputs": [
        {
          "output_type": "execute_result",
          "data": {
            "text/plain": [
              "<matplotlib.axes._subplots.AxesSubplot at 0x7f93bf1c50f0>"
            ]
          },
          "metadata": {
            "tags": []
          },
          "execution_count": 39
        },
        {
          "output_type": "display_data",
          "data": {
            "image/png": "[encoded data removed]",
            "text/plain": [
              "<Figure size 432x288 with 1 Axes>"
            ]
          },
          "metadata": {
            "tags": [],
            "needs_background": "light"
          }
        }
      ]
    },
    {
      "cell_type": "code",
      "metadata": {
        "id": "GY-pSar2Ntiz",
        "outputId": "8e670eea-053d-4125-c20e-61d20e86fc30",
        "colab": {
          "base_uri": "https://localhost:8080/",
          "height": 282
        }
      },
      "source": [
        "# Plot both (diff and h0) bootstraps distributions of the means \r\n",
        "bootstrap_means_df[['diff', 'diff_h0']].plot(kind='hist', bins=20, alpha=.2)"
      ],
      "execution_count": 40,
      "outputs": [
        {
          "output_type": "execute_result",
          "data": {
            "text/plain": [
              "<matplotlib.axes._subplots.AxesSubplot at 0x7f93bf00ed30>"
            ]
          },
          "metadata": {
            "tags": []
          },
          "execution_count": 40
        },
        {
          "output_type": "display_data",
          "data": {
            "image/png": "[encoded data removed]",
            "text/plain": [
              "<Figure size 432x288 with 1 Axes>"
            ]
          },
          "metadata": {
            "tags": [],
            "needs_background": "light"
          }
        }
      ]
    },
    {
      "cell_type": "code",
      "metadata": {
        "colab": {
          "base_uri": "https://localhost:8080/"
        },
        "id": "WKnQ3QztygYK",
        "outputId": "e455306a-8b24-4932-f2cb-c440cff85d03"
      },
      "source": [
        "# Calculate p_value\r\n",
        "pvalue_bootstrap = (bootstrap_means_df['diff'] > bootstrap_means_df['diff_h0']).mean()\r\n",
        "pvalue_bootstrap"
      ],
      "execution_count": 36,
      "outputs": [
        {
          "output_type": "execute_result",
          "data": {
            "text/plain": [
              "0.0119"
            ]
          },
          "metadata": {
            "tags": []
          },
          "execution_count": 36
        }
      ]
    },
    {
      "cell_type": "code",
      "metadata": {
        "colab": {
          "base_uri": "https://localhost:8080/"
        },
        "id": "8j9UTdtaxRAU",
        "outputId": "8d056ce7-2465-4f9d-dc01-8edd144af611"
      },
      "source": [
        "# Use the pvalue to evaluate H0\r\n",
        "if (pvalue_bootstrap < alpha):\r\n",
        "  print(\"We have evidence to reject the null hypothesis. Men pay more for tickets than women.\")\r\n",
        "else:\r\n",
        "  print(\"We don't have evidence to reject the null hypothesis. Men pay as much as women for tickets.\")"
      ],
      "execution_count": 37,
      "outputs": [
        {
          "output_type": "stream",
          "text": [
            "We have evidence to reject the null hypothesis. Men pay more for tickets than women.\n"
          ],
          "name": "stdout"
        }
      ]
    }
  ]
}